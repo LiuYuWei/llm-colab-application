{
  "nbformat": 4,
  "nbformat_minor": 0,
  "metadata": {
    "colab": {
      "provenance": []
    },
    "kernelspec": {
      "name": "python3",
      "display_name": "Python 3"
    },
    "language_info": {
      "name": "python"
    }
  },
  "cells": [
    {
      "cell_type": "markdown",
      "source": [
        "# 使用 openai-agent 的 python-sdk 來 透過 Google Gemini Model API 建立各種 Agents\n",
        "\n",
        "> 作者: Simon Liu"
      ],
      "metadata": {
        "id": "BLY2gaU843dx"
      }
    },
    {
      "cell_type": "markdown",
      "source": [
        "## I. 安裝 OpenAI Agents python package"
      ],
      "metadata": {
        "id": "It_ocGyB6JWm"
      }
    },
    {
      "cell_type": "code",
      "source": [
        "!pip install -q openai-agents"
      ],
      "metadata": {
        "id": "I6jUbYjKzjo_"
      },
      "execution_count": null,
      "outputs": []
    },
    {
      "cell_type": "markdown",
      "source": [
        "## II. 設定 Agent SDK ，並且將 Google Gemini API Key 等資訊設定進去。"
      ],
      "metadata": {
        "id": "3rLaDL9d6Sen"
      }
    },
    {
      "cell_type": "code",
      "source": [
        "import os\n",
        "import asyncio\n",
        "\n",
        "from openai import AsyncOpenAI\n",
        "from agents import Agent, OpenAIChatCompletionsModel, Runner, function_tool, set_tracing_disabled"
      ],
      "metadata": {
        "id": "w4wMirh9zirp"
      },
      "execution_count": 3,
      "outputs": []
    },
    {
      "cell_type": "code",
      "source": [
        "from google.colab import userdata\n",
        "\n",
        "BASE_URL = os.getenv(\"EXAMPLE_BASE_URL\") or \"https://generativelanguage.googleapis.com/v1beta/openai/\"\n",
        "API_KEY = os.getenv(\"EXAMPLE_API_KEY\") or userdata.get('GOOGLE_API_KEY')\n",
        "MODEL_NAME = os.getenv(\"EXAMPLE_MODEL_NAME\") or \"gemini-2.0-flash\"\n",
        "\n",
        "if not BASE_URL or not API_KEY or not MODEL_NAME:\n",
        "    raise ValueError(\n",
        "        \"Please set EXAMPLE_BASE_URL, EXAMPLE_API_KEY, EXAMPLE_MODEL_NAME via env var or code.\"\n",
        "    )"
      ],
      "metadata": {
        "id": "5dx8e1Agzy1h"
      },
      "execution_count": 5,
      "outputs": []
    },
    {
      "cell_type": "code",
      "source": [
        "client = AsyncOpenAI(base_url=BASE_URL, api_key=API_KEY)\n",
        "set_tracing_disabled(disabled=True)"
      ],
      "metadata": {
        "id": "skRFPl7-0NBT"
      },
      "execution_count": 6,
      "outputs": []
    },
    {
      "cell_type": "markdown",
      "source": [
        "## III. 建立第一個 Agent: 取得地區天氣（非真實串接，只是吐回文字）"
      ],
      "metadata": {
        "id": "am2NpN196e28"
      }
    },
    {
      "cell_type": "code",
      "execution_count": 11,
      "metadata": {
        "id": "OWTbyI1czhPw"
      },
      "outputs": [],
      "source": [
        "@function_tool\n",
        "def get_weather(city: str):\n",
        "    print(f\"[debug] getting weather for {city}\")\n",
        "    return f\"The weather in {city} is sunny.\"\n",
        "\n",
        "\n",
        "async def main(prompt = \"What's the weather in Tokyo?\"):\n",
        "    # This agent will use the custom LLM provider\n",
        "    agent = Agent(\n",
        "        name=\"Assistant\",\n",
        "        instructions=\"請使用繁體中文回覆結果\",\n",
        "        model=OpenAIChatCompletionsModel(model=MODEL_NAME, openai_client=client),\n",
        "        tools=[get_weather],\n",
        "    )\n",
        "\n",
        "    result = await Runner.run(agent, prompt)\n",
        "    print(result.final_output)"
      ]
    },
    {
      "cell_type": "code",
      "source": [
        "await main(\"請問台北的天氣如何？\")"
      ],
      "metadata": {
        "colab": {
          "base_uri": "https://localhost:8080/"
        },
        "id": "ZVdl22_F0RQl",
        "outputId": "a0cb52ee-87e7-4373-fbbd-6eb37d0d609d"
      },
      "execution_count": 18,
      "outputs": [
        {
          "output_type": "stream",
          "name": "stdout",
          "text": [
            "[debug] getting weather for 台北\n",
            "台北的天氣是晴朗的。\n",
            "\n"
          ]
        }
      ]
    },
    {
      "cell_type": "markdown",
      "source": [
        "## IV. 中階 Agnet: 四則運算 Agent"
      ],
      "metadata": {
        "id": "3U5JQPy57J_a"
      }
    },
    {
      "cell_type": "code",
      "source": [
        "@function_tool\n",
        "def calculate(a: float, b: float, operator: str):\n",
        "    print(f\"[debug] calculating: {a} {operator} {b}\")\n",
        "    if operator == '+':\n",
        "        return f\"結果是 {a + b}\"\n",
        "    elif operator == '-':\n",
        "        return f\"結果是 {a - b}\"\n",
        "    elif operator == '*':\n",
        "        return f\"結果是 {a * b}\"\n",
        "    elif operator == '/':\n",
        "        if b == 0:\n",
        "            return \"錯誤：除數不能為零。\"\n",
        "        return f\"結果是 {a / b}\"\n",
        "    else:\n",
        "        return \"錯誤：不支援的運算符，請使用 '+', '-', '*', '/' 其中之一。\"\n",
        "\n",
        "async def main(prompt=\"幫我算 12 除以 4\"):\n",
        "    agent = Agent(\n",
        "        name=\"Calculator\",\n",
        "        instructions=\"請使用繁體中文回覆結果\",\n",
        "        model=OpenAIChatCompletionsModel(model=MODEL_NAME, openai_client=client),\n",
        "        tools=[calculate],\n",
        "    )\n",
        "\n",
        "    result = await Runner.run(agent, prompt)\n",
        "    print(result.final_output)\n"
      ],
      "metadata": {
        "id": "Sp5DP0zO01aG"
      },
      "execution_count": 19,
      "outputs": []
    },
    {
      "cell_type": "code",
      "source": [
        "await main(\"請問312除以四的平方，然後再加555是多少？\")"
      ],
      "metadata": {
        "colab": {
          "base_uri": "https://localhost:8080/"
        },
        "id": "F37OjRzO1EiW",
        "outputId": "8c422502-0441-49a6-b2c5-bb48e24a80ef"
      },
      "execution_count": 21,
      "outputs": [
        {
          "output_type": "stream",
          "name": "stdout",
          "text": [
            "[debug] calculating: 4.0 * 4.0\n",
            "[debug] calculating: 312.0 / 16.0\n",
            "[debug] calculating: 19.5 + 555.0\n",
            "312 除以四的平方，然後再加 555 是 574.5。\n",
            "\n"
          ]
        }
      ]
    },
    {
      "cell_type": "markdown",
      "source": [
        "## V. 高階 Agents: 透過 xgboost 進行模型訓練"
      ],
      "metadata": {
        "id": "obOdTu6H1eHk"
      }
    },
    {
      "cell_type": "code",
      "source": [
        "import pandas as pd\n",
        "import xgboost as xgb\n",
        "from sklearn.model_selection import train_test_split\n",
        "from sklearn.metrics import accuracy_score\n",
        "from sklearn.preprocessing import LabelEncoder\n",
        "import joblib\n",
        "\n",
        "@function_tool\n",
        "def train_xgboost_model(\n",
        "    data_path: str,\n",
        "    target_column: str,\n",
        "    model_output_path: str = \"xgboost_model.pkl\"\n",
        "):\n",
        "    \"\"\"\n",
        "    訓練一個 XGBoost 分類模型。\n",
        "\n",
        "    Parameters:\n",
        "    - data_path: 資料的 CSV 檔案路徑\n",
        "    - target_column: 目標變數欄位名稱\n",
        "    - model_output_path: 訓練好的模型儲存檔案路徑\n",
        "\n",
        "    Returns:\n",
        "    - 模型訓練的準確率與儲存位置\n",
        "    \"\"\"\n",
        "    print(f\"[debug] loading data from {data_path}\")\n",
        "    df = pd.read_csv(data_path)\n",
        "\n",
        "    if target_column not in df.columns:\n",
        "        return f\"錯誤：指定的目標欄位 '{target_column}' 不存在於資料集中。\"\n",
        "\n",
        "    X = df.drop(columns=[target_column])\n",
        "    y = df[target_column]\n",
        "\n",
        "    # 將非數值類別轉為整數編碼\n",
        "    if y.dtype == 'object' or y.dtype.name == 'category':\n",
        "        print(\"[debug] encoding target labels\")\n",
        "        label_encoder = LabelEncoder()\n",
        "        y = label_encoder.fit_transform(y)\n",
        "        # 可選：儲存 label encoder，供預測階段使用\n",
        "        joblib.dump(label_encoder, model_output_path.replace(\".pkl\", \"_label_encoder.pkl\"))\n",
        "\n",
        "    print(f\"[debug] splitting data\")\n",
        "    X_train, X_test, y_train, y_test = train_test_split(X, y, test_size=0.2, random_state=42)\n",
        "\n",
        "    print(f\"[debug] training XGBoost model\")\n",
        "    model = xgb.XGBClassifier(use_label_encoder=False, eval_metric='logloss')\n",
        "    model.fit(X_train, y_train)\n",
        "\n",
        "    print(f\"[debug] evaluating model\")\n",
        "    y_pred = model.predict(X_test)\n",
        "    acc = accuracy_score(y_test, y_pred)\n",
        "\n",
        "    print(f\"[debug] saving model to {model_output_path}\")\n",
        "    joblib.dump(model, model_output_path)\n",
        "\n",
        "    return f\"模型訓練完成。準確率為 {acc:.2%}，模型與 LabelEncoder 分別儲存於 {model_output_path} 與 {model_output_path.replace('.pkl', '_label_encoder.pkl')}\"\n"
      ],
      "metadata": {
        "id": "buA3_frb1eZV"
      },
      "execution_count": 30,
      "outputs": []
    },
    {
      "cell_type": "code",
      "source": [
        "async def main(prompt):\n",
        "    agent = Agent(\n",
        "        name=\"MLTrainer\",\n",
        "        instructions=\"請使用繁體中文回覆結果\",\n",
        "        model=OpenAIChatCompletionsModel(model=MODEL_NAME, openai_client=client),\n",
        "        tools=[train_xgboost_model],\n",
        "    )\n",
        "\n",
        "    result = await Runner.run(agent, prompt)\n",
        "    print(result.final_output)\n"
      ],
      "metadata": {
        "id": "DizxuK9J1iK1"
      },
      "execution_count": 41,
      "outputs": []
    },
    {
      "cell_type": "markdown",
      "source": [
        "### Case 1: Iris dataset 訓練"
      ],
      "metadata": {
        "id": "B-pgTwi6-uSi"
      }
    },
    {
      "cell_type": "code",
      "source": [
        "# 創建相關資料夾\n",
        "\n",
        "!mkdir data/ model/"
      ],
      "metadata": {
        "id": "uQh2GYll3Jqj"
      },
      "execution_count": 38,
      "outputs": []
    },
    {
      "cell_type": "code",
      "source": [
        "# 下載 iris dataset csv 檔案\n",
        "\n",
        "!curl --output ./data/iris.csv \\\n",
        "    --url https://gist.githubusercontent.com/curran/a08a1080b88344b0c8a7/raw/0e7a9b0a5d22642a06d3d5b9bcbad9890c8ee534/iris.csv"
      ],
      "metadata": {
        "colab": {
          "base_uri": "https://localhost:8080/"
        },
        "id": "ToBBk7ux1lDi",
        "outputId": "d9be7cef-eed4-41c6-e095-e1dd5cbbdaa7"
      },
      "execution_count": 40,
      "outputs": [
        {
          "output_type": "stream",
          "name": "stdout",
          "text": [
            "  % Total    % Received % Xferd  Average Speed   Time    Time     Time  Current\n",
            "                                 Dload  Upload   Total   Spent    Left  Speed\n",
            "\r  0     0    0     0    0     0      0      0 --:--:-- --:--:-- --:--:--     0\r100  3858  100  3858    0     0  27656      0 --:--:-- --:--:-- --:--:-- 27755\n"
          ]
        }
      ]
    },
    {
      "cell_type": "code",
      "source": [
        "# 下 Prompt 來進行模型訓練\n",
        "\n",
        "await main(\"請用檔案路徑 ./data/iris.csv 訓練一個目標欄位為 species 的 XGBoost 模型，模型訓練好請存到 ./model/iris_model.pkl\")"
      ],
      "metadata": {
        "colab": {
          "base_uri": "https://localhost:8080/"
        },
        "id": "NuaXpwCW1uQT",
        "outputId": "300f32ef-5001-408f-b147-34a653b17cad"
      },
      "execution_count": 42,
      "outputs": [
        {
          "output_type": "stream",
          "name": "stdout",
          "text": [
            "[debug] loading data from ./data/iris.csv\n",
            "[debug] encoding target labels\n",
            "[debug] splitting data\n",
            "[debug] training XGBoost model\n"
          ]
        },
        {
          "output_type": "stream",
          "name": "stderr",
          "text": [
            "/usr/local/lib/python3.11/dist-packages/xgboost/core.py:158: UserWarning: [07:46:12] WARNING: /workspace/src/learner.cc:740: \n",
            "Parameters: { \"use_label_encoder\" } are not used.\n",
            "\n",
            "  warnings.warn(smsg, UserWarning)\n"
          ]
        },
        {
          "output_type": "stream",
          "name": "stdout",
          "text": [
            "[debug] evaluating model\n",
            "[debug] saving model to ./model/iris_model.pkl\n",
            "模型訓練完成。準確率為 100.00%，模型與 LabelEncoder 分別儲存於 ./model/iris_model.pkl 與 ./model/iris_model_label_encoder.pkl。\n",
            "\n"
          ]
        }
      ]
    },
    {
      "cell_type": "markdown",
      "source": [
        "### Case 2: Wine dataset 分類演算法模型訓練"
      ],
      "metadata": {
        "id": "5HF8D762-10u"
      }
    },
    {
      "cell_type": "code",
      "source": [
        "!curl --output ./data/wine.csv \\\n",
        "    --url https://gist.githubusercontent.com/tijptjik/9408623/raw/b237fa5848349a14a14e5d4107dc7897c21951f5/wine.csv"
      ],
      "metadata": {
        "colab": {
          "base_uri": "https://localhost:8080/"
        },
        "id": "ejVoBP8_2hnQ",
        "outputId": "10074ff8-181a-4f8e-fea5-dd84e4f466df"
      },
      "execution_count": 43,
      "outputs": [
        {
          "output_type": "stream",
          "name": "stdout",
          "text": [
            "  % Total    % Received % Xferd  Average Speed   Time    Time     Time  Current\n",
            "                                 Dload  Upload   Total   Spent    Left  Speed\n",
            "\r  0     0    0     0    0     0      0      0 --:--:-- --:--:-- --:--:--     0\r  0     0    0     0    0     0      0      0 --:--:-- --:--:-- --:--:--     0\r100 10889  100 10889    0     0  40949      0 --:--:-- --:--:-- --:--:-- 40936\n"
          ]
        }
      ]
    },
    {
      "cell_type": "code",
      "source": [
        "await main(\"請用檔案路徑 ./data/wine.csv 訓練一個目標欄位為 Wine 的 XGBoost 模型，模型訓練好請存到 ./model/wine_model.pkl\")"
      ],
      "metadata": {
        "colab": {
          "base_uri": "https://localhost:8080/"
        },
        "id": "EYAzSGyJ3nw7",
        "outputId": "507fd6c2-2360-49f1-e88e-c7ed0e1fefb6"
      },
      "execution_count": 45,
      "outputs": [
        {
          "output_type": "stream",
          "name": "stdout",
          "text": [
            "[debug] loading data from ./data/wine.csv\n",
            "[debug] splitting data\n",
            "[debug] training XGBoost model\n",
            "模型訓練發生錯誤。錯誤訊息指出從目標變數 `Wine` 推斷出的類別無效。預期的類別是 `[0 1 2]`，但實際得到的類別是 `[1 2 3]`。這表示目標變數的類別編碼從 1 開始，而不是從 0 開始。XGBoost 模型預期類別從 0 開始編碼。\n",
            "\n",
            "為了修正這個問題，您需要預先處理您的資料，將 `Wine` 欄位中的類別編碼從 `[1 2 3]` 轉換為 `[0 1 2]`。您可以使用 Python 和 Pandas 讀取 CSV 檔案，然後將 `Wine` 欄位的值減 1。\n",
            "\n",
            "如果修正資料後，您仍然遇到問題，請檢查資料路徑、目標欄位名稱和模型輸出路徑是否正確。\n",
            "\n"
          ]
        }
      ]
    },
    {
      "cell_type": "markdown",
      "source": [
        "-> 你應該會得到類別無效的錯誤訊息，這是正常的，因為 target label 跟 iris dataset 是不一樣的，你有兩個解法：\n",
        "\n",
        "1. 自己整理成一樣的資料樣子\n",
        "2. 寫一個 function tool 來進行資料整理\n",
        "\n",
        "因為要示範 Agent ，所以這邊示範第二種。"
      ],
      "metadata": {
        "id": "KvezgQr-_DL2"
      }
    },
    {
      "cell_type": "code",
      "source": [
        "@function_tool\n",
        "def normalize_class_labels(\n",
        "    data_path: str,\n",
        "    target_column: str,\n",
        "    output_path: str = None\n",
        "):\n",
        "    \"\"\"\n",
        "    將分類欄位中的類別值調整為從 0 開始的整數（例如從 [1,2,3] → [0,1,2]）。\n",
        "\n",
        "    Parameters:\n",
        "    - data_path: 原始 CSV 檔案路徑\n",
        "    - target_column: 需要標準化的目標欄位名稱\n",
        "    - output_path: 轉換後資料儲存路徑（如未提供，將覆寫原始檔案）\n",
        "\n",
        "    Returns:\n",
        "    - 新類別對應表與儲存檔案路徑\n",
        "    \"\"\"\n",
        "    print(f\"[debug] loading data from {data_path}\")\n",
        "    df = pd.read_csv(data_path)\n",
        "\n",
        "    if target_column not in df.columns:\n",
        "        return f\"錯誤：目標欄位 '{target_column}' 不存在於資料中。\"\n",
        "\n",
        "    print(f\"[debug] normalizing target column '{target_column}'\")\n",
        "    unique_classes = sorted(df[target_column].unique())\n",
        "    class_mapping = {label: idx for idx, label in enumerate(unique_classes)}\n",
        "    df[target_column] = df[target_column].map(class_mapping)\n",
        "\n",
        "    output_file = output_path if output_path else data_path\n",
        "    df.to_csv(output_file, index=False)\n",
        "\n",
        "    return f\"類別欄位已標準化為從 0 開始的整數。對應關係為：{class_mapping}。資料已儲存至 {output_file}\"\n"
      ],
      "metadata": {
        "id": "D3pBJeoK4fXh"
      },
      "execution_count": 46,
      "outputs": []
    },
    {
      "cell_type": "code",
      "source": [
        "async def main(prompt):\n",
        "    agent = Agent(\n",
        "        name=\"MLTrainer\",\n",
        "        instructions=\"請使用繁體中文回覆結果\",\n",
        "        model=OpenAIChatCompletionsModel(model=MODEL_NAME, openai_client=client),\n",
        "        tools=[train_xgboost_model, normalize_class_labels],\n",
        "    )\n",
        "\n",
        "    result = await Runner.run(agent, prompt)\n",
        "    print(result.final_output)\n"
      ],
      "metadata": {
        "id": "APOwMBaB4gYB"
      },
      "execution_count": 47,
      "outputs": []
    },
    {
      "cell_type": "code",
      "source": [
        "await main(\"請用檔案路徑 ./data/wine.csv 訓練一個目標欄位為 Wine 的 XGBoost 模型，模型訓練好請存到 ./model/wine_model.pkl\")"
      ],
      "metadata": {
        "colab": {
          "base_uri": "https://localhost:8080/"
        },
        "id": "NDfchmPg4j6M",
        "outputId": "3cb956f3-9619-4b4c-c1d7-7e019257bbef"
      },
      "execution_count": 48,
      "outputs": [
        {
          "output_type": "stream",
          "name": "stdout",
          "text": [
            "[debug] loading data from ./data/wine.csv\n",
            "[debug] splitting data\n",
            "[debug] training XGBoost model\n",
            "[debug] loading data from ./data/wine.csv\n",
            "[debug] normalizing target column 'Wine'\n",
            "[debug] loading data from ./data/wine_normalized.csv\n",
            "[debug] splitting data\n",
            "[debug] training XGBoost model\n",
            "[debug] evaluating model\n",
            "[debug] saving model to ./model/wine_model.pkl\n"
          ]
        },
        {
          "output_type": "stream",
          "name": "stderr",
          "text": [
            "/usr/local/lib/python3.11/dist-packages/xgboost/core.py:158: UserWarning: [07:51:27] WARNING: /workspace/src/learner.cc:740: \n",
            "Parameters: { \"use_label_encoder\" } are not used.\n",
            "\n",
            "  warnings.warn(smsg, UserWarning)\n"
          ]
        },
        {
          "output_type": "stream",
          "name": "stdout",
          "text": [
            "XGBoost 模型已成功訓練！準確率為 94.44%，模型儲存於 `./model/wine_model.pkl`。\n",
            "\n"
          ]
        }
      ]
    },
    {
      "cell_type": "markdown",
      "source": [
        "你應該就有得到正確訓練模型的訊息了。"
      ],
      "metadata": {
        "id": "bRD9Abo4_xXp"
      }
    }
  ]
}