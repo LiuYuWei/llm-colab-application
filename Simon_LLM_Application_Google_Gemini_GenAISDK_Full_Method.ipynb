{
  "nbformat": 4,
  "nbformat_minor": 0,
  "metadata": {
    "colab": {
      "provenance": []
    },
    "kernelspec": {
      "name": "python3",
      "display_name": "Python 3"
    },
    "language_info": {
      "name": "python"
    }
  },
  "cells": [
    {
      "cell_type": "markdown",
      "source": [
        "# Google Gen AI SDK\n",
        "\n",
        "google-genai 是用於與 Google 的 Generative AI API 互動的初始 Python 用戶端程式庫。\n",
        "\n",
        "Google Gen AI Python SDK 為開發人員提供了一個接口，可以將 Google 的生成模型整合到他們的 Python 應用程式中。它支援Gemini 開發者 API和Vertex AI API。"
      ],
      "metadata": {
        "id": "w3-A0eIq7s73"
      }
    },
    {
      "cell_type": "markdown",
      "source": [
        "## I. Installation\n",
        "\n",
        "透過 pip 安裝 python package"
      ],
      "metadata": {
        "id": "X__fXs-M7z9t"
      }
    },
    {
      "cell_type": "code",
      "execution_count": 1,
      "metadata": {
        "colab": {
          "base_uri": "https://localhost:8080/"
        },
        "collapsed": true,
        "id": "WqYS-AoA7kdL",
        "outputId": "003f8e59-acf2-4f94-b7b5-d395b5d3e3fe"
      },
      "outputs": [
        {
          "output_type": "stream",
          "name": "stdout",
          "text": [
            "Requirement already satisfied: google-genai in /usr/local/lib/python3.11/dist-packages (1.7.0)\n",
            "Requirement already satisfied: anyio<5.0.0,>=4.8.0 in /usr/local/lib/python3.11/dist-packages (from google-genai) (4.9.0)\n",
            "Requirement already satisfied: google-auth<3.0.0,>=2.14.1 in /usr/local/lib/python3.11/dist-packages (from google-genai) (2.38.0)\n",
            "Requirement already satisfied: httpx<1.0.0,>=0.28.1 in /usr/local/lib/python3.11/dist-packages (from google-genai) (0.28.1)\n",
            "Requirement already satisfied: pydantic<3.0.0,>=2.0.0 in /usr/local/lib/python3.11/dist-packages (from google-genai) (2.10.6)\n",
            "Requirement already satisfied: requests<3.0.0,>=2.28.1 in /usr/local/lib/python3.11/dist-packages (from google-genai) (2.32.3)\n",
            "Requirement already satisfied: websockets<15.1.0,>=13.0.0 in /usr/local/lib/python3.11/dist-packages (from google-genai) (15.0.1)\n",
            "Requirement already satisfied: typing-extensions<5.0.0,>=4.11.0 in /usr/local/lib/python3.11/dist-packages (from google-genai) (4.12.2)\n",
            "Requirement already satisfied: idna>=2.8 in /usr/local/lib/python3.11/dist-packages (from anyio<5.0.0,>=4.8.0->google-genai) (3.10)\n",
            "Requirement already satisfied: sniffio>=1.1 in /usr/local/lib/python3.11/dist-packages (from anyio<5.0.0,>=4.8.0->google-genai) (1.3.1)\n",
            "Requirement already satisfied: cachetools<6.0,>=2.0.0 in /usr/local/lib/python3.11/dist-packages (from google-auth<3.0.0,>=2.14.1->google-genai) (5.5.2)\n",
            "Requirement already satisfied: pyasn1-modules>=0.2.1 in /usr/local/lib/python3.11/dist-packages (from google-auth<3.0.0,>=2.14.1->google-genai) (0.4.1)\n",
            "Requirement already satisfied: rsa<5,>=3.1.4 in /usr/local/lib/python3.11/dist-packages (from google-auth<3.0.0,>=2.14.1->google-genai) (4.9)\n",
            "Requirement already satisfied: certifi in /usr/local/lib/python3.11/dist-packages (from httpx<1.0.0,>=0.28.1->google-genai) (2025.1.31)\n",
            "Requirement already satisfied: httpcore==1.* in /usr/local/lib/python3.11/dist-packages (from httpx<1.0.0,>=0.28.1->google-genai) (1.0.7)\n",
            "Requirement already satisfied: h11<0.15,>=0.13 in /usr/local/lib/python3.11/dist-packages (from httpcore==1.*->httpx<1.0.0,>=0.28.1->google-genai) (0.14.0)\n",
            "Requirement already satisfied: annotated-types>=0.6.0 in /usr/local/lib/python3.11/dist-packages (from pydantic<3.0.0,>=2.0.0->google-genai) (0.7.0)\n",
            "Requirement already satisfied: pydantic-core==2.27.2 in /usr/local/lib/python3.11/dist-packages (from pydantic<3.0.0,>=2.0.0->google-genai) (2.27.2)\n",
            "Requirement already satisfied: charset-normalizer<4,>=2 in /usr/local/lib/python3.11/dist-packages (from requests<3.0.0,>=2.28.1->google-genai) (3.4.1)\n",
            "Requirement already satisfied: urllib3<3,>=1.21.1 in /usr/local/lib/python3.11/dist-packages (from requests<3.0.0,>=2.28.1->google-genai) (2.3.0)\n",
            "Requirement already satisfied: pyasn1<0.7.0,>=0.4.6 in /usr/local/lib/python3.11/dist-packages (from pyasn1-modules>=0.2.1->google-auth<3.0.0,>=2.14.1->google-genai) (0.6.1)\n"
          ]
        }
      ],
      "source": [
        "!pip install -q google-genai"
      ]
    },
    {
      "cell_type": "markdown",
      "source": [
        "## II. Import and create a client"
      ],
      "metadata": {
        "id": "O4V-eXd-76IA"
      }
    },
    {
      "cell_type": "markdown",
      "source": [
        "### Method 1: 非變數的使用方法"
      ],
      "metadata": {
        "id": "JPWL1VuS_-0L"
      }
    },
    {
      "cell_type": "code",
      "source": [
        "from google import genai\n",
        "from google.genai import types\n",
        "\n",
        "gemini_env_bool = \"False\" #@param [\"True\", \"False\"]\n",
        "gemini_type = 'google-ai-studio' #@param [\"google-ai-studio\", \"google-vertex-ai\"]\n",
        "\n",
        "# google-ai-studio\n",
        "vertex_ai_project = 'your-project-id' #@param {type:\"string\"}\n",
        "vertex_ai_location = 'us-central1' #@param {type:\"string\"}"
      ],
      "metadata": {
        "id": "8BhtTw9N7509"
      },
      "execution_count": 2,
      "outputs": []
    },
    {
      "cell_type": "code",
      "source": [
        "# Only run this block for Gemini Developer API\n",
        "from google.colab import userdata\n",
        "\n",
        "if gemini_env_bool == \"False\" and gemini_type == \"google-ai-studio\":\n",
        "    client = genai.Client(api_key=userdata.get('GOOGLE_API_KEY'))"
      ],
      "metadata": {
        "id": "qM7QBjuM8Qn_"
      },
      "execution_count": 3,
      "outputs": []
    },
    {
      "cell_type": "code",
      "source": [
        "# Only run this block for Vertex AI API\n",
        "if gemini_env_bool == \"False\" and gemini_type == \"google-vertex-ai\":\n",
        "    client = genai.Client(\n",
        "        vertexai=True, project='your-project-id', location='us-central1'\n",
        "    )"
      ],
      "metadata": {
        "id": "apQNX58J-JYz"
      },
      "execution_count": 4,
      "outputs": []
    },
    {
      "cell_type": "markdown",
      "source": [
        "### Method 2: 環境變數的使用方法\n",
        "\n",
        "如果你在環境變數設定以下變數：\n",
        "```\n",
        "# google-ai-studio\n",
        "!export GOOGLE_API_KEY='your-api-key'\n",
        "\n",
        "# google-vertex-ai\n",
        "!export GOOGLE_GENAI_USE_VERTEXAI=true\n",
        "!export GOOGLE_CLOUD_PROJECT='your-project-id'\n",
        "!export GOOGLE_CLOUD_LOCATION='us-central1'\n",
        "```\n",
        "那你就可以直接使用以下程式碼設定 client："
      ],
      "metadata": {
        "id": "hsHJfwta_E1b"
      }
    },
    {
      "cell_type": "code",
      "source": [
        "if gemini_env_bool == \"True\":\n",
        "    client = genai.Client()"
      ],
      "metadata": {
        "id": "uFLn8Ygf-31t"
      },
      "execution_count": 5,
      "outputs": []
    },
    {
      "cell_type": "markdown",
      "source": [
        "## III. API 測試"
      ],
      "metadata": {
        "id": "kNxa7sC__6Q8"
      }
    },
    {
      "cell_type": "code",
      "source": [
        "response = client.models.generate_content(\n",
        "    model='gemini-2.0-flash-001', contents='請問為何天空是藍色的？'\n",
        ")\n",
        "print(response.text)"
      ],
      "metadata": {
        "colab": {
          "base_uri": "https://localhost:8080/"
        },
        "id": "tDiXAroK_9Vi",
        "outputId": "ec8c746e-b509-47c1-a9ab-da0205876d31"
      },
      "execution_count": 6,
      "outputs": [
        {
          "output_type": "stream",
          "name": "stdout",
          "text": [
            "天空之所以是藍色的，主要是因為一種叫做**瑞利散射 (Rayleigh scattering)** 的現象。\n",
            "\n",
            "以下詳細解釋：\n",
            "\n",
            "1. **陽光由不同顏色的光組成：** 白色的陽光實際上包含了各種顏色的光，例如紅、橙、黃、綠、藍、靛、紫。\n",
            "\n",
            "2. **光的散射：** 當陽光進入地球大氣層時，會與空氣中的微小分子（例如氮氣和氧氣）發生碰撞。這種碰撞會使光線向四面八方散射。\n",
            "\n",
            "3. **瑞利散射的原理：** 瑞利散射是一種特定類型的散射，它對波長較短的光線（例如藍色和紫色）更為有效。這是因為瑞利散射的強度與波長的四次方成反比。換句話說，波長越短，散射越強。\n",
            "\n",
            "4. **為什麼我們看到的是藍色，而不是紫色？** 雖然紫色光線的波長更短，散射應該更強，但我們看到的天空主要是藍色的，原因有幾個：\n",
            "\n",
            "    * **太陽光譜：** 太陽發出的紫光相對藍光較少。\n",
            "    * **大氣吸收：** 大氣層會吸收一部分的紫光。\n",
            "    * **人眼敏感度：** 我們的眼睛對藍光比紫光更敏感。\n",
            "\n",
            "5. **總結：** 由於瑞利散射對藍光更有效，藍光被散射到大氣層的各個方向，所以我們從任何方向看天空，都能看到被散射的藍光，因此天空呈現藍色。\n",
            "\n",
            "**簡而言之，陽光中的藍光被空氣中的微小分子散射到各個方向，這就是天空是藍色的原因。**\n",
            "\n",
            "**其他現象的解釋：**\n",
            "\n",
            "* **日出和日落時的天空顏色：** 當太陽接近地平線時，陽光必須穿過更厚的大氣層。這意味著大部分的藍光已經被散射掉了，而紅光和橙光則能夠穿透大氣層，因此我們看到日出和日落時的天空呈現紅色或橙色。\n",
            "\n",
            "* **陰天的顏色：** 當大氣層中存在大量的水滴或冰晶時，會發生米氏散射 (Mie scattering)，這種散射對所有波長的光線都具有相似的效果，因此陰天看起來是灰白色或白色。\n",
            "\n",
            "希望以上解釋能夠幫助您理解天空為什麼是藍色的！\n",
            "\n"
          ]
        }
      ]
    },
    {
      "cell_type": "markdown",
      "source": [
        "## IV. 上傳檔案後使用 API\n",
        "\n",
        "你可以透過 API 上傳檔案，並且對檔案進行 AI 的問答。\n"
      ],
      "metadata": {
        "id": "FAAA1BcOAtE-"
      }
    },
    {
      "cell_type": "code",
      "source": [
        "!wget -q https://storage.googleapis.com/generativeai-downloads/data/a11.txt"
      ],
      "metadata": {
        "id": "uwDIJUinAz0j"
      },
      "execution_count": 7,
      "outputs": []
    },
    {
      "cell_type": "code",
      "source": [
        "file = client.files.upload(file='a11.txt')\n",
        "response = client.models.generate_content(\n",
        "    model='gemini-2.0-flash-001',\n",
        "    contents=['你可以使用繁體中文幫我統整此內容嗎？', file]\n",
        ")\n",
        "print(response.text)"
      ],
      "metadata": {
        "colab": {
          "base_uri": "https://localhost:8080/"
        },
        "id": "0cb-PU_jA1cM",
        "outputId": "8d617e66-eeda-4cbc-ace5-f24d95d4ab0f"
      },
      "execution_count": 8,
      "outputs": [
        {
          "output_type": "stream",
          "name": "stdout",
          "text": [
            "好的，以下是以繁體中文統整的內容：\n",
            "\n",
            "**介紹**\n",
            "\n",
            "這份文件是阿波羅11號任務中，從太空船到地面的技術語音傳輸（GOSS NET 1）的記錄稿。\n",
            "\n",
            "**參與者身份說明：**\n",
            "\n",
            "*   **太空船：**\n",
            "    *   CDR：指揮官（Commander），尼爾·阿姆斯壯（Neil A. Armstrong）\n",
            "    *   CMP：指揮艙駕駛員（Command module pilot），麥可·柯林斯（Michael Collins）\n",
            "    *   LMP：登月艙駕駛員（Lunar module pilot），小艾德溫·奧爾德林（Edwin E. ALdrin, Jr.）\n",
            "    *   SC：無法辨識的組員（Unidentifiable crewmember）\n",
            "    *   MS：多位同時發言（Multiple (simultaneous) speakers）\n",
            "    *   LCC：發射控制中心（Launch Control Center）\n",
            "*   **任務控制中心：**\n",
            "    *   CC：太空艙通訊員（Capsule Communicator / CAP COMM）\n",
            "    *   F：飛行指揮官（Flight Director）\n",
            "*   **遠程站點：**\n",
            "    *   CT：通訊技術員（Communications Technician / COMM TECH）\n",
            "*   **回收部隊：**\n",
            "    *   HORNET：黃蜂號航空母艦（USS Hornet）\n",
            "    *   R：回收直升機（Recovery helicopter）\n",
            "    *   AB：空中指揮官（Air Boss）\n",
            "\n",
            "**記錄稿符號說明：**\n",
            "\n",
            "*   三個點（...）：表示因雜訊等原因無法完整轉錄的通訊部分。\n",
            "*   一個破折號（-）：表示發言者的停頓或自我中斷，然後完成想法。\n",
            "*   兩個破折號（- -）：表示被另一位發言者中斷，或錄音突然終止的地方。\n",
            "\n",
            "**內容摘要：**\n",
            "\n",
            "接下來的文件包含阿波羅11號任務期間，各個站點之間透過GOSS NET 1網絡進行的詳細語音通訊記錄，從發射前到登月後，涵蓋了太空船系統狀態、軌道資訊、指令傳達、觀測報告以及一些非正式對話。 其中包括：\n",
            "\n",
            "*   火箭發射階段的各種報告：包括時鐘校準、滾轉程式、級間分離、引擎點火等。\n",
            "*   在軌期間的通訊：例如導航資訊、姿態控制、系統檢查、太空船狀態報告和指令。\n",
            "*   有關登月準備的討論：包括LM相關操作、檢查及準備工作。\n",
            "*   航向修正和軌道調整：接收航向修正PAD資訊。\n",
            "*   討論各種系統和器材問題：像是O2 Flow, CRYO 溫度等等。\n",
            "*   與休士頓的通訊人員進行的日常通訊，包括新聞報導。\n",
            "*   登月後的對話：例如關於降落狀況、月面觀察以及通訊檢查。\n",
            "*   許多技術性的通訊細節。\n",
            "\n",
            "基本上，這些記錄稿提供了一個深入了解阿波羅11號任務的窗口，展示了任務期間各個團隊之間複雜的協調和溝通。\n",
            "\n"
          ]
        }
      ]
    },
    {
      "cell_type": "markdown",
      "source": [
        "## V. 類型配置"
      ],
      "metadata": {
        "id": "9TXqUaaNBEIr"
      }
    },
    {
      "cell_type": "code",
      "source": [
        "response = client.models.generate_content(\n",
        "    model='gemini-2.0-flash-001',\n",
        "    contents=types.Part.from_text(text='請問為何天空是藍色的？'),\n",
        "    config=types.GenerateContentConfig(\n",
        "        temperature=0,\n",
        "        top_p=0.95,\n",
        "        top_k=20,\n",
        "        candidate_count=1,\n",
        "        seed=5,\n",
        "        max_output_tokens=100,\n",
        "        stop_sequences=['STOP!'],\n",
        "        presence_penalty=0.0,\n",
        "        frequency_penalty=0.0,\n",
        "    ),\n",
        ")\n",
        "\n",
        "print(response.text)"
      ],
      "metadata": {
        "colab": {
          "base_uri": "https://localhost:8080/"
        },
        "id": "nmbOiACcBQ4T",
        "outputId": "f6e397a9-6be9-452c-988e-4b16cbc0f000"
      },
      "execution_count": 10,
      "outputs": [
        {
          "output_type": "stream",
          "name": "stdout",
          "text": [
            "天空之所以是藍色的，主要是因為一種叫做**瑞利散射 (Rayleigh scattering)** 的物理現象。以下是詳細的解釋：\n",
            "\n",
            "* **太陽光是混合光：** 太陽光並非單一顏色，而是由紅、橙、黃、綠、藍、靛、紫等各種顏色的光混合而成。\n",
            "\n",
            "* **大氣層中的微粒：** 地球的大氣層中充滿了各種微小的粒子，例如氮氣、氧\n"
          ]
        }
      ]
    },
    {
      "cell_type": "markdown",
      "source": [],
      "metadata": {
        "id": "7i56R-IbBzS5"
      }
    },
    {
      "cell_type": "code",
      "source": [
        "for model in client.models.list():\n",
        "    print(model.name)"
      ],
      "metadata": {
        "colab": {
          "base_uri": "https://localhost:8080/"
        },
        "id": "5bKdnVjUBT29",
        "outputId": "7bd8a724-3d4e-4369-b0cc-8eb364b6e5fe"
      },
      "execution_count": 14,
      "outputs": [
        {
          "output_type": "stream",
          "name": "stdout",
          "text": [
            "models/chat-bison-001\n",
            "models/text-bison-001\n",
            "models/embedding-gecko-001\n",
            "models/gemini-1.0-pro-vision-latest\n",
            "models/gemini-pro-vision\n",
            "models/gemini-1.5-pro-latest\n",
            "models/gemini-1.5-pro-001\n",
            "models/gemini-1.5-pro-002\n",
            "models/gemini-1.5-pro\n",
            "models/gemini-1.5-flash-latest\n",
            "models/gemini-1.5-flash-001\n",
            "models/gemini-1.5-flash-001-tuning\n",
            "models/gemini-1.5-flash\n",
            "models/gemini-1.5-flash-002\n",
            "models/gemini-1.5-flash-8b\n",
            "models/gemini-1.5-flash-8b-001\n",
            "models/gemini-1.5-flash-8b-latest\n",
            "models/gemini-1.5-flash-8b-exp-0827\n",
            "models/gemini-1.5-flash-8b-exp-0924\n",
            "models/gemini-2.5-pro-exp-03-25\n",
            "models/gemini-2.0-flash-exp\n",
            "models/gemini-2.0-flash\n",
            "models/gemini-2.0-flash-001\n",
            "models/gemini-2.0-flash-exp-image-generation\n",
            "models/gemini-2.0-flash-lite-001\n",
            "models/gemini-2.0-flash-lite\n",
            "models/gemini-2.0-flash-lite-preview-02-05\n",
            "models/gemini-2.0-flash-lite-preview\n",
            "models/gemini-2.0-pro-exp\n",
            "models/gemini-2.0-pro-exp-02-05\n",
            "models/gemini-exp-1206\n",
            "models/gemini-2.0-flash-thinking-exp-01-21\n",
            "models/gemini-2.0-flash-thinking-exp\n",
            "models/gemini-2.0-flash-thinking-exp-1219\n",
            "models/learnlm-1.5-pro-experimental\n",
            "models/gemma-3-27b-it\n",
            "models/embedding-001\n",
            "models/text-embedding-004\n",
            "models/gemini-embedding-exp-03-07\n",
            "models/gemini-embedding-exp\n",
            "models/aqa\n",
            "models/imagen-3.0-generate-002\n"
          ]
        }
      ]
    },
    {
      "cell_type": "markdown",
      "source": [
        "## V. Function Calling\n",
        "\n",
        "此處示範，統整所有行政院最新新聞消息的 function calling。\n",
        "\n",
        "API 位置：https://opendata.ey.gov.tw/api/index.html"
      ],
      "metadata": {
        "id": "pDMXxw9gCAQq"
      }
    },
    {
      "cell_type": "code",
      "source": [
        "from typing import List\n",
        "from datetime import datetime, date\n",
        "import requests\n",
        "\n",
        "def normalize_date(date_str: Union[str, date]) -> str:\n",
        "    \"\"\"將輸入轉為 'YYYY/MM/DD' 字串格式\"\"\"\n",
        "    if isinstance(date_str, date):\n",
        "        return date_str.strftime('%Y/%m/%d')\n",
        "    try:\n",
        "        parsed = datetime.strptime(date_str, '%Y-%m-%d')\n",
        "        return parsed.strftime('%Y/%m/%d')\n",
        "    except ValueError:\n",
        "        return date_str  # 假設已是 YYYY/MM/DD\n",
        "\n",
        "def get_ey_news(start_date: str, end_date: str) -> List[dict]:\n",
        "    \"\"\"取得行政院公開新聞資料，日期會強制轉為 'YYYY/MM/DD'\"\"\"\n",
        "    start_date_fmt = normalize_date(start_date)\n",
        "    end_date_fmt = normalize_date(end_date)\n",
        "\n",
        "    url = \"https://opendata.ey.gov.tw/api/ExecutiveYuan/NewsEy\"\n",
        "    params = {\n",
        "        \"StartDate\": start_date_fmt,\n",
        "        \"EndDate\": end_date_fmt,\n",
        "        \"MaxSize\": 10,\n",
        "        \"IsRemoveHtmlTag\": True\n",
        "    }\n",
        "    response = requests.get(url, params=params)\n",
        "    response.raise_for_status()\n",
        "    return response.json()\n"
      ],
      "metadata": {
        "id": "Rp2vkqe0CCqU"
      },
      "execution_count": 49,
      "outputs": []
    },
    {
      "cell_type": "code",
      "source": [
        "output = get_ey_news(\"2025/03/01\", \"2025/03/31\")\n",
        "output[0]"
      ],
      "metadata": {
        "colab": {
          "base_uri": "https://localhost:8080/"
        },
        "id": "qnzCdFFfFbRm",
        "outputId": "b257ebe9-f281-480d-8b45-e7487b97a647"
      },
      "execution_count": 57,
      "outputs": [
        {
          "output_type": "execute_result",
          "data": {
            "text/plain": [
              "{'標題': '卓揆：確實盤點我國關鍵核心技術項目 確保國家安全和產業競爭力',\n",
              " '內容': '<p>行政院長卓榮泰今（27）日於行政院會表示，教育部將召開「管制陸生修讀我國國家關鍵核心技術項目跨部會研商會議」，關鍵核心技術包括國防相關科技，以及各部會攸關臺灣產業競爭力的關鍵技術，請各部會務必確實盤點我國核心關鍵技術項目，於跨部會研商會議中完整通報，特別是國家科學及技術委員會、國防部、經濟部、農業部、數位發展部及海洋委員會等掌握關鍵核心技術的部會，務必確實提報，以利後續管控，有效確保國家安全。</p><p><br>有關內政部日前就維護社會治安所做的必要處置，卓院長請內政部劉世芳部長向警政署張榮興署長及全體同仁表達肯定。卓院長指出，國內幫派公然的不當行為引發社會關注，對國人、尤其是青少年，都造成負面觀感及不當影響，相關單位能有效遏止是最佳方法，請內政部、警政署及相關單位持續關注後續發展，若尚有其他不法行為，一律嚴查嚴辦。</p>',\n",
              " '上版日期': '2025/03/27',\n",
              " '來源網址': 'https://www.ey.gov.tw/Page/9277F759E41CCD91/1e85da89-638c-4ec6-b85a-eec8c02b4904'}"
            ]
          },
          "metadata": {},
          "execution_count": 57
        }
      ]
    },
    {
      "cell_type": "code",
      "source": [
        "response = client.models.generate_content(\n",
        "    model='gemini-2.0-flash-001',\n",
        "    contents=\"幫我找 2025/03/01 至 2025/03/31 行政院發布的新聞標題和發佈時間\",\n",
        "    config=types.GenerateContentConfig(tools=[get_ey_news]),\n",
        ")\n",
        "\n",
        "print(response.text)"
      ],
      "metadata": {
        "colab": {
          "base_uri": "https://localhost:8080/"
        },
        "id": "vo9avx7CCpwk",
        "outputId": "a01d32da-0aeb-48da-dd2a-f084d4825c4c"
      },
      "execution_count": 52,
      "outputs": [
        {
          "output_type": "stream",
          "name": "stdout",
          "text": [
            "2025/03/27\n",
            "* 卓揆：確實盤點我國關鍵核心技術項目 確保國家安全和產業競爭力\n",
            "* 清明連假將至 卓揆指示各部會相互聯防 充分發揮疏運措施功效 以確保民眾交通安全為最高原則\n",
            "* 政院通過「個人資料保護委員會組織法」草案及「個人資料保護法」部分條文修正草案 完備獨立監督機制及執法權限 建立AI全面應用時代資料治理\n",
            "* 卓揆：推動「114-118年健康臺灣深耕計畫」 打造更具韌性及包容性的健康照護模式 促進全民健康福祉\n",
            "2025/03/26\n",
            "* 鄭副院長召開「穩定物價小組」會議，密切掌握清明應節農產品及民生物資價量情勢，並延長關鍵原物料稅負減徵措施至114年9月底，力求穩定民生物價\n",
            "* 卓揆赴臺南視察0121地震災後復原重建情形 指示一週內解決地方政府反映問題，讓民眾安心\n",
            "* 當心假冒身份證件詐騙再現 打詐指揮中心：請民眾提高警覺 避免受害損失\n",
            "2025/03/20\n",
            "* 落實總統17項因應國安威脅策略 卓揆：律定各項行動計畫、策略及法制化期程\n",
            "* 政院通過「證券投資人及期貨交易人保護法」部分條文修正草案 健全公平安全交易環境、保障投資人權益\n",
            "* 卓揆：推動下一階段開放政府國家行動方案 落實透明、參與、課責核心價值\n",
            "\n"
          ]
        }
      ]
    },
    {
      "cell_type": "markdown",
      "source": [
        "## VII. Pydantic-JSON 回應架構"
      ],
      "metadata": {
        "id": "gh0bJ1lLFiCL"
      }
    },
    {
      "cell_type": "code",
      "source": [
        "from pydantic import BaseModel\n",
        "\n",
        "\n",
        "class CountryInfo(BaseModel):\n",
        "    name: str\n",
        "    population: int\n",
        "    capital: str\n",
        "    continent: str\n",
        "    gdp: int\n",
        "    official_language: str\n",
        "    total_area_sq_mi: int\n",
        "\n",
        "\n",
        "response = client.models.generate_content(\n",
        "    model='gemini-2.0-flash-001',\n",
        "    contents='請給我台灣的相關資訊',\n",
        "    config=types.GenerateContentConfig(\n",
        "        response_mime_type='application/json',\n",
        "        response_schema=CountryInfo,\n",
        "    ),\n",
        ")\n",
        "print(response.text)"
      ],
      "metadata": {
        "colab": {
          "base_uri": "https://localhost:8080/"
        },
        "id": "Xj1OpsPmFhuX",
        "outputId": "19e24e04-7e36-49e5-da58-69fc86887662"
      },
      "execution_count": 53,
      "outputs": [
        {
          "output_type": "stream",
          "name": "stdout",
          "text": [
            "{\n",
            "  \"name\": \"Taiwan\",\n",
            "  \"population\": 23500000,\n",
            "  \"capital\": \"Taipei\",\n",
            "  \"continent\": \"Asia\",\n",
            "  \"gdp\": 759100000000,\n",
            "  \"official_language\": \"Mandarin Chinese\",\n",
            "  \"total_area_sq_mi\": 13974\n",
            "}\n"
          ]
        }
      ]
    },
    {
      "cell_type": "markdown",
      "source": [
        "## VIII. Streaming Output"
      ],
      "metadata": {
        "id": "kP4_R0lbGAew"
      }
    },
    {
      "cell_type": "code",
      "source": [
        "for chunk in client.models.generate_content_stream(\n",
        "    model='gemini-2.0-flash-001', contents='請用100字講一個大野狼的故事'\n",
        "):\n",
        "    print(chunk.text, end='')"
      ],
      "metadata": {
        "colab": {
          "base_uri": "https://localhost:8080/"
        },
        "id": "ZonBfGbJGADQ",
        "outputId": "f3186a31-fb1c-4d42-ff51-20f6e4a60286"
      },
      "execution_count": 55,
      "outputs": [
        {
          "output_type": "stream",
          "name": "stdout",
          "text": [
            "月黑風高，大野狼舔著口水，盯上了迷路的小紅帽。他裝成慈祥奶奶，哄騙小紅帽進屋。\n",
            "\n",
            "「奶奶，你的眼睛怎麼那麼大？」小紅帽天真地問。\n",
            "\n",
            "「為了更清楚地看你！」\n",
            "\n",
            "「奶奶，你的耳朵怎麼那麼大？」\n",
            "\n",
            "「為了更清楚地聽你！」\n",
            "\n",
            "「奶奶，你的嘴巴怎麼那麼大？」\n",
            "\n",
            "「為了…吃了你！」大野狼撲了上去。獵人及時趕到，救下了小紅帽，狠狠教訓了貪婪的大野狼。\n"
          ]
        }
      ]
    },
    {
      "cell_type": "markdown",
      "source": [
        "## 生成圖片"
      ],
      "metadata": {
        "id": "mv5fu-dLGRn5"
      }
    },
    {
      "cell_type": "code",
      "source": [
        "import base64\n",
        "import os\n",
        "import mimetypes\n",
        "\n",
        "\n",
        "def save_binary_file(file_name, data):\n",
        "    f = open(file_name, \"wb\")\n",
        "    f.write(data)\n",
        "    f.close()\n",
        "\n",
        "model = \"gemini-2.0-flash-exp-image-generation\"\n",
        "contents = [\n",
        "    types.Content(\n",
        "        role=\"user\",\n",
        "        parts=[\n",
        "            types.Part.from_text(text=\"\"\"繪製一隻皮卡丘，站在噴火龍身上。\"\"\"),\n",
        "        ],\n",
        "    ),\n",
        "]\n",
        "\n",
        "generate_content_config = types.GenerateContentConfig(\n",
        "    response_modalities=[\n",
        "        \"image\",\n",
        "        \"text\",\n",
        "    ],\n",
        "    response_mime_type=\"text/plain\",\n",
        ")\n",
        "\n",
        "for chunk in client.models.generate_content_stream(\n",
        "    model=model,\n",
        "    contents=contents,\n",
        "    config=generate_content_config,\n",
        "):\n",
        "    if not chunk.candidates or not chunk.candidates[0].content or not chunk.candidates[0].content.parts:\n",
        "        continue\n",
        "    if chunk.candidates[0].content.parts[0].inline_data:\n",
        "        file_name = \"output\"\n",
        "        inline_data = chunk.candidates[0].content.parts[0].inline_data\n",
        "        file_extension = mimetypes.guess_extension(inline_data.mime_type)\n",
        "        save_binary_file(\n",
        "            f\"{file_name}{file_extension}\", inline_data.data\n",
        "        )\n",
        "        print(\n",
        "            \"File of mime type\"\n",
        "            f\" {inline_data.mime_type} saved\"\n",
        "            f\"to: {file_name}\"\n",
        "        )\n",
        "    else:\n",
        "        print(chunk.text)"
      ],
      "metadata": {
        "colab": {
          "base_uri": "https://localhost:8080/"
        },
        "id": "jnl2PCFcGMYo",
        "outputId": "9c457480-4d38-42ea-a985-12555e224597"
      },
      "execution_count": 65,
      "outputs": [
        {
          "output_type": "stream",
          "name": "stdout",
          "text": [
            "好的\n",
            "，這是一個皮卡丘站在噴火龍身上的樣子：\n",
            "\n",
            "\n",
            "File of mime type image/png savedto: output\n",
            "\n",
            "\n",
            "\n",
            "希望你喜歡！讓我知道你是否想看到其他不同的場景或角色\n",
            "。\n"
          ]
        }
      ]
    },
    {
      "cell_type": "markdown",
      "source": [
        "[ 只給 Vertex AI 用戶使用 ] 計算 token 數量"
      ],
      "metadata": {
        "id": "nEkKcNBTIzni"
      }
    },
    {
      "cell_type": "code",
      "source": [
        "if gemini_type == \"google-vertex-ai\":\n",
        "    response = client.models.compute_tokens(\n",
        "        model='gemini-2.0-flash-001',\n",
        "        contents='請問天空為何是藍色的？',\n",
        "    )\n",
        "    print(response)"
      ],
      "metadata": {
        "id": "lxqVjXNRI0AL"
      },
      "execution_count": null,
      "outputs": []
    }
  ]
}