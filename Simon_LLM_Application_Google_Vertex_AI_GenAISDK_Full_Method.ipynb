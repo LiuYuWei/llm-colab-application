{
  "nbformat": 4,
  "nbformat_minor": 0,
  "metadata": {
    "colab": {
      "provenance": [],
      "include_colab_link": true
    },
    "kernelspec": {
      "name": "python3",
      "display_name": "Python 3"
    },
    "language_info": {
      "name": "python"
    }
  },
  "cells": [
    {
      "cell_type": "markdown",
      "metadata": {
        "id": "view-in-github",
        "colab_type": "text"
      },
      "source": [
        "<a href=\"https://colab.research.google.com/github/LiuYuWei/llm-colab-application/blob/main/Simon_LLM_Application_Google_Vertex_AI_GenAISDK_Full_Method.ipynb\" target=\"_parent\"><img src=\"https://colab.research.google.com/assets/colab-badge.svg\" alt=\"Open In Colab\"/></a>"
      ]
    },
    {
      "cell_type": "markdown",
      "source": [
        "# Google Gen AI SDK\n",
        "\n",
        "google-genai 是用於與 Google 的 Generative AI API 互動的初始 Python 用戶端程式庫。\n",
        "\n",
        "Google Gen AI Python SDK 為開發人員提供了一個接口，可以將 Google 的生成模型整合到他們的 Python 應用程式中。它支援Gemini 開發者 API和Vertex AI API。"
      ],
      "metadata": {
        "id": "w3-A0eIq7s73"
      }
    },
    {
      "cell_type": "markdown",
      "source": [
        "## I. Installation and Configure\n"
      ],
      "metadata": {
        "id": "X__fXs-M7z9t"
      }
    },
    {
      "cell_type": "markdown",
      "source": [
        "#### 透過 pip 安裝 google-genai python package"
      ],
      "metadata": {
        "id": "k9CiucOKH6Se"
      }
    },
    {
      "cell_type": "code",
      "execution_count": null,
      "metadata": {
        "collapsed": true,
        "id": "WqYS-AoA7kdL"
      },
      "outputs": [],
      "source": [
        "!pip install --upgrade -q google-genai"
      ]
    },
    {
      "cell_type": "markdown",
      "source": [
        "#### 設定Google Cloud 項目\n",
        "\n",
        "設定您的Google Cloud 專案並啟用Vertex AI API。\n",
        "\n",
        "- Step 1: In the Google Cloud console, on the project selector page, select or create a Google Cloud project.\n",
        "<br>[Go to project selector](https://console.cloud.google.com/projectselector2/home/dashboard?hl=zh-tw)\n",
        "\n",
        "- Step 2: Make sure that [billing is enabled](https://cloud.google.com/billing/docs/how-to/verify-billing-enabled?hl=zh-tw#confirm_billing_is_enabled_on_a_project) for your Google Cloud project .\n",
        "\n",
        "- Step 3: Enable the Vertex AI API.\n",
        "<br>[Enable the API](https://console.cloud.google.com/flows/enableapi?apiid=aiplatform.googleapis.com&hl=zh-cn)"
      ],
      "metadata": {
        "id": "fjne11MxxWcB"
      }
    },
    {
      "cell_type": "markdown",
      "source": [
        "#### Vertex AI 設定"
      ],
      "metadata": {
        "id": "IVBJkXDYHwMY"
      }
    },
    {
      "cell_type": "code",
      "source": [
        "# gcloud CLI 進行身份驗證\n",
        "!gcloud auth application-default login"
      ],
      "metadata": {
        "id": "pqlArhn3GqQd",
        "outputId": "70481cba-3244-4df9-e351-155d58249ecf",
        "colab": {
          "base_uri": "https://localhost:8080/"
        }
      },
      "execution_count": null,
      "outputs": [
        {
          "output_type": "stream",
          "name": "stdout",
          "text": [
            "Go to the following link in your browser, and complete the sign-in prompts:\n",
            "\n",
            "    https://accounts.google.com/o/oauth2/auth?response_type=code&client_id=764086051850-6qr4p6gpi6hn506pt8ejuq83di341hur.apps.googleusercontent.com&redirect_uri=https%3A%2F%2Fsdk.cloud.google.com%2Fapplicationdefaultauthcode.html&scope=openid+https%3A%2F%2Fwww.googleapis.com%2Fauth%2Fuserinfo.email+https%3A%2F%2Fwww.googleapis.com%2Fauth%2Fcloud-platform+https%3A%2F%2Fwww.googleapis.com%2Fauth%2Fsqlservice.login&state=XfjW1uCCL5zAUr4ERMcflrJx0f2D9q&prompt=consent&token_usage=remote&access_type=offline&code_challenge=pEhxzM3exbdVVHIeJc4HEv1SfiDgrmMiLIiJBi61M3Y&code_challenge_method=S256\n",
            "\n",
            "Once finished, enter the verification code provided in your browser: 4/0Ab_5qlnh1RmX3_iBcBcEObD1mTnz7s3xc_iGdt9iGg4kOq0dOqpG4yIqfAn85HbYE-ymVQ\n",
            "\n",
            "Credentials saved to file: [/content/.config/application_default_credentials.json]\n",
            "\n",
            "These credentials will be used by any library that requests Application Default Credentials (ADC).\n",
            "\n",
            "Quota project \"leafy-bond-456001-r7\" was added to ADC which can be used by Google client libraries for billing and quota. Note that some services may still bill the project owning the resource.\n"
          ]
        }
      ]
    },
    {
      "cell_type": "markdown",
      "source": [
        "## II. Import and create a client"
      ],
      "metadata": {
        "id": "O4V-eXd-76IA"
      }
    },
    {
      "cell_type": "code",
      "source": [
        "import os\n",
        "vertex_ai_project = 'fill-in-the-project-id-here' #@param {type:\"string\"}\n",
        "\n",
        "os.environ[\"GOOGLE_CLOUD_PROJECT\"] = vertex_ai_project\n",
        "os.environ[\"GOOGLE_CLOUD_LOCATION\"] = \"global\"\n",
        "os.environ[\"GOOGLE_GENAI_USE_VERTEXAI\"] = \"True\""
      ],
      "metadata": {
        "id": "8BhtTw9N7509"
      },
      "execution_count": null,
      "outputs": []
    },
    {
      "cell_type": "markdown",
      "source": [
        "## III. API 測試"
      ],
      "metadata": {
        "id": "kNxa7sC__6Q8"
      }
    },
    {
      "cell_type": "code",
      "source": [
        "from google import genai\n",
        "from google.genai.types import HttpOptions\n",
        "\n",
        "client = genai.Client(http_options=HttpOptions(api_version=\"v1\"))\n",
        "\n",
        "response = client.models.generate_content(\n",
        "    model='gemini-2.5-flash-preview-04-17', contents='請問為何天空是藍色的？'\n",
        ")\n",
        "print(response.text)"
      ],
      "metadata": {
        "colab": {
          "base_uri": "https://localhost:8080/"
        },
        "id": "tDiXAroK_9Vi",
        "outputId": "89d3bc4c-b335-4f61-988b-7c192a04657b"
      },
      "execution_count": null,
      "outputs": [
        {
          "output_type": "stream",
          "name": "stdout",
          "text": [
            "天空之所以呈現藍色，主要是因為太陽光進入地球大氣層時，與空氣中的氣體分子（主要是氮分子和氧分子）以及微小塵埃顆粒發生了「**瑞利散射**」（Rayleigh scattering）的現象。\n",
            "\n",
            "以下是詳細的解釋步驟：\n",
            "\n",
            "1.  **太陽光是白色光：** 太陽光看起來是白色的，但它實際上是由不同波長（也就是不同顏色）的光混合而成，就像彩虹一樣，包含了紅、橙、黃、綠、藍、靛、紫等各種顏色。不同顏色的光有不同的波長，其中紅光的波長最長，紫光的波長最短，藍光的波長屬於較短的一端。\n",
            "\n",
            "2.  **光線通過大氣層：** 當太陽光穿過地球的大氣層時，會與空氣中的氣體分子和懸浮微粒發生作用。\n",
            "\n",
            "3.  **瑞利散射是關鍵：** 當光線遇到的大小遠小於其波長的粒子時（例如可見光遇到空氣中的氮分子和氧分子），就會發生瑞利散射。瑞利散射有一個重要的特性：**散射的強度與光線波長的四次方成反比**。\n",
            "\n",
            "4.  **藍光被強烈散射：** 由於藍光和紫光的波長比較短，根據瑞利散射的原理，它們被空氣分子散射的強度要遠遠大於波長較長的紅光、橙光等。簡單來說，藍光（和紫光）更容易被“彈開”，向四面八方散開。\n",
            "\n",
            "5.  **我們看到的是散射光：** 當我們抬頭看向天空的任何方向（而不是直接看向太陽時），我們看到的主要是這些被空氣分子散射開來的光線。因為藍光被最有效地散射到四面八方，所以大部分進入我們眼睛的光是藍色的，我們就覺得天空是藍色的。\n",
            "\n",
            "6.  **為什麼不是紫色？** 雖然紫光的波長比藍光更短，散射更強烈，但我們看到的顏色主要是藍色，原因有幾個：一是太陽光譜中藍光的能量相對比紫光高一些；二是人眼的視網膜對藍光比紫光更敏感。因此，雖然紫光和藍光都被強烈散射，我們最終感覺到的顏色以藍色為主。\n",
            "\n",
            "**總結來說：** 天空的藍色並不是天空本身發出的光，而是太陽光中的藍光，在穿透地球大氣層時，被空氣中的氣體分子以瑞利散射的方式強力散射開來，充滿了整個天空，並進入我們的眼睛，使我們看到了藍色的天空。\n"
          ]
        }
      ]
    },
    {
      "cell_type": "code",
      "source": [
        "import requests\n",
        "import subprocess\n",
        "import json\n",
        "\n",
        "# 取得 gcloud access token\n",
        "access_token = subprocess.check_output(\n",
        "    ['gcloud', 'auth', 'print-access-token']\n",
        ").decode('utf-8').strip()\n",
        "\n",
        "# 設定專案與模型資訊\n",
        "model_id = \"gemini-2.0-flash-001\"\n",
        "url = f'https://us-central1-aiplatform.googleapis.com/v1/projects/{vertex_ai_project}/locations/us-central1/publishers/google/models/{model_id}:generateContent'\n",
        "\n",
        "# 設定請求 headers\n",
        "headers = {\n",
        "    'Authorization': f'Bearer {access_token}',\n",
        "    'Content-Type': 'application/json'\n",
        "}\n",
        "\n",
        "# 設定請求 payload\n",
        "payload = {\n",
        "    \"contents\": {\n",
        "        \"role\": \"user\",\n",
        "        \"parts\": [\n",
        "            {\n",
        "                \"text\": \"請問：「庭院深深深幾許」總共有幾種排列方式？\"\n",
        "            }\n",
        "        ]\n",
        "    }\n",
        "}\n",
        "\n",
        "# 發送 POST 請求\n",
        "response = requests.post(url, headers=headers, data=json.dumps(payload))\n",
        "\n",
        "# 輸出回應結果\n",
        "if response.status_code == 200:\n",
        "    print(\"Response:\")\n",
        "    print(response.json())\n",
        "    print(\"answer:\")\n",
        "    print(response.json()['candidates'][0]['content']['parts'][0]['text'])\n",
        "else:\n",
        "    print(f\"Error: {response.status_code}\")\n",
        "    print(response.text)\n"
      ],
      "metadata": {
        "colab": {
          "base_uri": "https://localhost:8080/"
        },
        "id": "ACp0w7QAMUaT",
        "outputId": "3540963c-a073-4b11-d100-dd0f609472b8"
      },
      "execution_count": null,
      "outputs": [
        {
          "output_type": "stream",
          "name": "stdout",
          "text": [
            "Response:\n",
            "{'candidates': [{'content': {'role': 'model', 'parts': [{'text': '「庭院深深深幾許」這六個字，其中「深」出現了三次，其他字各出現一次。因此，我們要計算這六個字有多少種不同的排列方式，可以使用以下公式：\\n\\n總排列數 = 6! / (3! * 1! * 1! * 1!) = 6! / 3!\\n\\n其中：\\n\\n*   6! (6 階乘) 是假設所有字都不同的情況下的排列數，即 6 * 5 * 4 * 3 * 2 * 1 = 720\\n*   3! (3 階乘) 是因為「深」字重複了三次，需要除以重複排列的次數，即 3 * 2 * 1 = 6\\n\\n因此，總排列數 = 720 / 6 = 120\\n\\n所以，「庭院深深深幾許」總共有 **120** 種不同的排列方式。\\n'}]}, 'finishReason': 'STOP', 'avgLogprobs': -0.1817999296781549}], 'usageMetadata': {'promptTokenCount': 16, 'candidatesTokenCount': 209, 'totalTokenCount': 225, 'trafficType': 'ON_DEMAND', 'promptTokensDetails': [{'modality': 'TEXT', 'tokenCount': 16}], 'candidatesTokensDetails': [{'modality': 'TEXT', 'tokenCount': 209}]}, 'modelVersion': 'gemini-2.0-flash-001', 'createTime': '2025-05-07T17:15:15.762268Z', 'responseId': 'I5UbaJzDLoG-nvgP_Zr8wAU'}\n",
            "answer:\n",
            "「庭院深深深幾許」這六個字，其中「深」出現了三次，其他字各出現一次。因此，我們要計算這六個字有多少種不同的排列方式，可以使用以下公式：\n",
            "\n",
            "總排列數 = 6! / (3! * 1! * 1! * 1!) = 6! / 3!\n",
            "\n",
            "其中：\n",
            "\n",
            "*   6! (6 階乘) 是假設所有字都不同的情況下的排列數，即 6 * 5 * 4 * 3 * 2 * 1 = 720\n",
            "*   3! (3 階乘) 是因為「深」字重複了三次，需要除以重複排列的次數，即 3 * 2 * 1 = 6\n",
            "\n",
            "因此，總排列數 = 720 / 6 = 120\n",
            "\n",
            "所以，「庭院深深深幾許」總共有 **120** 種不同的排列方式。\n",
            "\n"
          ]
        }
      ]
    },
    {
      "cell_type": "markdown",
      "source": [
        "## V. 類型配置"
      ],
      "metadata": {
        "id": "9TXqUaaNBEIr"
      }
    },
    {
      "cell_type": "code",
      "source": [
        "from google.genai.types import GenerateContentConfig, Part\n",
        "\n",
        "response = client.models.generate_content(\n",
        "    model='gemini-2.0-flash-001',\n",
        "    contents=Part.from_text(text='請問為何天空是藍色的？'),\n",
        "    config=GenerateContentConfig(\n",
        "        temperature=0,\n",
        "        top_p=0.95,\n",
        "        top_k=20,\n",
        "        candidate_count=1,\n",
        "        seed=5,\n",
        "        max_output_tokens=100,\n",
        "        stop_sequences=['STOP!'],\n",
        "        presence_penalty=0.0,\n",
        "        frequency_penalty=0.0,\n",
        "    ),\n",
        ")\n",
        "\n",
        "print(response.text)"
      ],
      "metadata": {
        "colab": {
          "base_uri": "https://localhost:8080/"
        },
        "id": "nmbOiACcBQ4T",
        "outputId": "41de856b-a310-4a59-e487-8e3be9038ddb"
      },
      "execution_count": null,
      "outputs": [
        {
          "output_type": "stream",
          "name": "stdout",
          "text": [
            "天空之所以是藍色的，主要是因為一種叫做**瑞利散射 (Rayleigh scattering)** 的物理現象。以下是詳細的解釋：\n",
            "\n",
            "* **太陽光是混合光：** 太陽光並非單一顏色，而是由紅、橙、黃、綠、藍、靛、紫等各種顏色的光混合而成。\n",
            "\n",
            "* **大氣層中的微粒：** 地球的大氣層中充滿了各種微小的粒子，例如氮氣、氧\n"
          ]
        }
      ]
    },
    {
      "cell_type": "markdown",
      "source": [
        "## V. Function Calling\n",
        "\n",
        "此處示範，統整所有行政院最新新聞消息的 function calling。\n",
        "\n",
        "API 位置：https://opendata.ey.gov.tw/api/index.html"
      ],
      "metadata": {
        "id": "pDMXxw9gCAQq"
      }
    },
    {
      "cell_type": "code",
      "source": [
        "from typing import List, Union\n",
        "from datetime import datetime, date\n",
        "import requests\n",
        "\n",
        "def normalize_date(date_str: Union[str, date]) -> str:\n",
        "    \"\"\"將輸入轉為 'YYYY/MM/DD' 字串格式\"\"\"\n",
        "    if isinstance(date_str, date):\n",
        "        return date_str.strftime('%Y/%m/%d')\n",
        "    try:\n",
        "        parsed = datetime.strptime(date_str, '%Y-%m-%d')\n",
        "        return parsed.strftime('%Y/%m/%d')\n",
        "    except ValueError:\n",
        "        return date_str  # 假設已是 YYYY/MM/DD\n",
        "\n",
        "def get_ey_news(start_date: str, end_date: str) -> List[dict]:\n",
        "    \"\"\"取得行政院公開新聞資料，日期會強制轉為 'YYYY/MM/DD'\"\"\"\n",
        "    start_date_fmt = normalize_date(start_date)\n",
        "    end_date_fmt = normalize_date(end_date)\n",
        "\n",
        "    url = \"https://opendata.ey.gov.tw/api/ExecutiveYuan/NewsEy\"\n",
        "    params = {\n",
        "        \"StartDate\": start_date_fmt,\n",
        "        \"EndDate\": end_date_fmt,\n",
        "        \"MaxSize\": 10,\n",
        "        \"IsRemoveHtmlTag\": True\n",
        "    }\n",
        "    response = requests.get(url, params=params)\n",
        "    response.raise_for_status()\n",
        "    return response.json()\n"
      ],
      "metadata": {
        "id": "Rp2vkqe0CCqU"
      },
      "execution_count": null,
      "outputs": []
    },
    {
      "cell_type": "code",
      "source": [
        "output = get_ey_news(\"2025/04/01\", \"2025/04/30\")\n",
        "output[0]"
      ],
      "metadata": {
        "colab": {
          "base_uri": "https://localhost:8080/"
        },
        "id": "qnzCdFFfFbRm",
        "outputId": "81eb961e-aa42-43ab-def6-8e12bda6d88d"
      },
      "execution_count": null,
      "outputs": [
        {
          "output_type": "execute_result",
          "data": {
            "text/plain": [
              "{'標題': '主持政院性平會議 卓揆：持續改善性別薪資差距、均衡大專校院師資性別比例、增設性別友善廁所',\n",
              " '內容': '<p>行政院長卓榮泰今（30）日主持「行政院性別平等會第32次委員會議」時表示，政府致力推動性別平等政策及完善相關軟硬體設備，包括定期揭露各行各業的性別薪資資料，積極推動改善策略；促使大專校院系所逐步達成更均衡的師資性別比例，以及透過增設性別友善廁所等各項措施，以營造尊重多元包容與公義的性別平等社會。<br>\\xa0</p><p>卓院長致詞時指出，全面提升性別平等及多元友善的社會環境，一直是政府在各項施政的重要課題，並致力推動性別平等相關政策及完善軟硬體設備。卓院長感謝委員今日撥冗出席提供建言，期盼政府與民間一起合作，讓公務機關擁有更正確方向及具體目標，落實推動性別平等各項措施，共同營造尊重、多元、包容、公義的性別平等社會。<br>\\xa0</p><p>隨後，卓院長在聽取行政院主計總處「運用公務大數據觀察性別薪資概況與分析」報告後表示，為協助各部會研析改善性別薪資差距的具體策進作為，請主計總處提供公務大數據中各類性別統計分析資料，協助勞動部、金融監督管理委員會及各主管機關後續資料運用事宜，並評估增列不利處境者的性別薪資統計，如身心障礙人士、原住民等，以利研擬更全面的策進作為。<br>\\xa0</p><p>卓院長請勞動部強化公司同工同酬的自我檢核及改善，並協同主計總處及各主管機關，定期揭露各行各業的性別薪資資料，積極推動改善策略。卓院長指出，政府自明（115）年起，要求實收資本額100億元以上的上市櫃公司，揭露男性及女性非主管職務，全時員工的薪資平均數及薪資中位數資訊，請金管會加強宣導，展現政府改善性別薪資差距的決心；另請金管會針對上市櫃公司所揭露的統計數據，適時對外詳細說明，讓民眾更了解真實性別薪資概況。<br>\\xa0</p><p>針對教育部、國防部、內政部「大專校院系所專任教師任一性別比例過低之具體改進策略」報告，卓院長表示，性別平等是政府施政重要核心價值，請教育部、國防部及內政部，針對僅有單一性別專任教師的系所，瞭解原因，視情形依《聯合國消除對婦女一切形式歧視公約》（CEDAW）規定，評估訂定「暫行特別措施」，並請勞動部協助確認後續相關精進招聘規定的合宜性。<br>\\xa0</p><p>卓院長亦指示教育部、國防部及內政部蒐集國外推動相關經驗，確保主管大專校院所招聘教師在專業能力符合要求，並兼顧學生受教權的前提下，積極打造性別友善、尊重多元且更具包容性的職場環境，並依所訂目標、期程及策略，逐步達成更為均衡的師資性別比例。<br>\\xa0</p><p></p><p>有關環境部「性別友善廁所倍增行動方案辦理情形」報告，卓院長表示，為打造性別友善與包容性的生活環境，請環境部持續評估各地設置性別友善廁所的需求情形，並兼顧衡平性，針對較為不足的縣市進行輔導，並加強督導查核新增設廁所是否符合性平友善規範。<br>\\xa0</p><p>此外，卓院長請環境部蒐集社會各界意見，精進作法及改善策略，以提高公廁的多元友善度，推動過程中亦請加強社會大眾對性別友善廁所的認知，消除社會大眾使用疑慮；同時強化鼓勵私部門設置性別友善廁所參與的機制，期望公私部門共同營造尊重多元、包容性的友善公共空間。<br>\\xa0</p><p>針對委員在會中提及新住民女性遭不法金融剝削，其個資及照片遭上網公開一事，卓院長請內政部、法務部嚴查不法行為；請勞動部加強保障新住民及外籍移工等弱勢族群工作權益；請金管會向新住民加強宣導普惠金融措施，並請林明昕政務委員協調統籌相關部會妥予應處。此外，行政院會已於上（3）月通過「個人資料保護委員會組織法」草案，俟該法三讀通過及「個人資料保護委員會」成立後，將有助強化及落實個人資料保護工作。</p>',\n",
              " '上版日期': '2025/04/30',\n",
              " '來源網址': 'https://www.ey.gov.tw/Page/9277F759E41CCD91/65c458a2-a533-4216-8165-2fc6eb037c91'}"
            ]
          },
          "metadata": {},
          "execution_count": 8
        }
      ]
    },
    {
      "cell_type": "code",
      "source": [
        "response = client.models.generate_content(\n",
        "    model='gemini-2.0-flash-001',\n",
        "    contents=\"幫我找 2025/04/01 至 2025/04/30 行政院發布的新聞標題和發佈時間\",\n",
        "    config=GenerateContentConfig(tools=[get_ey_news]),\n",
        ")\n",
        "\n",
        "print(response.text)"
      ],
      "metadata": {
        "colab": {
          "base_uri": "https://localhost:8080/"
        },
        "id": "vo9avx7CCpwk",
        "outputId": "885af06b-2ad1-4624-e52e-a5d528ba6d5f"
      },
      "execution_count": null,
      "outputs": [
        {
          "output_type": "stream",
          "name": "stdout",
          "text": [
            "2025/04/01 至 2025/04/30 行政院發布的新聞標題和發佈時間如下：\n",
            "\n",
            "*   **2025/04/30**: 主持政院性平會議 卓揆：持續改善性別薪資差距、均衡大專校院師資性別比例、增設性別友善廁所\n",
            "*   **2025/04/30**: 表揚國土保育有功人員 卓揆期勉持續守護國人健康、維護環境正義、確保國家資源永續發展\n",
            "*   **2025/04/28**: 政府已啟動「精準打擊」機制 全力壓制詐騙犯罪及降低民眾財產損失金額\n",
            "*   **2025/04/28**: 卓揆拜會立法院各黨團 盼朝野共同支持並儘速通過「因應國際情勢強化經濟社會及國土安全韌性特別條例」\n",
            "*   **2025/04/24**: 卓揆赴教宗方濟各靈堂追思 緬懷教宗一生勤儉、關愛世人\n",
            "*   **2025/04/24**: 卓揆拍板通過「因應國際情勢強化經濟社會及國土安全韌性特別條例」草案 編列4,100億元支持產業、安定就業、照顧民生、強化韌性\n",
            "*   **2025/04/24**: 卓揆指示最短時間內全數提出解凍案 盼立法院儘速審議 讓國家快速向前行\n",
            "*   **2025/04/24**: 卓揆：持續精進打詐工作 守護民眾財產安全、維繫社會安定\n",
            "*   **2025/04/24**: 卓揆：放寬支持方案申請要件以貼近實際需求 及時支持受美國關稅政策影響產業、廠商及勞工\n",
            "*   **2025/04/24**: 政院通過「113年度中央政府總決算暨附屬單位決算及綜計表」及「中央政府前瞻基礎建設計畫第4期特別決算」 連8年總決算歲入歲出有賸餘 嚴守財政、開源節流\n"
          ]
        }
      ]
    },
    {
      "cell_type": "markdown",
      "source": [
        "## VII. Pydantic-JSON 回應架構"
      ],
      "metadata": {
        "id": "gh0bJ1lLFiCL"
      }
    },
    {
      "cell_type": "code",
      "source": [
        "from pydantic import BaseModel\n",
        "\n",
        "\n",
        "class CountryInfo(BaseModel):\n",
        "    name: str\n",
        "    population: int\n",
        "    capital: str\n",
        "    continent: str\n",
        "    gdp: int\n",
        "    official_language: str\n",
        "    total_area_sq_mi: int\n",
        "\n",
        "\n",
        "response = client.models.generate_content(\n",
        "    model='gemini-2.0-flash-001',\n",
        "    contents='請給我台灣的相關資訊',\n",
        "    config=GenerateContentConfig(\n",
        "        response_mime_type='application/json',\n",
        "        response_schema=CountryInfo,\n",
        "    ),\n",
        ")\n",
        "print(response.text)"
      ],
      "metadata": {
        "colab": {
          "base_uri": "https://localhost:8080/"
        },
        "id": "Xj1OpsPmFhuX",
        "outputId": "7ae4d516-065f-4244-cfb7-d789fe790098"
      },
      "execution_count": null,
      "outputs": [
        {
          "output_type": "stream",
          "name": "stdout",
          "text": [
            "{\n",
            "  \"name\": \"Taiwan\",\n",
            "  \"population\": 23819742,\n",
            "  \"capital\": \"Taipei\",\n",
            "  \"continent\": \"Asia\",\n",
            "  \"gdp\": 759100000000,\n",
            "  \"official_language\": \"Mandarin Chinese\",\n",
            "  \"total_area_sq_mi\": 13974\n",
            "}\n"
          ]
        }
      ]
    },
    {
      "cell_type": "markdown",
      "source": [
        "## VIII. Streaming Output"
      ],
      "metadata": {
        "id": "kP4_R0lbGAew"
      }
    },
    {
      "cell_type": "code",
      "source": [
        "for chunk in client.models.generate_content_stream(\n",
        "    model='gemini-2.0-flash-001', contents='請用100字講一個大野狼的故事'\n",
        "):\n",
        "    print(chunk.text, end='')"
      ],
      "metadata": {
        "colab": {
          "base_uri": "https://localhost:8080/"
        },
        "id": "ZonBfGbJGADQ",
        "outputId": "1383e8d2-c5af-4ab5-f709-5ff8ef240aaa"
      },
      "execution_count": null,
      "outputs": [
        {
          "output_type": "stream",
          "name": "stdout",
          "text": [
            "從前，森林裡住著一隻飢餓的大野狼。牠偽裝成老奶奶，想騙小紅帽進屋吃掉。小紅帽不疑有他，進了屋子，卻發現「奶奶」的眼睛、耳朵和嘴巴都大的可怕！大野狼露出了真面目，正要撲向小紅帽時，一位勇敢的獵人衝進來，救了小紅帽，並把大野狼趕出了森林。從此以後，小紅帽再也不敢輕易相信陌生人了。\n"
          ]
        }
      ]
    },
    {
      "cell_type": "markdown",
      "source": [
        "[ 只給 Vertex AI 用戶使用 ] 計算 token 數量"
      ],
      "metadata": {
        "id": "nEkKcNBTIzni"
      }
    },
    {
      "cell_type": "code",
      "source": [
        "response = client.models.compute_tokens(\n",
        "    model='gemini-2.0-flash-001',\n",
        "    contents='請問天空為何是藍色的？',\n",
        ")\n",
        "print(response)"
      ],
      "metadata": {
        "id": "lxqVjXNRI0AL",
        "outputId": "9c1119b4-dab3-475d-ed30-316d05c976d2",
        "colab": {
          "base_uri": "https://localhost:8080/"
        }
      },
      "execution_count": null,
      "outputs": [
        {
          "output_type": "stream",
          "name": "stdout",
          "text": [
            "tokens_info=[TokensInfo(role='user', token_ids=[160287, 90420, 171755, 235427, 238752, 35219, 235544], tokens=[b'\\xe8\\xab\\x8b\\xe5\\x95\\x8f', b'\\xe5\\xa4\\xa9\\xe7\\xa9\\xba', b'\\xe7\\x82\\xba\\xe4\\xbd\\x95', b'\\xe6\\x98\\xaf', b'\\xe8\\x97\\x8d', b'\\xe8\\x89\\xb2\\xe7\\x9a\\x84', b'\\xef\\xbc\\x9f'])]\n"
          ]
        }
      ]
    }
  ]
}