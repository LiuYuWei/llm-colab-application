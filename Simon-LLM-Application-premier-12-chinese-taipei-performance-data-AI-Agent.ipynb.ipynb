{
  "cells": [
    {
      "cell_type": "markdown",
      "id": "c16ec7bb",
      "metadata": {
        "id": "c16ec7bb"
      },
      "source": [
        "\n",
        "# 中華隊成績查詢與分析工具\n",
        "**Credit by Simon Liu**\n",
        "\n",
        "此 Notebook 使用生成式 AI 和工具整合來查詢棒球選手的比賽成績並進行數據分析。\n"
      ]
    },
    {
      "cell_type": "code",
      "execution_count": null,
      "id": "368c02ba",
      "metadata": {
        "colab": {
          "base_uri": "https://localhost:8080/"
        },
        "id": "368c02ba",
        "outputId": "90a9ca30-96e5-4d71-8f7e-ecd83100a130"
      },
      "outputs": [
        {
          "name": "stdout",
          "output_type": "stream",
          "text": [
            "\u001b[?25l   \u001b[90m━━━━━━━━━━━━━━━━━━━━━━━━━━━━━━━━━━━━━━━━\u001b[0m \u001b[32m0.0/2.4 MB\u001b[0m \u001b[31m?\u001b[0m eta \u001b[36m-:--:--\u001b[0m\r",
            "\u001b[2K   \u001b[91m━━━━━━━━━━━━━━━━━━━━\u001b[0m\u001b[90m╺\u001b[0m\u001b[90m━━━━━━━━━━━━━━━━━━━\u001b[0m \u001b[32m1.2/2.4 MB\u001b[0m \u001b[31m35.0 MB/s\u001b[0m eta \u001b[36m0:00:01\u001b[0m\r",
            "\u001b[2K   \u001b[91m━━━━━━━━━━━━━━━━━━━━━━━━━━━━━━━━━━━━━━━\u001b[0m\u001b[91m╸\u001b[0m \u001b[32m2.4/2.4 MB\u001b[0m \u001b[31m34.6 MB/s\u001b[0m eta \u001b[36m0:00:01\u001b[0m\r",
            "\u001b[2K   \u001b[90m━━━━━━━━━━━━━━━━━━━━━━━━━━━━━━━━━━━━━━━━\u001b[0m \u001b[32m2.4/2.4 MB\u001b[0m \u001b[31m22.7 MB/s\u001b[0m eta \u001b[36m0:00:00\u001b[0m\n",
            "\u001b[2K   \u001b[90m━━━━━━━━━━━━━━━━━━━━━━━━━━━━━━━━━━━━━━━━\u001b[0m \u001b[32m41.3/41.3 kB\u001b[0m \u001b[31m2.3 MB/s\u001b[0m eta \u001b[36m0:00:00\u001b[0m\n",
            "\u001b[2K   \u001b[90m━━━━━━━━━━━━━━━━━━━━━━━━━━━━━━━━━━━━━━━━\u001b[0m \u001b[32m3.1/3.1 MB\u001b[0m \u001b[31m19.2 MB/s\u001b[0m eta \u001b[36m0:00:00\u001b[0m\n",
            "\u001b[2K   \u001b[90m━━━━━━━━━━━━━━━━━━━━━━━━━━━━━━━━━━━━━━━━\u001b[0m \u001b[32m49.5/49.5 kB\u001b[0m \u001b[31m2.9 MB/s\u001b[0m eta \u001b[36m0:00:00\u001b[0m\n",
            "\u001b[?25h"
          ]
        }
      ],
      "source": [
        "## 安裝必要的套件\n",
        "# 安裝 LangChain 社群工具包和 Google Generative AI 模組。\n",
        "# 安裝必要的套件\n",
        "!pip install -q langchain_community langchain-google-genai"
      ]
    },
    {
      "cell_type": "code",
      "source": [
        "!wget https://huggingface.co/datasets/Simon-Liu/premier-12-chinese-taipei-performance-data/resolve/main/%E4%B8%AD%E8%8F%AF%E9%9A%8A_bat_data_with_chinese_names.csv\n",
        "!wget https://huggingface.co/datasets/Simon-Liu/premier-12-chinese-taipei-performance-data/resolve/main/%E4%B8%AD%E8%8F%AF%E9%9A%8A_field_data_with_chinese_names.csv\n",
        "!wget https://huggingface.co/datasets/Simon-Liu/premier-12-chinese-taipei-performance-data/resolve/main/%E4%B8%AD%E8%8F%AF%E9%9A%8A_pitch_data_with_chinese_names.csv"
      ],
      "metadata": {
        "colab": {
          "base_uri": "https://localhost:8080/"
        },
        "id": "RjX4vOvwwAJe",
        "outputId": "808c3937-249b-446b-f31f-62407afb28b0"
      },
      "id": "RjX4vOvwwAJe",
      "execution_count": 2,
      "outputs": [
        {
          "output_type": "stream",
          "name": "stdout",
          "text": [
            "--2024-11-20 04:07:35--  https://huggingface.co/datasets/Simon-Liu/premier-12-chinese-taipei-performance-data/resolve/main/%E4%B8%AD%E8%8F%AF%E9%9A%8A_bat_data_with_chinese_names.csv\n",
            "Resolving huggingface.co (huggingface.co)... 3.171.171.6, 3.171.171.104, 3.171.171.128, ...\n",
            "Connecting to huggingface.co (huggingface.co)|3.171.171.6|:443... connected.\n",
            "HTTP request sent, awaiting response... 200 OK\n",
            "Length: 1325 (1.3K) [text/plain]\n",
            "Saving to: ‘中華隊_bat_data_with_chinese_names.csv’\n",
            "\n",
            "\r          中華隊_ba   0%[                    ]       0  --.-KB/s               \r中華隊_bat_data_wit 100%[===================>]   1.29K  --.-KB/s    in 0s      \n",
            "\n",
            "2024-11-20 04:07:35 (370 MB/s) - ‘中華隊_bat_data_with_chinese_names.csv’ saved [1325/1325]\n",
            "\n",
            "--2024-11-20 04:07:35--  https://huggingface.co/datasets/Simon-Liu/premier-12-chinese-taipei-performance-data/resolve/main/%E4%B8%AD%E8%8F%AF%E9%9A%8A_field_data_with_chinese_names.csv\n",
            "Resolving huggingface.co (huggingface.co)... 3.171.171.6, 3.171.171.104, 3.171.171.128, ...\n",
            "Connecting to huggingface.co (huggingface.co)|3.171.171.6|:443... connected.\n",
            "HTTP request sent, awaiting response... 200 OK\n",
            "Length: 948 [text/plain]\n",
            "Saving to: ‘中華隊_field_data_with_chinese_names.csv’\n",
            "\n",
            "中華隊_field_data_w 100%[===================>]     948  --.-KB/s    in 0s      \n",
            "\n",
            "2024-11-20 04:07:36 (469 MB/s) - ‘中華隊_field_data_with_chinese_names.csv’ saved [948/948]\n",
            "\n",
            "--2024-11-20 04:07:36--  https://huggingface.co/datasets/Simon-Liu/premier-12-chinese-taipei-performance-data/resolve/main/%E4%B8%AD%E8%8F%AF%E9%9A%8A_pitch_data_with_chinese_names.csv\n",
            "Resolving huggingface.co (huggingface.co)... 3.171.171.6, 3.171.171.104, 3.171.171.128, ...\n",
            "Connecting to huggingface.co (huggingface.co)|3.171.171.6|:443... connected.\n",
            "HTTP request sent, awaiting response... 200 OK\n",
            "Length: 1150 (1.1K) [text/plain]\n",
            "Saving to: ‘中華隊_pitch_data_with_chinese_names.csv’\n",
            "\n",
            "中華隊_pitch_data_w 100%[===================>]   1.12K  --.-KB/s    in 0s      \n",
            "\n",
            "2024-11-20 04:07:36 (504 MB/s) - ‘中華隊_pitch_data_with_chinese_names.csv’ saved [1150/1150]\n",
            "\n"
          ]
        }
      ]
    },
    {
      "cell_type": "code",
      "execution_count": 3,
      "id": "23b6b25a",
      "metadata": {
        "id": "23b6b25a"
      },
      "outputs": [],
      "source": [
        "## 定義打擊成績查詢工具\n",
        "# 使用 LangChain 的工具功能定義搜尋特定選手打擊數據的工具。\n",
        "import pandas as pd\n",
        "import json\n",
        "from langchain_core.tools import tool\n",
        "\n",
        "@tool\n",
        "def search_bat_player_stats(player_name: str) -> str:\n",
        "    \"\"\"\n",
        "    Search for player statistics by name in the CSV file.\n",
        "    Returns raw data in JSON format.\n",
        "    \"\"\"\n",
        "    try:\n",
        "        # 讀取 CSV 文件\n",
        "        file_path = \"/content/中華隊_bat_data_with_chinese_names.csv\"\n",
        "        df = pd.read_csv(file_path)\n",
        "\n",
        "        # 搜尋球員\n",
        "        player_data = df[df['player_chinese'] == player_name]\n",
        "\n",
        "        if player_data.empty:\n",
        "            return json.dumps({\"error\": \"Player not found.\"})\n",
        "\n",
        "        # 將結果轉換為 JSON 格式\n",
        "        result = player_data.to_dict(orient=\"records\")\n",
        "        return json.dumps(result, ensure_ascii=False)\n",
        "\n",
        "    except Exception as e:\n",
        "        return json.dumps({\"error\": str(e)})"
      ]
    },
    {
      "cell_type": "code",
      "execution_count": 4,
      "id": "e3065f83",
      "metadata": {
        "colab": {
          "base_uri": "https://localhost:8080/",
          "height": 87
        },
        "id": "e3065f83",
        "outputId": "377ff2bf-9545-414e-c49c-5479ee564383"
      },
      "outputs": [
        {
          "output_type": "stream",
          "name": "stdout",
          "text": [
            "CPU times: user 16.4 ms, sys: 6.86 ms, total: 23.2 ms\n",
            "Wall time: 30.9 ms\n"
          ]
        },
        {
          "output_type": "execute_result",
          "data": {
            "text/plain": [
              "'[{\"球員\": \"CHANG\\\\nCheng-Yu\", \"AB\": 7, \"R\": 1, \"H\": 1, \"2B\": 0, \"3B\": 0, \"HR\": 0, \"RBI\": 1, \"TB\": 1, \"AVG\": 0.143, \"SLG\": 0.143, \"OBP\": 0.143, \"OPS\": 0.286, \"BB\": 0, \"HBP\": 0, \"SO\": 1, \"GDP\": 0, \"SF\": 0, \"SH\": 0, \"SB\": 1, \"CS\": 0, \"player_chinese\": \"張政禹\"}]'"
            ],
            "application/vnd.google.colaboratory.intrinsic+json": {
              "type": "string"
            }
          },
          "metadata": {},
          "execution_count": 4
        }
      ],
      "source": [
        "## 測試打擊成績查詢工具\n",
        "# 測試 `search_bat_player_stats` 工具，查詢張政禹的打擊數據。\n",
        "%%time\n",
        "\n",
        "search_bat_player_stats.invoke({\"player_name\": \"張政禹\"})"
      ]
    },
    {
      "cell_type": "code",
      "execution_count": null,
      "id": "8ef2e0b3",
      "metadata": {
        "id": "8ef2e0b3"
      },
      "outputs": [],
      "source": [
        "## 設定 Google API\n",
        "# 設定 Google API 金鑰，準備初始化 Google 生成式 AI 模型。\n",
        "import os\n",
        "from google.colab import userdata\n",
        "\n",
        "os.environ['GOOGLE_API_KEY'] = userdata.get('GOOGLE_API_KEY')"
      ]
    },
    {
      "cell_type": "code",
      "execution_count": null,
      "id": "df0118b5",
      "metadata": {
        "id": "df0118b5"
      },
      "outputs": [],
      "source": [
        "## 初始化生成式 AI 模型\n",
        "# 使用 Google Generative AI 的模型來處理查詢。\n",
        "from langchain_google_genai import ChatGoogleGenerativeAI\n",
        "\n",
        "# 初始化語言模型\n",
        "llm = ChatGoogleGenerativeAI(\n",
        "    model=\"gemini-1.5-flash-8b\",\n",
        "    temperature=0,\n",
        ")"
      ]
    },
    {
      "cell_type": "code",
      "execution_count": null,
      "id": "89610ada",
      "metadata": {
        "id": "89610ada"
      },
      "outputs": [],
      "source": [
        "## 綁定工具與語言模型\n",
        "# 將 `search_bat_player_stats` 工具綁定到語言模型，方便整合操作。\n",
        "llm_with_tools = llm.bind_tools([search_bat_player_stats])"
      ]
    },
    {
      "cell_type": "code",
      "execution_count": null,
      "id": "11301ebd",
      "metadata": {
        "colab": {
          "base_uri": "https://localhost:8080/"
        },
        "id": "11301ebd",
        "outputId": "f3049d04-0a92-4996-ad57-a2dc12cab4ef"
      },
      "outputs": [
        {
          "name": "stdout",
          "output_type": "stream",
          "text": [
            "CPU times: user 19.2 ms, sys: 2.14 ms, total: 21.3 ms\n",
            "Wall time: 1.04 s\n"
          ]
        },
        {
          "data": {
            "text/plain": [
              "[{'name': 'search_bat_player_stats',\n",
              "  'args': {'player_name': '張政禹'},\n",
              "  'id': 'c936f2f8-8edc-4cf3-b188-aa9e284705ad',\n",
              "  'type': 'tool_call'}]"
            ]
          },
          "execution_count": 41,
          "metadata": {},
          "output_type": "execute_result"
        }
      ],
      "source": [
        "## 測試語言模型與工具的整合\n",
        "# 測試整合後的工具，詢問張政禹的比賽成績並檢視結果。\n",
        "%%time\n",
        "\n",
        "msg = llm_with_tools.invoke(\"張政禹選手的成績？\")\n",
        "msg.tool_calls"
      ]
    },
    {
      "cell_type": "code",
      "execution_count": null,
      "id": "f04c063d",
      "metadata": {
        "colab": {
          "base_uri": "https://localhost:8080/"
        },
        "id": "f04c063d",
        "outputId": "d9f7ece0-5469-4138-985a-ab4b0f371b41"
      },
      "outputs": [
        {
          "name": "stderr",
          "output_type": "stream",
          "text": [
            "/usr/local/lib/python3.10/dist-packages/langsmith/client.py:241: LangSmithMissingAPIKeyWarning: API key must be provided when using hosted LangSmith API\n",
            "  warnings.warn(\n"
          ]
        },
        {
          "name": "stdout",
          "output_type": "stream",
          "text": [
            "================================\u001b[1m System Message \u001b[0m================================\n",
            "\n",
            "You are a helpful assistant\n",
            "\n",
            "=============================\u001b[1m Messages Placeholder \u001b[0m=============================\n",
            "\n",
            "\u001b[33;1m\u001b[1;3m{chat_history}\u001b[0m\n",
            "\n",
            "================================\u001b[1m Human Message \u001b[0m=================================\n",
            "\n",
            "\u001b[33;1m\u001b[1;3m{input}\u001b[0m\n",
            "\n",
            "=============================\u001b[1m Messages Placeholder \u001b[0m=============================\n",
            "\n",
            "\u001b[33;1m\u001b[1;3m{agent_scratchpad}\u001b[0m\n"
          ]
        }
      ],
      "source": [
        "## 載入 Prompt 範例\n",
        "# 從 LangChain Hub 載入範例 Prompt，準備用於查詢。\n",
        "from langchain import hub\n",
        "\n",
        "# Get the prompt to use - can be replaced with any prompt that includes variables \"agent_scratchpad\" and \"input\"!\n",
        "prompt = hub.pull(\"hwchase17/openai-tools-agent\")\n",
        "prompt.pretty_print()"
      ]
    },
    {
      "cell_type": "code",
      "execution_count": null,
      "id": "21b692fa",
      "metadata": {
        "colab": {
          "base_uri": "https://localhost:8080/"
        },
        "id": "21b692fa",
        "outputId": "84c38b53-6301-43fe-e789-d68fa9a674c9"
      },
      "outputs": [
        {
          "name": "stdout",
          "output_type": "stream",
          "text": [
            "================================\u001b[1m Human Message \u001b[0m=================================\n",
            "\n",
            "\n",
            "================================ System Message ================================\n",
            "\n",
            "這是一個可以查詢 2024 12強棒球賽，中華隊投球、打擊、守備數據庫，\n",
            "你是一個專業的數據查詢和分析助手。你可以使用工具來查詢數據並幫助用戶完成額外計算。\n",
            "\n",
            "工具分成：\n",
            "1. 打擊數據成績\n",
            "2. 投球數據成績\n",
            "3. 守備數據成績\n",
            "\n",
            "當用戶詢問問題時：\n",
            "- 首先使用工具查詢棒球員的相關數據。\n",
            "- 然後完成所需的計算。\n",
            "- 最後以自然語言回答用戶的問題。\n",
            "\n",
            "現在準備好處理用戶的請求。\n",
            "\n",
            "================================ Human Message =================================\n",
            "\n",
            "\u001b[33;1m\u001b[1;3m{input}\u001b[0m\n",
            "\n",
            "============================= Messages Placeholder =============================\n",
            "\n",
            "\u001b[33;1m\u001b[1;3m{agent_scratchpad}\u001b[0m\n",
            "\n"
          ]
        }
      ],
      "source": [
        "## 定義自訂 Prompt 模板\n",
        "# 定義用於生成式 AI 和工具的 Prompt，包含佔位符以便替換。\n",
        "from langchain_core.prompts import ChatPromptTemplate\n",
        "\n",
        "# 定義包含佔位符的字串模板\n",
        "template = \"\"\"\n",
        "================================ System Message ================================\n",
        "\n",
        "這是一個可以查詢 2024 12強棒球賽，中華隊投球、打擊、守備數據庫，\n",
        "你是一個專業的數據查詢和分析助手。你可以使用工具來查詢數據並幫助用戶完成額外計算。\n",
        "\n",
        "工具分成：\n",
        "1. 打擊數據成績\n",
        "2. 投球數據成績\n",
        "3. 守備數據成績\n",
        "\n",
        "當用戶詢問問題時：\n",
        "- 首先使用工具查詢棒球員的相關數據。\n",
        "- 然後完成所需的計算。\n",
        "- 最後以自然語言回答用戶的問題。\n",
        "\n",
        "現在準備好處理用戶的請求。\n",
        "\n",
        "================================ Human Message =================================\n",
        "\n",
        "{input}\n",
        "\n",
        "============================= Messages Placeholder =============================\n",
        "\n",
        "{agent_scratchpad}\n",
        "\"\"\"\n",
        "\n",
        "# 使用 from_template 方法將字串轉換為 ChatPromptTemplate\n",
        "prompt = ChatPromptTemplate.from_template(template)\n",
        "prompt.pretty_print()"
      ]
    },
    {
      "cell_type": "code",
      "execution_count": null,
      "id": "cb4ce413",
      "metadata": {
        "id": "cb4ce413"
      },
      "outputs": [],
      "source": [
        "## 載入代理工具執行模組\n",
        "# 載入 LangChain 的代理執行功能模組。\n",
        "from langchain.agents import AgentExecutor, create_tool_calling_agent"
      ]
    },
    {
      "cell_type": "code",
      "execution_count": null,
      "id": "75987beb",
      "metadata": {
        "id": "75987beb"
      },
      "outputs": [],
      "source": [
        "## 定義守備成績查詢工具\n",
        "# 定義搜尋守備成績數據的工具，擴展數據查詢能力。\n",
        "import pandas as pd\n",
        "import json\n",
        "from langchain_core.tools import tool\n",
        "\n",
        "@tool\n",
        "def search_field_player_stats(player_name: str) -> str:\n",
        "    \"\"\"\n",
        "    Search for player statistics by name in the CSV file.\n",
        "    Returns raw data in JSON format.\n",
        "    \"\"\"\n",
        "    try:\n",
        "        # 讀取 CSV 文件\n",
        "        file_path = \"/content/中華隊_field_data_with_chinese_names.csv\"\n",
        "        df = pd.read_csv(file_path)\n",
        "\n",
        "        # 搜尋球員\n",
        "        player_data = df[df['player_chinese'] == player_name]\n",
        "\n",
        "        if player_data.empty:\n",
        "            return json.dumps({\"error\": \"Player not found.\"})\n",
        "\n",
        "        # 將結果轉換為 JSON 格式\n",
        "        result = player_data.to_dict(orient=\"records\")\n",
        "        return json.dumps(result, ensure_ascii=False)\n",
        "\n",
        "    except Exception as e:\n",
        "        return json.dumps({\"error\": str(e)})"
      ]
    },
    {
      "cell_type": "code",
      "execution_count": null,
      "id": "4fb96021",
      "metadata": {
        "id": "4fb96021"
      },
      "outputs": [],
      "source": [
        "## 定義投球成績查詢工具\n",
        "# 定義搜尋投球成績數據的工具，提供完整的投手數據支持。\n",
        "import pandas as pd\n",
        "import json\n",
        "from langchain_core.tools import tool\n",
        "\n",
        "@tool\n",
        "def search_pitch_player_stats(player_name: str) -> str:\n",
        "    \"\"\"\n",
        "    Search for player statistics by name in the CSV file.\n",
        "    Returns raw data in JSON format.\n",
        "    \"\"\"\n",
        "    try:\n",
        "        # 讀取 CSV 文件\n",
        "        file_path = \"/content/中華隊_pitch_data_with_chinese_names.csv\"\n",
        "        df = pd.read_csv(file_path)\n",
        "\n",
        "        # 搜尋球員\n",
        "        player_data = df[df['player_chinese'] == player_name]\n",
        "\n",
        "        if player_data.empty:\n",
        "            return json.dumps({\"error\": \"Player not found.\"})\n",
        "\n",
        "        # 將結果轉換為 JSON 格式\n",
        "        result = player_data.to_dict(orient=\"records\")\n",
        "        return json.dumps(result, ensure_ascii=False)\n",
        "\n",
        "    except Exception as e:\n",
        "        return json.dumps({\"error\": str(e)})"
      ]
    },
    {
      "cell_type": "code",
      "execution_count": null,
      "id": "9c137a05",
      "metadata": {
        "id": "9c137a05"
      },
      "outputs": [],
      "source": [
        "## 整合所有工具\n",
        "# 將打擊、守備和投球數據查詢工具整合到工具清單中。\n",
        "tools = [search_bat_player_stats, search_field_player_stats, search_pitch_player_stats]"
      ]
    },
    {
      "cell_type": "code",
      "execution_count": null,
      "id": "e31a2abb",
      "metadata": {
        "id": "e31a2abb"
      },
      "outputs": [],
      "source": [
        "## 創建工具代理\n",
        "# 建立代理工具系統，將語言模型和工具清單整合以提供查詢能力。\n",
        "# Construct the tool calling agent\n",
        "agent = create_tool_calling_agent(llm, tools, prompt)"
      ]
    },
    {
      "cell_type": "code",
      "execution_count": null,
      "id": "d4e17d43",
      "metadata": {
        "id": "d4e17d43"
      },
      "outputs": [],
      "source": [
        "## 建立代理執行器\n",
        "# 設定代理執行器，允許使用工具代理執行複雜查詢。\n",
        "# Create an agent executor by passing in the agent and tools\n",
        "agent_executor = AgentExecutor(\n",
        "    agent=agent,\n",
        "    tools=tools,\n",
        "    verbose=True,\n",
        "    return_intermediate_steps=True,\n",
        "    max_iterations=5  # Example limit\n",
        ")"
      ]
    },
    {
      "cell_type": "code",
      "execution_count": null,
      "id": "ed8bcf40",
      "metadata": {
        "colab": {
          "base_uri": "https://localhost:8080/"
        },
        "id": "ed8bcf40",
        "outputId": "e2c6a1fe-0597-49e8-b1a3-2215e1b5c94f"
      },
      "outputs": [
        {
          "name": "stdout",
          "output_type": "stream",
          "text": [
            "\n",
            "\n",
            "\u001b[1m> Entering new AgentExecutor chain...\u001b[0m\n",
            "\u001b[32;1m\u001b[1;3m\n",
            "Invoking: `search_pitch_player_stats` with `{'player_name': '王志煊'}`\n",
            "\n",
            "\n",
            "\u001b[0m\u001b[38;5;200m\u001b[1;3m[{\"球員\": \"WANG\\nChih-Hsuan\", \"W\": 1, \"L\": 0, \"ERA\": 0.0, \"APP\": 2, \"GS\": 0, \"SV\": 0, \"IP\": 2.0, \"H\": 1, \"R\": 0, \"ER\": 0, \"BB\": 0, \"SO\": 2, \"2B\": 1, \"HR\": 0, \"AB\": 7, \"BAVG\": 0.143, \"HB\": 0, \"SHA\": 0, \"SHA.1\": 0, \"GO\": 1, \"FO\": 3, \"WHIP\": 0.5, \"player_chinese\": \"王志煊\"}]\u001b[0m\u001b[32;1m\u001b[1;3m王志煊的投球成績如下：\n",
            "\n",
            "W：1  L：0  ERA：0.0  APP：2  GS：0  SV：0  IP：2.0  H：1  R：0  ER：0  BB：0  SO：2  2B：1  HR：0  AB：7  BAVG：0.143  HB：0  SHA：0  SHA.1：0  GO：1  FO：3  WHIP：0.5\n",
            "\n",
            "滾飛比 = (GO / FO) = 1 / 3 = 0.33\n",
            "\n",
            "請注意，由於投球局數較少，滾飛比的計算結果可能不夠穩定。\n",
            "\u001b[0m\n",
            "\n",
            "\u001b[1m> Finished chain.\u001b[0m\n",
            "CPU times: user 62.1 ms, sys: 3.17 ms, total: 65.3 ms\n",
            "Wall time: 2.02 s\n"
          ]
        }
      ],
      "source": [
        "## 測試代理執行器\n",
        "# 使用代理執行器查詢王志煊的投球成績，並計算滾飛比。\n",
        "%%time\n",
        "\n",
        "result = agent_executor.invoke(\n",
        "    {\n",
        "        \"input\": \"請問王志煊的投球成績，並幫我計算滾飛比？\"\n",
        "    }\n",
        ")"
      ]
    },
    {
      "cell_type": "code",
      "execution_count": null,
      "id": "2794a750",
      "metadata": {
        "colab": {
          "base_uri": "https://localhost:8080/"
        },
        "id": "2794a750",
        "outputId": "7277d499-ce41-42aa-c49a-10a63445d23f"
      },
      "outputs": [
        {
          "name": "stdout",
          "output_type": "stream",
          "text": [
            "王志煊的投球成績如下：\n",
            "\n",
            "W：1  L：0  ERA：0.0  APP：2  GS：0  SV：0  IP：2.0  H：1  R：0  ER：0  BB：0  SO：2  2B：1  HR：0  AB：7  BAVG：0.143  HB：0  SHA：0  SHA.1：0  GO：1  FO：3  WHIP：0.5\n",
            "\n",
            "滾飛比 = (GO / FO) = 1 / 3 = 0.33\n",
            "\n",
            "請注意，由於投球局數較少，滾飛比的計算結果可能不夠穩定。\n",
            "\n"
          ]
        }
      ],
      "source": [
        "## 列印結果\n",
        "# 輸出查詢結果到控制台。\n",
        "print(result['output'])"
      ]
    },
    {
      "cell_type": "code",
      "execution_count": null,
      "id": "af732759",
      "metadata": {
        "colab": {
          "base_uri": "https://localhost:8080/"
        },
        "id": "af732759",
        "outputId": "3b5d99b1-57c8-4477-ab7b-19c9c376236d"
      },
      "outputs": [
        {
          "name": "stdout",
          "output_type": "stream",
          "text": [
            "\n",
            "\n",
            "\u001b[1m> Entering new AgentExecutor chain...\u001b[0m\n",
            "\u001b[32;1m\u001b[1;3m\n",
            "Invoking: `search_bat_player_stats` with `{'player_name': '林安可'}`\n",
            "\n",
            "\n",
            "\u001b[0m\u001b[36;1m\u001b[1;3m[{\"球員\": \"LIN\\nAn-Ko\", \"AB\": 8, \"R\": 0, \"H\": 2, \"2B\": 1, \"3B\": 0, \"HR\": 0, \"RBI\": 0, \"TB\": 3, \"AVG\": 0.25, \"SLG\": 0.375, \"OBP\": 0.333, \"OPS\": 0.708, \"BB\": 0, \"HBP\": 1, \"SO\": 2, \"GDP\": 0, \"SF\": 0, \"SH\": 0, \"SB\": 0, \"CS\": 0, \"player_chinese\": \"林安可\"}]\u001b[0m\u001b[32;1m\u001b[1;3m林安可這次賽會打擊成績為：打數 8，安打 2，二壘打 1，整體打擊率 0.25，長打率 0.375，上壘率 0.333，OPS 值 0.708。此外，他被擊中 1 次，三振 2 次。\n",
            "\u001b[0m\n",
            "\n",
            "\u001b[1m> Finished chain.\u001b[0m\n",
            "CPU times: user 55.9 ms, sys: 4.41 ms, total: 60.3 ms\n",
            "Wall time: 1.25 s\n"
          ]
        }
      ],
      "source": [
        "## 測試其他查詢\n",
        "# 測試代理執行器查詢林安可的打擊狀況，檢視結果。\n",
        "%%time\n",
        "\n",
        "result = agent_executor.invoke(\n",
        "    {\n",
        "        \"input\": \"請問林安可這次賽會的打擊狀況如何？\"\n",
        "    }\n",
        ")"
      ]
    },
    {
      "cell_type": "code",
      "execution_count": null,
      "id": "b72718b2",
      "metadata": {
        "colab": {
          "base_uri": "https://localhost:8080/"
        },
        "id": "b72718b2",
        "outputId": "026257f9-9838-4371-929b-05d11e68f554"
      },
      "outputs": [
        {
          "name": "stdout",
          "output_type": "stream",
          "text": [
            "林安可這次賽會打擊成績為：打數 8，安打 2，二壘打 1，整體打擊率 0.25，長打率 0.375，上壘率 0.333，OPS 值 0.708。\n",
            "此外，他被擊中 1 次，三振 2 次。\n",
            "\n",
            "\n"
          ]
        }
      ],
      "source": [
        "## 格式化並列印輸出\n",
        "# 將輸出格式化後列印，提高結果的可讀性。\n",
        "# 印出結果\n",
        "print(result['output'].replace('。', '。\\n'))"
      ]
    }
  ],
  "metadata": {
    "colab": {
      "provenance": []
    },
    "kernelspec": {
      "display_name": "Python 3",
      "name": "python3"
    },
    "language_info": {
      "name": "python"
    }
  },
  "nbformat": 4,
  "nbformat_minor": 5
}