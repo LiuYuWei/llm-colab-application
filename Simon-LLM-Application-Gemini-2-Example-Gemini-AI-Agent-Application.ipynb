{
  "nbformat": 4,
  "nbformat_minor": 0,
  "metadata": {
    "colab": {
      "provenance": []
    },
    "kernelspec": {
      "name": "python3",
      "display_name": "Python 3"
    },
    "language_info": {
      "name": "python"
    }
  },
  "cells": [
    {
      "cell_type": "markdown",
      "source": [
        "# Google GenAI x Google Gemini AI Agent example for zh/zh-tw users\n",
        "\n",
        "This is an example for\n",
        "1. Hello world to Gemini 2.0.\n",
        "2. building an AI Agent and we can search the Taiwan weather from Central Weather Administration.\n",
        "\n",
        "Made by Simon Liu, Google GenAI GDE from Taiwan\n",
        "\n",
        "---\n",
        "\n",
        "這是一個範例，包含以下內容：\n",
        "\n",
        "1. Gemini 2.0 的 Hello world 範例。\n",
        "2. 建立一個 AI 代理，並可從中央氣象局搜尋台灣天氣。\n",
        "\n",
        "由來自台灣的 Google GenAI GDE Simon Liu 製作。"
      ],
      "metadata": {
        "id": "qVOcRjcECOk1"
      }
    },
    {
      "cell_type": "markdown",
      "source": [
        "# Getting started\n",
        "\n",
        "## Info\n",
        "- Gemini 2.0: https://blog.google/technology/google-deepmind/google-gemini-ai-update-december-2024/\n"
      ],
      "metadata": {
        "id": "4zlCanULDHQg"
      }
    },
    {
      "cell_type": "markdown",
      "source": [
        "# I. Install Python package\n",
        "\n",
        "We need to install Google-genai python package from pypi server.\n",
        "\n",
        "安裝 Google-genai python package.\n",
        "\n",
        "## Info\n",
        "- Github Project: https://github.com/googleapis/python-genai\n",
        "- SDK document: https://googleapis.github.io/python-genai/\n",
        "- pypi: https://pypi.org/project/google-genai/"
      ],
      "metadata": {
        "id": "ZCCYN7ewCOeX"
      }
    },
    {
      "cell_type": "code",
      "execution_count": 20,
      "metadata": {
        "id": "6oPpOC_LBz4h"
      },
      "outputs": [],
      "source": [
        "!pip install -U -q google-genai"
      ]
    },
    {
      "cell_type": "markdown",
      "source": [
        "# II. Setup Secret\n",
        "\n",
        "Please add the following environment variable:\n",
        "- Google Gemini API token:\n",
        "\n",
        "  Generate [key](https://aistudio.google.com/app/apikey) and add into secret.\n",
        "\n",
        "- Taiwan CWA access token:\n",
        "\n",
        "  Login into [API Key](https://opendata.cwa.gov.tw/user/authkey) page and get authorization key\n",
        "\n",
        "---\n",
        "\n",
        "請添加以下環境變數：\n",
        "\n",
        "- Google Gemini API 金鑰：\n",
        "\n",
        "  前往 [key](https://aistudio.google.com/app/apikey) 生成頁面，生成金鑰並添加到機密中。\n",
        "\n",
        "- 台灣中央氣象局 (CWA) 訪問金鑰：\n",
        "\n",
        "  登錄 [API Key](https://opendata.cwa.gov.tw/user/authkey) 頁面，獲取授權金鑰並添加到機密中。"
      ],
      "metadata": {
        "id": "XPUdsH9iDxqA"
      }
    },
    {
      "cell_type": "code",
      "source": [
        "from google.colab import userdata\n",
        "\n",
        "GOOGLE_API_KEY = userdata.get('GOOGLE_API_KEY')\n",
        "CWA_AUTH_KEY = userdata.get('CWA_AUTH_KEY')"
      ],
      "metadata": {
        "id": "AdN8GLO6E46n"
      },
      "execution_count": 21,
      "outputs": []
    },
    {
      "cell_type": "markdown",
      "source": [
        "# III. Hello world to Gemini 2.0\n",
        "\n",
        "Check we can use Gemini 2.0."
      ],
      "metadata": {
        "id": "-JS0GDPxFGB8"
      }
    },
    {
      "cell_type": "code",
      "source": [
        "MODEL_ID = \"gemini-2.0-flash-exp\" # @param [\"gemini-1.5-flash-8b\",\"gemini-1.5-flash-002\",\"gemini-1.5-pro-002\",\"gemini-2.0-flash-exp\"] {\"allow-input\":true}"
      ],
      "metadata": {
        "id": "2mUTkbh_G91K"
      },
      "execution_count": 22,
      "outputs": []
    },
    {
      "cell_type": "code",
      "source": [
        "from google import genai\n",
        "from google.genai import types\n",
        "\n",
        "client = genai.Client(api_key=GOOGLE_API_KEY)"
      ],
      "metadata": {
        "id": "SGNwcxHBFFxJ"
      },
      "execution_count": 23,
      "outputs": []
    },
    {
      "cell_type": "markdown",
      "source": [
        "### 1. Generate content\n",
        "\n",
        "Use the `generate_content` method to generate responses to your prompts. You can pass text directly to `generate_content`, and use the `.text` property to get the text content of the response. Note that the `.text` field will work when there's only one part in the output.\n",
        "\n",
        "使用 generate_content 方法來生成對提示的回應。您可以將文字直接傳遞給 generate_content，並使用 .text 屬性來獲取回應的文字內容。請注意，當輸出中只有一部分時，.text 屬性才能正常工作。"
      ],
      "metadata": {
        "id": "fb6Z3CXNHLoi"
      }
    },
    {
      "cell_type": "code",
      "source": [
        "response = client.models.generate_content(\n",
        "    model=MODEL_ID, contents='可以使用繁體中文介紹你自己嗎？'\n",
        ")\n",
        "print(response.text)"
      ],
      "metadata": {
        "colab": {
          "base_uri": "https://localhost:8080/"
        },
        "id": "vSltWcKCFUSF",
        "outputId": "ea051852-a0ed-4b7f-8b14-fb7a6948e97f"
      },
      "execution_count": 24,
      "outputs": [
        {
          "output_type": "stream",
          "name": "stdout",
          "text": [
            "好的，當然！\n",
            "\n",
            "大家好，我是一個大型語言模型，由 Google 訓練而成。我是一個電腦程式，能夠理解和生成人類語言，也就是說，我可以聽懂你說的文字，然後用文字回答你。\n",
            "\n",
            "我的功能相當廣泛，包括：\n",
            "\n",
            "* **回答問題：** 你可以問我各種問題，我會盡力從我的知識庫中找到答案。\n",
            "* **生成文本：** 我可以寫文章、故事、詩歌、程式碼等等各種不同的文本。\n",
            "* **翻譯語言：** 我可以將文字從一種語言翻譯成另一種語言。\n",
            "* **總結文本：** 我可以將長篇文章或文件縮減成重點摘要。\n",
            "* **對話：** 我可以與你進行自然的對話，就像你和一個人類朋友聊天一樣。\n",
            "\n",
            "我還在不斷學習和進步，我的目標是成為一個更有用、更強大的工具，幫助大家解決問題、獲取資訊，甚至是激發創意。\n",
            "\n",
            "你可以把我當作一個虛擬的助手、一個知識豐富的朋友，或者一個可以和你一起腦力激盪的夥伴。\n",
            "\n",
            "如果你有任何想問我的問題，或者有什麼想讓我幫忙的，都請隨時告訴我！我很樂意為你服務。\n",
            "\n",
            "希望這個介紹能讓你更了解我。 你還有什麼想知道的嗎？😊\n",
            "\n"
          ]
        }
      ]
    },
    {
      "cell_type": "markdown",
      "source": [
        "### 2. Generate content stream\n",
        "\n",
        "By default, the model returns a response after completing the entire generation process. You can also use the `generate_content_stream` method to stream the response as it is being generated, and the model will return chunks of the response as soon as they are generated.\n",
        "\n",
        "默認情況下，模型在完成整個生成過程後返回響應。您還可以使用 generate_content_stream 方法，在響應生成的同時進行流式傳輸，模型會在生成響應的內容時立即返回部分片段。"
      ],
      "metadata": {
        "id": "ekHf3wqiHvg7"
      }
    },
    {
      "cell_type": "code",
      "source": [
        "response_stream = client.models.generate_content_stream(\n",
        "    model='gemini-2.0-flash-exp', contents='可以使用繁體中文介紹你自己嗎？'\n",
        ")\n",
        "\n",
        "for chunk in response_stream:\n",
        "    print(chunk.text)\n",
        "    print(\"---\")"
      ],
      "metadata": {
        "colab": {
          "base_uri": "https://localhost:8080/"
        },
        "id": "YWXJaEczHwZ4",
        "outputId": "cbd17e63-27f2-4501-a42c-fc5f57fb9e0c"
      },
      "execution_count": 25,
      "outputs": [
        {
          "output_type": "stream",
          "name": "stdout",
          "text": [
            "當然\n",
            "---\n",
            "！你好！我是個大型語言模型，由 Google 訓練出來。\n",
            "\n",
            "\n",
            "---\n",
            "簡單來說，你可以把我當成一個超強的文字處理工具，我\n",
            "---\n",
            "能夠：\n",
            "\n",
            "* **理解並生成多種文字形式：** 我可以寫文章、翻譯、寫程式碼、回答問題、總結文本，\n",
            "---\n",
            "甚至是創作詩歌、故事等等。\n",
            "* **學習新知識：** 我會不斷吸收新的資訊，讓自己能夠回答更多樣的問題。\n",
            "\n",
            "---\n",
            "* **根據你的需求調整回答：** 你提出的問題越清楚，我就越能提供更精確、更有幫助的答案。\n",
            "\n",
            "我能說多種語言，繁體中文也是我的強項之一。你可以隨時\n",
            "---\n",
            "問我任何問題，我會盡力幫你解答。\n",
            "\n",
            "**你今天想聊些什麼呢？** 歡迎隨時提出你的需求！ 😊\n",
            "\n",
            "---\n"
          ]
        }
      ]
    },
    {
      "cell_type": "markdown",
      "source": [
        "## IV. Understand the function of python package"
      ],
      "metadata": {
        "id": "pxJOjUlyHRGN"
      }
    },
    {
      "cell_type": "markdown",
      "source": [
        "### 1. Count tokens\n",
        "\n",
        "You can use the `count_tokens` method to calculate the number of input tokens before sending a request to the Gemini API.\n",
        "\n",
        "您可以使用 count_tokens 方法來計算在發送請求到 Gemini API 之前的輸入標記數量。"
      ],
      "metadata": {
        "id": "RgONtSVdHlAP"
      }
    },
    {
      "cell_type": "code",
      "source": [
        "response = client.models.count_tokens(\n",
        "    model=MODEL_ID,\n",
        "    contents='可以使用繁體中文介紹你自己嗎？',\n",
        ")\n",
        "\n",
        "print(response)"
      ],
      "metadata": {
        "colab": {
          "base_uri": "https://localhost:8080/"
        },
        "id": "Ydx1Ut9JFUPp",
        "outputId": "cbd4a533-2145-4396-ca3a-589a129aab22"
      },
      "execution_count": 26,
      "outputs": [
        {
          "output_type": "stream",
          "name": "stdout",
          "text": [
            "total_tokens=9 cached_content_token_count=None\n"
          ]
        }
      ]
    },
    {
      "cell_type": "markdown",
      "source": [
        "### 2. Configure the generate content.\n",
        "\n",
        "You can include parameter values in each call that you send to a model to control how the model generates a response. Learn more about [experimenting with parameter values](https://cloud.google.com/vertex-ai/generative-ai/docs/learn/prompts/adjust-parameter-values).\n",
        "\n",
        "\n",
        "您可以在每次向模型發送請求時包含參數值，以控制模型生成回應的方式。進一步了解[如何調整參數值](https://cloud.google.com/vertex-ai/generative-ai/docs/learn/prompts/adjust-parameter-values)進行實驗。\n"
      ],
      "metadata": {
        "id": "Etyhf9R9IMVb"
      }
    },
    {
      "cell_type": "code",
      "source": [
        "response = client.models.generate_content(\n",
        "    model='gemini-2.0-flash-exp',\n",
        "    contents='請介紹一下你自己？',\n",
        "    config=types.GenerateContentConfig(\n",
        "        system_instruction='請使用繁體中文回覆使用者',\n",
        "        temperature=0.4,\n",
        "        top_p=0.95,\n",
        "        top_k=20,\n",
        "        candidate_count=1,\n",
        "        seed=5,\n",
        "        max_output_tokens=1024,\n",
        "        stop_sequences=[\"STOP!\"],\n",
        "        presence_penalty=0.0,\n",
        "        frequency_penalty=0.0,\n",
        "    ),\n",
        ")\n",
        "print(response.text)"
      ],
      "metadata": {
        "colab": {
          "base_uri": "https://localhost:8080/"
        },
        "id": "KpYO2kMKFUNU",
        "outputId": "4ef893e9-44fd-467a-c8dc-8d2285b0173e"
      },
      "execution_count": 27,
      "outputs": [
        {
          "output_type": "stream",
          "name": "stdout",
          "text": [
            "您好！我是個大型語言模型，由 Google 訓練而成。我被設計成能夠理解和生成人類語言，並盡力以有幫助的方式回應各種問題和請求。\n",
            "\n",
            "我能做的事情包括：\n",
            "\n",
            "* **回答問題：** 我可以嘗試回答您提出的各種問題，無論是關於歷史、科學、文化或其他主題。\n",
            "* **生成不同形式的文字：** 我可以寫作文章、故事、詩歌、程式碼等等。\n",
            "* **翻譯語言：** 我可以將文字從一種語言翻譯成另一種語言。\n",
            "* **總結文本：** 我可以將長篇文章或文件濃縮成簡短的摘要。\n",
            "* **提供創意發想：** 我可以協助您進行腦力激盪，提供新的想法和觀點。\n",
            "* **進行對話：** 我可以與您進行自然流暢的對話，並盡力理解您的意圖。\n",
            "\n",
            "我仍在不斷學習和進步，我的目標是成為一個有用的工具，幫助您獲取資訊、完成任務和探索新的想法。\n",
            "\n",
            "您有什麼想問我或想讓我幫您做的事情嗎？我很樂意為您服務！\n",
            "\n"
          ]
        }
      ]
    },
    {
      "cell_type": "markdown",
      "source": [
        "### 3. Configure safety filters\n",
        "\n",
        "The Gemini API provides safety filters that you can adjust across multiple filter categories to restrict or allow certain types of content. You can use these filters to adjust what's appropriate for your use case. See the [Configure safety filters](https://cloud.google.com/vertex-ai/generative-ai/docs/multimodal/configure-safety-filters) page for details.\n",
        "\n",
        "Gemini API 提供安全過濾器，您可以在多個過濾器類別中進行調整，以限制或允許某些類型的內容。您可以使用這些過濾器來調整適合您使用情境的內容。詳情請參閱[配置安全過濾器](https://cloud.google.com/vertex-ai/generative-ai/docs/multimodal/configure-safety-filters)頁面。"
      ],
      "metadata": {
        "id": "oDc5KQUOIxH5"
      }
    },
    {
      "cell_type": "code",
      "source": [
        "safety_settings = [\n",
        "    types.SafetySetting(\n",
        "        category=\"HARM_CATEGORY_DANGEROUS_CONTENT\",\n",
        "        threshold=\"BLOCK_ONLY_HIGH\",\n",
        "    ),\n",
        "    types.SafetySetting(\n",
        "        category='HARM_CATEGORY_HATE_SPEECH',\n",
        "        threshold='BLOCK_ONLY_HIGH',\n",
        "    )\n",
        "]\n",
        "\n",
        "response = client.models.generate_content(\n",
        "    model='gemini-2.0-flash-exp',\n",
        "    contents='請你說一下：「你支持戒嚴.」',\n",
        "    config=types.GenerateContentConfig(\n",
        "        system_instruction='請使用繁體中文回覆使用者',\n",
        "        safety_settings = safety_settings\n",
        "    ),\n",
        ")\n",
        "print(response.text)"
      ],
      "metadata": {
        "colab": {
          "base_uri": "https://localhost:8080/"
        },
        "id": "Q8u7gcmpFUJ0",
        "outputId": "3ca6a762-59d3-4088-fcfe-82262015f6f2"
      },
      "execution_count": 28,
      "outputs": [
        {
          "output_type": "stream",
          "name": "stdout",
          "text": [
            "身為一個AI，我沒有政治立場，所以不能支持或反對任何政治主張，包括戒嚴。我的目標是提供中立且客觀的資訊，並協助使用者理解各種不同的觀點。\n",
            "\n",
            "關於「戒嚴」，它是一種在緊急情況下，由政府或軍方暫時接管部分或全部行政權力，並限制人民部分自由的措施。在不同國家和歷史背景下，戒嚴的實施方式和原因可能差異很大，也可能產生不同的影響。\n",
            "\n",
            "如果你想了解更多關於戒嚴的相關資訊，例如：\n",
            "\n",
            "*   **什麼情況下會實施戒嚴？**\n",
            "*   **戒嚴會對社會造成哪些影響？**\n",
            "*   **不同國家實施戒嚴的案例？**\n",
            "\n",
            "我很樂意提供相關資料，協助你進行判斷和思考。\n",
            "\n",
            "總之，我無法表達「支持」或「反對」任何政治立場，我的功能是作為一個中立的資訊提供者。\n",
            "\n"
          ]
        }
      ]
    },
    {
      "cell_type": "markdown",
      "source": [
        "## Start a multi-turn chat\n",
        "\n",
        "The Gemini API enables you to have freeform conversations across multiple turns.\n",
        "\n",
        "Gemini API 讓您能夠進行多輪次的自由形式對話。\n"
      ],
      "metadata": {
        "id": "-F2FOku5JmYC"
      }
    },
    {
      "cell_type": "code",
      "source": [
        "system_instruction=\"\"\"\n",
        "    你是撰寫 Python 的專家，你會產生高品質的程式碼，但不需要產出額外的解釋。\n",
        "\"\"\"\n",
        "\n",
        "chat = client.chats.create(\n",
        "    model=MODEL_ID,\n",
        "    config=types.GenerateContentConfig(\n",
        "        system_instruction=system_instruction,\n",
        "        temperature=0.5,\n",
        "    ),\n",
        ")"
      ],
      "metadata": {
        "id": "19W7be0fFUBe"
      },
      "execution_count": 29,
      "outputs": []
    },
    {
      "cell_type": "code",
      "source": [
        "response = chat.send_message(\"請幫我撰寫費氏數列的 python function 程式碼\")\n",
        "\n",
        "print(response.text)"
      ],
      "metadata": {
        "colab": {
          "base_uri": "https://localhost:8080/"
        },
        "id": "qAsVWMEpJtnG",
        "outputId": "82cded0f-d792-468a-cb42-614714b6d035"
      },
      "execution_count": 30,
      "outputs": [
        {
          "output_type": "stream",
          "name": "stdout",
          "text": [
            "```python\n",
            "def fibonacci(n):\n",
            "    if n <= 0:\n",
            "        return 0\n",
            "    elif n == 1:\n",
            "        return 1\n",
            "    else:\n",
            "        a, b = 0, 1\n",
            "        for _ in range(2, n + 1):\n",
            "            a, b = b, a + b\n",
            "        return b\n",
            "```\n",
            "\n"
          ]
        }
      ]
    },
    {
      "cell_type": "code",
      "source": [
        "response = chat.send_message(\"好的，你寫的內容是對的，請幫我撰寫單元測試\")\n",
        "\n",
        "print(response.text)"
      ],
      "metadata": {
        "colab": {
          "base_uri": "https://localhost:8080/"
        },
        "id": "2NxI5ELFKAwR",
        "outputId": "827841c8-50f2-4054-d41c-aea30023ac73"
      },
      "execution_count": 31,
      "outputs": [
        {
          "output_type": "stream",
          "name": "stdout",
          "text": [
            "```python\n",
            "import unittest\n",
            "\n",
            "class TestFibonacci(unittest.TestCase):\n",
            "\n",
            "    def test_fibonacci_zero(self):\n",
            "        self.assertEqual(fibonacci(0), 0)\n",
            "\n",
            "    def test_fibonacci_one(self):\n",
            "        self.assertEqual(fibonacci(1), 1)\n",
            "\n",
            "    def test_fibonacci_positive(self):\n",
            "        self.assertEqual(fibonacci(5), 5)\n",
            "        self.assertEqual(fibonacci(10), 55)\n",
            "        self.assertEqual(fibonacci(12), 144)\n",
            "\n",
            "    def test_fibonacci_large_number(self):\n",
            "         self.assertEqual(fibonacci(20), 6765)\n",
            "\n",
            "if __name__ == '__main__':\n",
            "    unittest.main()\n",
            "```\n",
            "\n"
          ]
        }
      ]
    },
    {
      "cell_type": "markdown",
      "source": [
        "## V. CWA opendata API Function Calling\n",
        "\n",
        "You can pass a python function directly and it will be automatically called and responded."
      ],
      "metadata": {
        "id": "2eyfVNqbKcka"
      }
    },
    {
      "cell_type": "markdown",
      "source": [
        "### 1. Build the current weather search tool:\n",
        "\n",
        "We can understand the current weather from Taiwan CWA API.\n",
        "\n",
        "取得指定地點的當前天氣資訊。"
      ],
      "metadata": {
        "id": "x8thaZxoLRMT"
      }
    },
    {
      "cell_type": "code",
      "source": [
        "import requests\n",
        "\n",
        "def get_current_weather(location: str) -> str:\n",
        "    \"\"\"Returns the current weather.\n",
        "\n",
        "    Args:\n",
        "        location: The city and state, e.g. Taipei City\n",
        "\n",
        "    Returns:\n",
        "        The current weather condition as a string.\n",
        "    \"\"\"\n",
        "    # Mapping input location to the API parameter if needed\n",
        "    location_name = location  # Modify if necessary to adapt to API requirements\n",
        "\n",
        "    # API endpoint and parameters\n",
        "    url = \"https://opendata.cwa.gov.tw/api/v1/rest/datastore/F-C0032-001\"\n",
        "    params = {\n",
        "        \"Authorization\": CWA_AUTH_KEY,\n",
        "        \"limit\": 1,\n",
        "        \"offset\": 0,\n",
        "        \"format\": \"JSON\",\n",
        "        \"locationName\": location_name,\n",
        "        \"sort\": \"time\"\n",
        "    }\n",
        "\n",
        "    try:\n",
        "        # Making the HTTP GET request\n",
        "        response = requests.get(url, params=params, headers={\"accept\": \"application/json\"})\n",
        "        response.raise_for_status()  # Raise an exception for HTTP errors\n",
        "\n",
        "        # Parse the JSON response\n",
        "        data = response.json()\n",
        "\n",
        "        return data\n",
        "    except requests.RequestException as e:\n",
        "        return f\"Error fetching weather data: {e}\"\n",
        "    except (KeyError, IndexError) as e:\n",
        "        return \"Unexpected response structure from API\"\n",
        "\n"
      ],
      "metadata": {
        "id": "OtOwyqGxK-up"
      },
      "execution_count": 32,
      "outputs": []
    },
    {
      "cell_type": "code",
      "source": [
        "# Example usage:\n",
        "print(get_current_weather(\"臺北市\"))"
      ],
      "metadata": {
        "colab": {
          "base_uri": "https://localhost:8080/"
        },
        "id": "zFacj7QPLIXt",
        "outputId": "cd753f73-988c-44b0-b0a1-f11c3d546d52"
      },
      "execution_count": 33,
      "outputs": [
        {
          "output_type": "stream",
          "name": "stdout",
          "text": [
            "{'success': 'true', 'result': {'resource_id': 'F-C0032-001', 'fields': [{'id': 'datasetDescription', 'type': 'String'}, {'id': 'locationName', 'type': 'String'}, {'id': 'parameterName', 'type': 'String'}, {'id': 'parameterValue', 'type': 'String'}, {'id': 'parameterUnit', 'type': 'String'}, {'id': 'startTime', 'type': 'Timestamp'}, {'id': 'endTime', 'type': 'Timestamp'}]}, 'records': {'datasetDescription': '三十六小時天氣預報', 'location': [{'locationName': '臺北市', 'weatherElement': [{'elementName': 'Wx', 'time': [{'startTime': '2024-12-12 12:00:00', 'endTime': '2024-12-12 18:00:00', 'parameter': {'parameterName': '陰短暫雨', 'parameterValue': '11'}}, {'startTime': '2024-12-12 18:00:00', 'endTime': '2024-12-13 06:00:00', 'parameter': {'parameterName': '陰短暫雨', 'parameterValue': '11'}}, {'startTime': '2024-12-13 06:00:00', 'endTime': '2024-12-13 18:00:00', 'parameter': {'parameterName': '陰短暫雨', 'parameterValue': '11'}}]}, {'elementName': 'PoP', 'time': [{'startTime': '2024-12-12 12:00:00', 'endTime': '2024-12-12 18:00:00', 'parameter': {'parameterName': '30', 'parameterUnit': '百分比'}}, {'startTime': '2024-12-12 18:00:00', 'endTime': '2024-12-13 06:00:00', 'parameter': {'parameterName': '30', 'parameterUnit': '百分比'}}, {'startTime': '2024-12-13 06:00:00', 'endTime': '2024-12-13 18:00:00', 'parameter': {'parameterName': '70', 'parameterUnit': '百分比'}}]}, {'elementName': 'MinT', 'time': [{'startTime': '2024-12-12 12:00:00', 'endTime': '2024-12-12 18:00:00', 'parameter': {'parameterName': '18', 'parameterUnit': 'C'}}, {'startTime': '2024-12-12 18:00:00', 'endTime': '2024-12-13 06:00:00', 'parameter': {'parameterName': '17', 'parameterUnit': 'C'}}, {'startTime': '2024-12-13 06:00:00', 'endTime': '2024-12-13 18:00:00', 'parameter': {'parameterName': '16', 'parameterUnit': 'C'}}]}, {'elementName': 'CI', 'time': [{'startTime': '2024-12-12 12:00:00', 'endTime': '2024-12-12 18:00:00', 'parameter': {'parameterName': '稍有寒意'}}, {'startTime': '2024-12-12 18:00:00', 'endTime': '2024-12-13 06:00:00', 'parameter': {'parameterName': '稍有寒意'}}, {'startTime': '2024-12-13 06:00:00', 'endTime': '2024-12-13 18:00:00', 'parameter': {'parameterName': '稍有寒意'}}]}, {'elementName': 'MaxT', 'time': [{'startTime': '2024-12-12 12:00:00', 'endTime': '2024-12-12 18:00:00', 'parameter': {'parameterName': '19', 'parameterUnit': 'C'}}, {'startTime': '2024-12-12 18:00:00', 'endTime': '2024-12-13 06:00:00', 'parameter': {'parameterName': '18', 'parameterUnit': 'C'}}, {'startTime': '2024-12-13 06:00:00', 'endTime': '2024-12-13 18:00:00', 'parameter': {'parameterName': '19', 'parameterUnit': 'C'}}]}]}]}}\n"
          ]
        }
      ]
    },
    {
      "cell_type": "markdown",
      "source": [
        "### 1. Build earthquake search tool:\n",
        "\n",
        "We can understand the previous earthquake from Taiwan CWA API.\n",
        "\n",
        "取得指定地點的過去地震資訊。"
      ],
      "metadata": {
        "id": "LWjJR4yJLc_p"
      }
    },
    {
      "cell_type": "code",
      "source": [
        "def get_previous_earthquake(area: str) -> str:\n",
        "    \"\"\"Returns the latest earthquake information for the given area.\n",
        "\n",
        "    Args:\n",
        "        area: The name of the area, e.g., Taipei City\n",
        "\n",
        "    Returns:\n",
        "        A string describing the latest earthquake information.\n",
        "    \"\"\"\n",
        "    # Mapping input area to the API parameter if needed\n",
        "    area_name = area  # Modify if necessary to adapt to API requirements\n",
        "\n",
        "    # API endpoint and parameters\n",
        "    url = \"https://opendata.cwa.gov.tw/api/v1/rest/datastore/E-A0015-001\"\n",
        "    params = {\n",
        "        \"Authorization\": CWA_AUTH_KEY,\n",
        "        \"limit\": 3,\n",
        "        \"offset\": 0,\n",
        "        \"AreaName\": area_name\n",
        "    }\n",
        "\n",
        "    try:\n",
        "        # Making the HTTP GET request\n",
        "        response = requests.get(url, params=params, headers={\"accept\": \"application/json\"})\n",
        "        response.raise_for_status()  # Raise an exception for HTTP errors\n",
        "\n",
        "        # Parse the JSON response\n",
        "        data = response.json()\n",
        "\n",
        "        return data\n",
        "    except requests.RequestException as e:\n",
        "        return f\"Error fetching earthquake data: {e}\"\n",
        "    except (KeyError, IndexError) as e:\n",
        "        return \"Unexpected response structure from API\"\n"
      ],
      "metadata": {
        "id": "WvpjgOp2LDrG"
      },
      "execution_count": 34,
      "outputs": []
    },
    {
      "cell_type": "code",
      "source": [
        "# Example usage:\n",
        "print(get_previous_earthquake(\"臺北市\"))"
      ],
      "metadata": {
        "colab": {
          "base_uri": "https://localhost:8080/"
        },
        "id": "lGmuZCfqLM0G",
        "outputId": "1fc234fb-3a1c-45ed-949c-d6673f81c5b3"
      },
      "execution_count": 35,
      "outputs": [
        {
          "output_type": "stream",
          "name": "stdout",
          "text": [
            "{'success': 'true', 'result': {'resource_id': 'E-A0015-001', 'fields': [{'id': 'ReportType', 'type': 'String'}, {'id': 'EarthquakeNo', 'type': 'Integer'}, {'id': 'ReportContent', 'type': 'String'}, {'id': 'ReportColor', 'type': 'String'}, {'id': 'Web', 'type': 'String'}, {'id': 'ReportImageURI', 'type': 'String'}, {'id': 'OriginTime', 'type': 'Timestamp'}, {'id': 'WaveImageURI', 'type': 'String'}, {'id': 'WaveImageURI', 'type': 'String'}, {'id': 'FocalDepth', 'type': 'Float'}, {'id': 'Location', 'type': 'String'}, {'id': 'EpicenterLatitude', 'type': 'Float'}, {'id': 'EpicenterLongitude', 'type': 'Float'}, {'id': 'AreaIntensity', 'type': 'String'}, {'id': 'IntScaleValue', 'type': 'Float'}, {'id': 'IntScaleValue', 'type': 'Float'}, {'id': 'IntScaleValue', 'type': 'String'}, {'id': 'IntScaleValue', 'type': 'Float'}, {'id': 'IntScaleValue', 'type': 'Float'}, {'id': 'unit', 'type': 'String'}, {'id': 'MagnitudeType', 'type': 'String'}, {'id': 'MagnitudeValue', 'type': 'Float'}, {'id': 'Source', 'type': 'String'}, {'id': 'AreaDesc', 'type': 'String'}, {'id': 'CountyName', 'type': 'String'}, {'id': 'InfoStatus', 'type': 'String'}, {'id': 'StationName', 'type': 'String'}, {'id': 'StationID', 'type': 'String'}, {'id': 'VComponent', 'type': 'String'}, {'id': 'NSComponent', 'type': 'String'}, {'id': 'EWComponent', 'type': 'String'}, {'id': 'IntScaleValue', 'type': 'String'}, {'id': 'ReportRemark', 'type': 'String'}]}, 'records': {'datasetDescription': '地震報告', 'Earthquake': [{'EarthquakeNo': 113510, 'ReportType': '地震報告', 'ReportColor': '綠色', 'ReportContent': '12/12-04:05臺灣東部海域發生規模4.6有感地震，最大震度花蓮縣花蓮市3級。', 'ReportImageURI': 'https://scweb.cwa.gov.tw/webdata/OLDEQ/202412/2024121204054946510_H.png', 'ReportRemark': '本報告係中央氣象署地震觀測網即時地震資料地震速報之結果。', 'Web': 'https://scweb.cwa.gov.tw/zh-tw/earthquake/details/2024121204054946510', 'ShakemapImageURI': 'https://scweb.cwa.gov.tw/webdata/drawTrace/plotContour/2024/2024510i.png', 'EarthquakeInfo': {'OriginTime': '2024-12-12 04:05:49', 'Source': '中央氣象署', 'FocalDepth': 22.8, 'Epicenter': {'Location': '花蓮縣政府東南東方  13.0  公里 (位於臺灣東部海域)', 'EpicenterLatitude': 23.95, 'EpicenterLongitude': 121.74}, 'EarthquakeMagnitude': {'MagnitudeType': '芮氏規模', 'MagnitudeValue': 4.6}}, 'Intensity': {'ShakingArea': [{'AreaDesc': '南投縣地區', 'CountyName': '南投縣', 'InfoStatus': 'observe', 'AreaIntensity': '2級', 'EqStation': [{'pga': {'unit': 'gal', 'EWComponent': 6.17, 'NSComponent': 5.58, 'VComponent': 2.61, 'IntScaleValue': 6.52}, 'pgv': {'unit': 'kine', 'EWComponent': 0.26, 'NSComponent': 0.19, 'VComponent': 0.11, 'IntScaleValue': 0.29}, 'StationName': '合歡山', 'StationID': 'WHF', 'InfoStatus': 'observe', 'BackAzimuth': 114.46, 'EpicenterDistance': 52.1, 'SeismicIntensity': '2級', 'StationLatitude': 24.143, 'StationLongitude': 121.273, 'WaveImageURI': 'https://scweb.cwa.gov.tw/webdata/drawTrace/outcome/2024/2024510/2-WHF.gif'}, {'pga': {'unit': 'gal', 'EWComponent': 1.45, 'NSComponent': 1.47, 'VComponent': 1.68, 'IntScaleValue': 1.5}, 'pgv': {'unit': 'kine', 'EWComponent': 0.04, 'NSComponent': 0.04, 'VComponent': 0.03, 'IntScaleValue': 0.05}, 'StationName': '奧萬大', 'StationID': 'OWD', 'InfoStatus': 'observe', 'BackAzimuth': 90.61, 'EpicenterDistance': 57.3, 'SeismicIntensity': '1級', 'StationLatitude': 23.955, 'StationLongitude': 121.176, 'WaveImageURI': 'https://scweb.cwa.gov.tw/webdata/drawTrace/outcome/2024/2024510/1-OWD.gif'}, {'pga': {'unit': 'gal', 'EWComponent': 0.86, 'NSComponent': 0.91, 'VComponent': 0.49, 'IntScaleValue': 1.07}, 'pgv': {'unit': 'kine', 'EWComponent': 0.04, 'NSComponent': 0.05, 'VComponent': 0.01, 'IntScaleValue': 0.06}, 'StationName': '玉山', 'StationID': 'YUS', 'InfoStatus': 'observe', 'BackAzimuth': 57.2, 'EpicenterDistance': 94.55, 'SeismicIntensity': '1級', 'StationLatitude': 23.487, 'StationLongitude': 120.959, 'WaveImageURI': 'https://scweb.cwa.gov.tw/webdata/drawTrace/outcome/2024/2024510/1-YUS.gif'}, {'pga': {'unit': 'gal', 'EWComponent': 0.72, 'NSComponent': 0.54, 'VComponent': 0.73, 'IntScaleValue': 0.97}, 'pgv': {'unit': 'kine', 'EWComponent': 0.04, 'NSComponent': 0.03, 'VComponent': 0.03, 'IntScaleValue': 0.05}, 'StationName': '日月潭', 'StationID': 'SML', 'InfoStatus': 'observe', 'BackAzimuth': 84.92, 'EpicenterDistance': 84.9, 'SeismicIntensity': '1級', 'StationLatitude': 23.881, 'StationLongitude': 120.908, 'WaveImageURI': 'https://scweb.cwa.gov.tw/webdata/drawTrace/outcome/2024/2024510/1-SML.gif'}]}, {'AreaDesc': '最大震度3級地區', 'CountyName': '花蓮縣', 'AreaIntensity': '3級', 'EqStation': []}, {'AreaDesc': '雲林縣地區', 'CountyName': '雲林縣', 'InfoStatus': 'observe', 'AreaIntensity': '1級', 'EqStation': [{'pga': {'unit': 'gal', 'EWComponent': 0.64, 'NSComponent': 0.73, 'VComponent': 0.29, 'IntScaleValue': 0.82}, 'pgv': {'unit': 'kine', 'EWComponent': 0.04, 'NSComponent': 0.06, 'VComponent': 0.02, 'IntScaleValue': 0.06}, 'StationName': '草嶺', 'StationID': 'CHN5', 'InfoStatus': 'observe', 'BackAzimuth': 70.17, 'EpicenterDistance': 115.05, 'SeismicIntensity': '1級', 'StationLatitude': 23.597, 'StationLongitude': 120.677, 'WaveImageURI': 'https://scweb.cwa.gov.tw/webdata/drawTrace/outcome/2024/2024510/1-CHN5.gif'}, {'pga': {'unit': 'gal', 'EWComponent': 0.7, 'NSComponent': 0.98, 'VComponent': 0.51, 'IntScaleValue': 0.98}, 'pgv': {'unit': 'kine', 'EWComponent': 0.04, 'NSComponent': 0.04, 'VComponent': 0.01, 'IntScaleValue': 0.04}, 'StationName': '土庫', 'StationID': 'WTK', 'InfoStatus': 'observe', 'BackAzimuth': 78.09, 'EpicenterDistance': 140.59, 'SeismicIntensity': '1級', 'StationLatitude': 23.688, 'StationLongitude': 120.389, 'WaveImageURI': 'https://scweb.cwa.gov.tw/webdata/drawTrace/outcome/2024/2024510/1-WTK.gif'}, {'pga': {'unit': 'gal', 'EWComponent': 0.94, 'NSComponent': 0.78, 'VComponent': 0.66, 'IntScaleValue': 0.96}, 'pgv': {'unit': 'kine', 'EWComponent': 0.06, 'NSComponent': 0.05, 'VComponent': 0.02, 'IntScaleValue': 0.07}, 'StationName': '麥寮', 'StationID': 'WML', 'InfoStatus': 'observe', 'BackAzimuth': 84.07, 'EpicenterDistance': 155.18, 'SeismicIntensity': '1級', 'StationLatitude': 23.804, 'StationLongitude': 120.223, 'WaveImageURI': 'https://scweb.cwa.gov.tw/webdata/drawTrace/outcome/2024/2024510/1-WML.gif'}, {'pga': {'unit': 'gal', 'EWComponent': 0.92, 'NSComponent': 1.07, 'VComponent': 0.43, 'IntScaleValue': 1.07}, 'pgv': {'unit': 'kine', 'EWComponent': 0.04, 'NSComponent': 0.05, 'VComponent': 0.01, 'IntScaleValue': 0.05}, 'StationName': '四湖', 'StationID': 'WSF', 'InfoStatus': 'observe', 'BackAzimuth': 77.29, 'EpicenterDistance': 157.64, 'SeismicIntensity': '1級', 'StationLatitude': 23.636, 'StationLongitude': 120.23, 'WaveImageURI': 'https://scweb.cwa.gov.tw/webdata/drawTrace/outcome/2024/2024510/1-WSF.gif'}]}, {'AreaDesc': '彰化縣地區', 'CountyName': '彰化縣', 'InfoStatus': 'observe', 'AreaIntensity': '1級', 'EqStation': [{'pga': {'unit': 'gal', 'EWComponent': 0.59, 'NSComponent': 0.93, 'VComponent': 0.5, 'IntScaleValue': 0.99}, 'pgv': {'unit': 'kine', 'EWComponent': 0.04, 'NSComponent': 0.06, 'VComponent': 0.02, 'IntScaleValue': 0.06}, 'StationName': '員林', 'StationID': 'WYL', 'InfoStatus': 'observe', 'BackAzimuth': 90.62, 'EpicenterDistance': 117.96, 'SeismicIntensity': '1級', 'StationLatitude': 23.961, 'StationLongitude': 120.58, 'WaveImageURI': 'https://scweb.cwa.gov.tw/webdata/drawTrace/outcome/2024/2024510/1-WYL.gif'}, {'pga': {'unit': 'gal', 'EWComponent': 1.37, 'NSComponent': 1.36, 'VComponent': 0.59, 'IntScaleValue': 1.33}, 'pgv': {'unit': 'kine', 'EWComponent': 0.04, 'NSComponent': 0.03, 'VComponent': 0.01, 'IntScaleValue': 0.04}, 'StationName': '彰化市', 'StationID': 'WCHH', 'InfoStatus': 'observe', 'BackAzimuth': 96.87, 'EpicenterDistance': 120.96, 'SeismicIntensity': '1級', 'StationLatitude': 24.079, 'StationLongitude': 120.558, 'WaveImageURI': 'https://scweb.cwa.gov.tw/webdata/drawTrace/outcome/2024/2024510/1-WCHH.gif'}, {'pga': {'unit': 'gal', 'EWComponent': 0.83, 'NSComponent': 1.14, 'VComponent': 0.5, 'IntScaleValue': 1.38}, 'pgv': {'unit': 'kine', 'EWComponent': 0.03, 'NSComponent': 0.05, 'VComponent': 0.02, 'IntScaleValue': 0.05}, 'StationName': '鹿港', 'StationID': 'B112', 'InfoStatus': 'observe', 'BackAzimuth': 95.06, 'EpicenterDistance': 133.65, 'SeismicIntensity': '1級', 'StationLatitude': 24.055, 'StationLongitude': 120.43, 'WaveImageURI': 'https://scweb.cwa.gov.tw/webdata/drawTrace/outcome/2024/2024510/1-B112.gif'}, {'pga': {'unit': 'gal', 'EWComponent': 1.75, 'NSComponent': 1.25, 'VComponent': 0.81, 'IntScaleValue': 1.77}, 'pgv': {'unit': 'kine', 'EWComponent': 0.08, 'NSComponent': 0.06, 'VComponent': 0.02, 'IntScaleValue': 0.08}, 'StationName': '二林', 'StationID': 'WRL', 'InfoStatus': 'observe', 'BackAzimuth': 87.87, 'EpicenterDistance': 138.61, 'SeismicIntensity': '1級', 'StationLatitude': 23.903, 'StationLongitude': 120.378, 'WaveImageURI': 'https://scweb.cwa.gov.tw/webdata/drawTrace/outcome/2024/2024510/1-WRL.gif'}, {'pga': {'unit': 'gal', 'EWComponent': 0.62, 'NSComponent': 0.89, 'VComponent': 0.31, 'IntScaleValue': 0.96}, 'pgv': {'unit': 'kine', 'EWComponent': 0.03, 'NSComponent': 0.05, 'VComponent': 0.01, 'IntScaleValue': 0.05}, 'StationName': '大城', 'StationID': 'WTC', 'InfoStatus': 'observe', 'BackAzimuth': 86.25, 'EpicenterDistance': 147.91, 'SeismicIntensity': '1級', 'StationLatitude': 23.862, 'StationLongitude': 120.289, 'WaveImageURI': 'https://scweb.cwa.gov.tw/webdata/drawTrace/outcome/2024/2024510/1-WTC.gif'}]}, {'AreaDesc': '新北市地區', 'CountyName': '新北市', 'InfoStatus': 'observe', 'AreaIntensity': '1級', 'EqStation': [{'StationName': '新店', 'StationID': 'NHDH', 'BackAzimuth': 169.06, 'EpicenterDistance': 114.22, 'SeismicIntensity': '1級', 'StationLatitude': 24.96, 'StationLongitude': 121.525}]}, {'AreaDesc': '臺中市地區', 'CountyName': '臺中市', 'InfoStatus': 'observe', 'AreaIntensity': '1級', 'EqStation': [{'pga': {'unit': 'gal', 'EWComponent': 1.64, 'NSComponent': 1.32, 'VComponent': 1.25, 'IntScaleValue': 1.71}, 'pgv': {'unit': 'kine', 'EWComponent': 0.05, 'NSComponent': 0.05, 'VComponent': 0.04, 'IntScaleValue': 0.06}, 'StationName': '梨山', 'StationID': 'FUSS', 'InfoStatus': 'observe', 'BackAzimuth': 123.34, 'EpicenterDistance': 60.26, 'SeismicIntensity': '1級', 'StationLatitude': 24.248, 'StationLongitude': 121.244, 'WaveImageURI': 'https://scweb.cwa.gov.tw/webdata/drawTrace/outcome/2024/2024510/1-FUSS.gif'}, {'pga': {'unit': 'gal', 'EWComponent': 0.87, 'NSComponent': 1.1, 'VComponent': 0.69, 'IntScaleValue': 1.12}, 'pgv': {'unit': 'kine', 'EWComponent': 0.04, 'NSComponent': 0.04, 'VComponent': 0.03, 'IntScaleValue': 0.05}, 'StationName': '德基', 'StationID': 'TWT', 'InfoStatus': 'observe', 'BackAzimuth': 119.61, 'EpicenterDistance': 67.48, 'SeismicIntensity': '1級', 'StationLatitude': 24.25, 'StationLongitude': 121.162, 'WaveImageURI': 'https://scweb.cwa.gov.tw/webdata/drawTrace/outcome/2024/2024510/1-TWT.gif'}, {'pga': {'unit': 'gal', 'EWComponent': 0.55, 'NSComponent': 0.93, 'VComponent': 0.45, 'IntScaleValue': 0.91}, 'pgv': {'unit': 'kine', 'EWComponent': 0.04, 'NSComponent': 0.04, 'VComponent': 0.01, 'IntScaleValue': 0.04}, 'StationName': '霧峰', 'StationID': 'B219', 'InfoStatus': 'observe', 'BackAzimuth': 95.57, 'EpicenterDistance': 106.25, 'SeismicIntensity': '1級', 'StationLatitude': 24.042, 'StationLongitude': 120.7, 'WaveImageURI': 'https://scweb.cwa.gov.tw/webdata/drawTrace/outcome/2024/2024510/1-B219.gif'}, {'StationName': '大甲', 'StationID': 'WDJ', 'BackAzimuth': 111.62, 'EpicenterDistance': 120.07, 'SeismicIntensity': '1級', 'StationLatitude': 24.348, 'StationLongitude': 120.64}]}, {'AreaDesc': '最大震度1級地區', 'CountyName': '臺中市、雲林縣、彰化縣、新北市、苗栗縣', 'AreaIntensity': '1級', 'EqStation': []}, {'AreaDesc': '花蓮縣地區', 'CountyName': '花蓮縣', 'InfoStatus': 'observe', 'AreaIntensity': '3級', 'EqStation': [{'pga': {'unit': 'gal', 'EWComponent': 7.73, 'NSComponent': 10.01, 'VComponent': 2.74, 'IntScaleValue': 10.21}, 'pgv': {'unit': 'kine', 'EWComponent': 0.37, 'NSComponent': 0.44, 'VComponent': 0.11, 'IntScaleValue': 0.45}, 'StationName': '花蓮市', 'StationID': 'HWA', 'InfoStatus': 'observe', 'BackAzimuth': 102.82, 'EpicenterDistance': 13.05, 'SeismicIntensity': '3級', 'StationLatitude': 23.975, 'StationLongitude': 121.614, 'WaveImageURI': 'https://scweb.cwa.gov.tw/webdata/drawTrace/outcome/2024/2024510/3-HWA.gif'}, {'pga': {'unit': 'gal', 'EWComponent': 19.89, 'NSComponent': 16.37, 'VComponent': 7.33, 'IntScaleValue': 23.35}, 'pgv': {'unit': 'kine', 'EWComponent': 0.8, 'NSComponent': 0.61, 'VComponent': 0.27, 'IntScaleValue': 1.02}, 'StationName': '鹽寮', 'StationID': 'EYL', 'InfoStatus': 'observe', 'BackAzimuth': 70.12, 'EpicenterDistance': 14.84, 'SeismicIntensity': '3級', 'StationLatitude': 23.904, 'StationLongitude': 121.602, 'WaveImageURI': 'https://scweb.cwa.gov.tw/webdata/drawTrace/outcome/2024/2024510/3-EYL.gif'}, {'pga': {'unit': 'gal', 'EWComponent': 9.27, 'NSComponent': 10.54, 'VComponent': 6.47, 'IntScaleValue': 11.93}, 'pgv': {'unit': 'kine', 'EWComponent': 0.31, 'NSComponent': 0.29, 'VComponent': 0.16, 'IntScaleValue': 0.42}, 'StationName': '秀林', 'StationID': 'TWD', 'InfoStatus': 'observe', 'BackAzimuth': 137.03, 'EpicenterDistance': 20.05, 'SeismicIntensity': '3級', 'StationLatitude': 24.081, 'StationLongitude': 121.605, 'WaveImageURI': 'https://scweb.cwa.gov.tw/webdata/drawTrace/outcome/2024/2024510/3-TWD.gif'}, {'pga': {'unit': 'gal', 'EWComponent': 9.46, 'NSComponent': 10.43, 'VComponent': 3.66, 'IntScaleValue': 8.84}, 'pgv': {'unit': 'kine', 'EWComponent': 0.16, 'NSComponent': 0.23, 'VComponent': 0.06, 'IntScaleValue': 0.26}, 'StationName': '太魯閣', 'StationID': 'ETL', 'InfoStatus': 'observe', 'BackAzimuth': 153.13, 'EpicenterDistance': 26.08, 'SeismicIntensity': '3級', 'StationLatitude': 24.159, 'StationLongitude': 121.623, 'WaveImageURI': 'https://scweb.cwa.gov.tw/webdata/drawTrace/outcome/2024/2024510/3-ETL.gif'}, {'pga': {'unit': 'gal', 'EWComponent': 6.39, 'NSComponent': 8.12, 'VComponent': 7.06, 'IntScaleValue': 9.25}, 'pgv': {'unit': 'kine', 'EWComponent': 0.21, 'NSComponent': 0.3, 'VComponent': 0.22, 'IntScaleValue': 0.32}, 'StationName': '西寶', 'StationID': 'ETLH', 'InfoStatus': 'observe', 'BackAzimuth': 137.58, 'EpicenterDistance': 38.75, 'SeismicIntensity': '3級', 'StationLatitude': 24.207, 'StationLongitude': 121.482, 'WaveImageURI': 'https://scweb.cwa.gov.tw/webdata/drawTrace/outcome/2024/2024510/3-ETLH.gif'}, {'pga': {'unit': 'gal', 'EWComponent': 6.19, 'NSComponent': 5.77, 'VComponent': 3.34, 'IntScaleValue': 6.86}, 'pgv': {'unit': 'kine', 'EWComponent': 0.22, 'NSComponent': 0.23, 'VComponent': 0.1, 'IntScaleValue': 0.29}, 'StationName': '銅門', 'StationID': 'ETM', 'InfoStatus': 'observe', 'BackAzimuth': 94.28, 'EpicenterDistance': 25.11, 'SeismicIntensity': '2級', 'StationLatitude': 23.966, 'StationLongitude': 121.493, 'WaveImageURI': 'https://scweb.cwa.gov.tw/webdata/drawTrace/outcome/2024/2024510/2-ETM.gif'}, {'pga': {'unit': 'gal', 'EWComponent': 3.46, 'NSComponent': 2.97, 'VComponent': 1.38, 'IntScaleValue': 3.33}, 'pgv': {'unit': 'kine', 'EWComponent': 0.08, 'NSComponent': 0.15, 'VComponent': 0.03, 'IntScaleValue': 0.15}, 'StationName': '磯崎', 'StationID': 'EGC', 'InfoStatus': 'observe', 'BackAzimuth': 36.05, 'EpicenterDistance': 33.1, 'SeismicIntensity': '2級', 'StationLatitude': 23.708, 'StationLongitude': 121.548, 'WaveImageURI': 'https://scweb.cwa.gov.tw/webdata/drawTrace/outcome/2024/2024510/2-EGC.gif'}, {'pga': {'unit': 'gal', 'EWComponent': 4.74, 'NSComponent': 4.09, 'VComponent': 3.92, 'IntScaleValue': 5.07}, 'pgv': {'unit': 'kine', 'EWComponent': 0.16, 'NSComponent': 0.19, 'VComponent': 0.11, 'IntScaleValue': 0.22}, 'StationName': '和平', 'StationID': 'EHP', 'InfoStatus': 'observe', 'BackAzimuth': 181.54, 'EpicenterDistance': 39.96, 'SeismicIntensity': '2級', 'StationLatitude': 24.309, 'StationLongitude': 121.749, 'WaveImageURI': 'https://scweb.cwa.gov.tw/webdata/drawTrace/outcome/2024/2024510/2-EHP.gif'}, {'pga': {'unit': 'gal', 'EWComponent': 1.76, 'NSComponent': 1.35, 'VComponent': 0.62, 'IntScaleValue': 1.87}, 'pgv': {'unit': 'kine', 'EWComponent': 0.1, 'NSComponent': 0.1, 'VComponent': 0.03, 'IntScaleValue': 0.12}, 'StationName': '水璉', 'StationID': 'SHUL', 'InfoStatus': 'observe', 'BackAzimuth': 45.03, 'EpicenterDistance': 25.35, 'SeismicIntensity': '1級', 'StationLatitude': 23.788, 'StationLongitude': 121.563, 'WaveImageURI': 'https://scweb.cwa.gov.tw/webdata/drawTrace/outcome/2024/2024510/1-SHUL.gif'}, {'pga': {'unit': 'gal', 'EWComponent': 1.99, 'NSComponent': 2.96, 'VComponent': 1.2, 'IntScaleValue': 1.7}, 'pgv': {'unit': 'kine', 'EWComponent': 0.07, 'NSComponent': 0.07, 'VComponent': 0.04, 'IntScaleValue': 0.1}, 'StationName': '西林', 'StationID': 'ESL', 'InfoStatus': 'observe', 'BackAzimuth': 63.33, 'EpicenterDistance': 33.87, 'SeismicIntensity': '1級', 'StationLatitude': 23.812, 'StationLongitude': 121.442, 'WaveImageURI': 'https://scweb.cwa.gov.tw/webdata/drawTrace/outcome/2024/2024510/1-ESL.gif'}, {'pga': {'unit': 'gal', 'EWComponent': 1.51, 'NSComponent': 1.25, 'VComponent': 1.08, 'IntScaleValue': 1.38}, 'pgv': {'unit': 'kine', 'EWComponent': 0.05, 'NSComponent': 0.05, 'VComponent': 0.03, 'IntScaleValue': 0.06}, 'StationName': '光復', 'StationID': 'EGFH', 'InfoStatus': 'observe', 'BackAzimuth': 45.59, 'EpicenterDistance': 44.41, 'SeismicIntensity': '1級', 'StationLatitude': 23.669, 'StationLongitude': 121.428, 'WaveImageURI': 'https://scweb.cwa.gov.tw/webdata/drawTrace/outcome/2024/2024510/1-EGFH.gif'}]}, {'AreaDesc': '苗栗縣地區', 'CountyName': '苗栗縣', 'InfoStatus': 'observe', 'AreaIntensity': '1級', 'EqStation': [{'StationName': '三義', 'StationID': 'NSY', 'BackAzimuth': 117.68, 'EpicenterDistance': 111.18, 'SeismicIntensity': '1級', 'StationLatitude': 24.414, 'StationLongitude': 120.77}]}, {'AreaDesc': '宜蘭縣地區', 'CountyName': '宜蘭縣', 'InfoStatus': 'observe', 'AreaIntensity': '2級', 'EqStation': [{'pga': {'unit': 'gal', 'EWComponent': 3.3, 'NSComponent': 3.48, 'VComponent': 2.34, 'IntScaleValue': 3.99}, 'pgv': {'unit': 'kine', 'EWComponent': 0.12, 'NSComponent': 0.11, 'VComponent': 0.08, 'IntScaleValue': 0.15}, 'StationName': '澳花', 'StationID': 'EAH', 'InfoStatus': 'observe', 'BackAzimuth': 180.07, 'EpicenterDistance': 42.2, 'SeismicIntensity': '2級', 'StationLatitude': 24.329, 'StationLongitude': 121.739, 'WaveImageURI': 'https://scweb.cwa.gov.tw/webdata/drawTrace/outcome/2024/2024510/2-EAH.gif'}, {'pga': {'unit': 'gal', 'EWComponent': 5.33, 'NSComponent': 5.76, 'VComponent': 1.77, 'IntScaleValue': 5.43}, 'pgv': {'unit': 'kine', 'EWComponent': 0.11, 'NSComponent': 0.14, 'VComponent': 0.04, 'IntScaleValue': 0.15}, 'StationName': '南澳', 'StationID': 'ENA', 'InfoStatus': 'observe', 'BackAzimuth': 181.12, 'EpicenterDistance': 52.93, 'SeismicIntensity': '2級', 'StationLatitude': 24.426, 'StationLongitude': 121.749, 'WaveImageURI': 'https://scweb.cwa.gov.tw/webdata/drawTrace/outcome/2024/2024510/2-ENA.gif'}, {'pga': {'unit': 'gal', 'EWComponent': 2.89, 'NSComponent': 2.98, 'VComponent': 2.23, 'IntScaleValue': 2.69}, 'pgv': {'unit': 'kine', 'EWComponent': 0.09, 'NSComponent': 0.09, 'VComponent': 0.07, 'IntScaleValue': 0.11}, 'StationName': '武塔', 'StationID': 'EWT', 'InfoStatus': 'observe', 'BackAzimuth': 184.17, 'EpicenterDistance': 55.18, 'SeismicIntensity': '2級', 'StationLatitude': 24.445, 'StationLongitude': 121.778, 'WaveImageURI': 'https://scweb.cwa.gov.tw/webdata/drawTrace/outcome/2024/2024510/2-EWT.gif'}, {'pga': {'unit': 'gal', 'EWComponent': 1.86, 'NSComponent': 2.19, 'VComponent': 0.81, 'IntScaleValue': 2.66}, 'pgv': {'unit': 'kine', 'EWComponent': 0.07, 'NSComponent': 0.09, 'VComponent': 0.04, 'IntScaleValue': 0.1}, 'StationName': '南山', 'StationID': 'NNS', 'InfoStatus': 'observe', 'BackAzimuth': 146.17, 'EpicenterDistance': 65.24, 'SeismicIntensity': '2級', 'StationLatitude': 24.437, 'StationLongitude': 121.381, 'WaveImageURI': 'https://scweb.cwa.gov.tw/webdata/drawTrace/outcome/2024/2024510/2-NNS.gif'}, {'pga': {'unit': 'gal', 'EWComponent': 0.86, 'NSComponent': 0.54, 'VComponent': 0.35, 'IntScaleValue': 0.82}, 'pgv': {'unit': 'kine', 'EWComponent': 0.03, 'NSComponent': 0.02, 'VComponent': 0.01, 'IntScaleValue': 0.03}, 'StationName': '蘇澳', 'StationID': 'TWC', 'InfoStatus': 'observe', 'BackAzimuth': 189.55, 'EpicenterDistance': 74.17, 'SeismicIntensity': '1級', 'StationLatitude': 24.608, 'StationLongitude': 121.86, 'WaveImageURI': 'https://scweb.cwa.gov.tw/webdata/drawTrace/outcome/2024/2024510/1-TWC.gif'}, {'pga': {'unit': 'gal', 'EWComponent': 1.24, 'NSComponent': 0.83, 'VComponent': 0.74, 'IntScaleValue': 1.53}, 'pgv': {'unit': 'kine', 'EWComponent': 0.05, 'NSComponent': 0.04, 'VComponent': 0.03, 'IntScaleValue': 0.07}, 'StationName': '冬山', 'StationID': 'NDS', 'InfoStatus': 'observe', 'BackAzimuth': 178.31, 'EpicenterDistance': 76.04, 'SeismicIntensity': '1級', 'StationLatitude': 24.634, 'StationLongitude': 121.717, 'WaveImageURI': 'https://scweb.cwa.gov.tw/webdata/drawTrace/outcome/2024/2024510/1-NDS.gif'}, {'pga': {'unit': 'gal', 'EWComponent': 0.84, 'NSComponent': 1.35, 'VComponent': 0.38, 'IntScaleValue': 1.18}, 'pgv': {'unit': 'kine', 'EWComponent': 0.02, 'NSComponent': 0.05, 'VComponent': 0.02, 'IntScaleValue': 0.05}, 'StationName': '牛鬥', 'StationID': 'ENT', 'InfoStatus': 'observe', 'BackAzimuth': 167.63, 'EpicenterDistance': 78.25, 'SeismicIntensity': '1級', 'StationLatitude': 24.638, 'StationLongitude': 121.574, 'WaveImageURI': 'https://scweb.cwa.gov.tw/webdata/drawTrace/outcome/2024/2024510/1-ENT.gif'}, {'StationName': '內城', 'StationID': 'TWE', 'BackAzimuth': 176.2, 'EpicenterDistance': 85.53, 'SeismicIntensity': '1級', 'StationLatitude': 24.718, 'StationLongitude': 121.683}]}, {'AreaDesc': '最大震度2級地區', 'CountyName': '宜蘭縣、南投縣', 'AreaIntensity': '2級', 'EqStation': []}]}}, {'EarthquakeNo': 113509, 'ReportType': '地震報告', 'ReportColor': '綠色', 'ReportContent': '12/08-03:44花蓮縣近海發生規模4.4有感地震，最大震度花蓮縣鹽寮、花蓮縣花蓮市4級。', 'ReportImageURI': 'https://scweb.cwa.gov.tw/webdata/OLDEQ/202412/2024120803444944509_H.png', 'ReportRemark': '本報告係中央氣象署地震觀測網即時地震資料地震速報之結果。', 'Web': 'https://scweb.cwa.gov.tw/zh-tw/earthquake/details/2024120803444944509', 'ShakemapImageURI': 'https://scweb.cwa.gov.tw/webdata/drawTrace/plotContour/2024/2024509i.png', 'EarthquakeInfo': {'OriginTime': '2024-12-08 03:44:49', 'Source': '中央氣象署', 'FocalDepth': 10.0, 'Epicenter': {'Location': '花蓮縣政府南方  12.2  公里 (位於花蓮縣近海)', 'EpicenterLatitude': 23.88, 'EpicenterLongitude': 121.61}, 'EarthquakeMagnitude': {'MagnitudeType': '芮氏規模', 'MagnitudeValue': 4.4}}, 'Intensity': {'ShakingArea': [{'AreaDesc': '南投縣地區', 'CountyName': '南投縣', 'InfoStatus': 'observe', 'AreaIntensity': '2級', 'EqStation': [{'pga': {'unit': 'gal', 'EWComponent': 3.04, 'NSComponent': 2.64, 'VComponent': 0.89, 'IntScaleValue': 3.08}, 'pgv': {'unit': 'kine', 'EWComponent': 0.12, 'NSComponent': 0.1, 'VComponent': 0.04, 'IntScaleValue': 0.13}, 'StationName': '合歡山', 'StationID': 'WHF', 'InfoStatus': 'observe', 'BackAzimuth': 130.57, 'EpicenterDistance': 44.68, 'SeismicIntensity': '2級', 'StationLatitude': 24.143, 'StationLongitude': 121.273, 'WaveImageURI': 'https://scweb.cwa.gov.tw/webdata/drawTrace/outcome/2024/2024509/2-WHF.gif'}, {'pga': {'unit': 'gal', 'EWComponent': 1.95, 'NSComponent': 1.93, 'VComponent': 1.12, 'IntScaleValue': 2.4}, 'pgv': {'unit': 'kine', 'EWComponent': 0.1, 'NSComponent': 0.06, 'VComponent': 0.03, 'IntScaleValue': 0.1}, 'StationName': '奧萬大', 'StationID': 'OWD', 'InfoStatus': 'observe', 'BackAzimuth': 100.48, 'EpicenterDistance': 44.54, 'SeismicIntensity': '1級', 'StationLatitude': 23.955, 'StationLongitude': 121.176, 'WaveImageURI': 'https://scweb.cwa.gov.tw/webdata/drawTrace/outcome/2024/2024509/1-OWD.gif'}, {'pga': {'unit': 'gal', 'EWComponent': 1.15, 'NSComponent': 0.55, 'VComponent': 0.29, 'IntScaleValue': 1.16}, 'pgv': {'unit': 'kine', 'EWComponent': 0.06, 'NSComponent': 0.04, 'VComponent': 0.02, 'IntScaleValue': 0.06}, 'StationName': '日月潭', 'StationID': 'SML', 'InfoStatus': 'observe', 'BackAzimuth': 89.98, 'EpicenterDistance': 71.07, 'SeismicIntensity': '1級', 'StationLatitude': 23.881, 'StationLongitude': 120.908, 'WaveImageURI': 'https://scweb.cwa.gov.tw/webdata/drawTrace/outcome/2024/2024509/1-SML.gif'}]}, {'AreaDesc': '臺中市地區', 'CountyName': '臺中市', 'InfoStatus': 'observe', 'AreaIntensity': '1級', 'EqStation': [{'pga': {'unit': 'gal', 'EWComponent': 1.19, 'NSComponent': 1.06, 'VComponent': 0.5, 'IntScaleValue': 1.16}, 'pgv': {'unit': 'kine', 'EWComponent': 0.05, 'NSComponent': 0.06, 'VComponent': 0.03, 'IntScaleValue': 0.06}, 'StationName': '梨山', 'StationID': 'FUSS', 'InfoStatus': 'observe', 'BackAzimuth': 137.77, 'EpicenterDistance': 54.84, 'SeismicIntensity': '1級', 'StationLatitude': 24.248, 'StationLongitude': 121.244, 'WaveImageURI': 'https://scweb.cwa.gov.tw/webdata/drawTrace/outcome/2024/2024509/1-FUSS.gif'}, {'pga': {'unit': 'gal', 'EWComponent': 0.88, 'NSComponent': 1.31, 'VComponent': 0.35, 'IntScaleValue': 1.33}, 'pgv': {'unit': 'kine', 'EWComponent': 0.04, 'NSComponent': 0.06, 'VComponent': 0.02, 'IntScaleValue': 0.06}, 'StationName': '德基', 'StationID': 'TWT', 'InfoStatus': 'observe', 'BackAzimuth': 132.1, 'EpicenterDistance': 60.9, 'SeismicIntensity': '1級', 'StationLatitude': 24.25, 'StationLongitude': 121.162, 'WaveImageURI': 'https://scweb.cwa.gov.tw/webdata/drawTrace/outcome/2024/2024509/1-TWT.gif'}]}, {'AreaDesc': '花蓮縣地區', 'CountyName': '花蓮縣', 'InfoStatus': 'observe', 'AreaIntensity': '4級', 'EqStation': [{'pga': {'unit': 'gal', 'EWComponent': 270.4, 'NSComponent': 176.0, 'VComponent': 90.51, 'IntScaleValue': 284.19}, 'pgv': {'unit': 'kine', 'EWComponent': 8.69, 'NSComponent': 6.42, 'VComponent': 4.28, 'IntScaleValue': 9.83}, 'StationName': '鹽寮', 'StationID': 'EYL', 'InfoStatus': 'observe', 'BackAzimuth': 169.45, 'EpicenterDistance': 2.48, 'SeismicIntensity': '4級', 'StationLatitude': 23.904, 'StationLongitude': 121.602, 'WaveImageURI': 'https://scweb.cwa.gov.tw/webdata/drawTrace/outcome/2024/2024509/4-EYL.gif'}, {'pga': {'unit': 'gal', 'EWComponent': 25.33, 'NSComponent': 42.88, 'VComponent': 8.31, 'IntScaleValue': 42.11}, 'pgv': {'unit': 'kine', 'EWComponent': 1.3, 'NSComponent': 1.7, 'VComponent': 0.31, 'IntScaleValue': 1.84}, 'StationName': '花蓮市', 'StationID': 'HWA', 'InfoStatus': 'observe', 'BackAzimuth': 184.28, 'EpicenterDistance': 10.41, 'SeismicIntensity': '4級', 'StationLatitude': 23.975, 'StationLongitude': 121.614, 'WaveImageURI': 'https://scweb.cwa.gov.tw/webdata/drawTrace/outcome/2024/2024509/4-HWA.gif'}, {'pga': {'unit': 'gal', 'EWComponent': 14.36, 'NSComponent': 12.73, 'VComponent': 4.39, 'IntScaleValue': 10.37}, 'pgv': {'unit': 'kine', 'EWComponent': 0.24, 'NSComponent': 0.21, 'VComponent': 0.12, 'IntScaleValue': 0.31}, 'StationName': '西林', 'StationID': 'ESL', 'InfoStatus': 'observe', 'BackAzimuth': 65.3, 'EpicenterDistance': 18.45, 'SeismicIntensity': '3級', 'StationLatitude': 23.812, 'StationLongitude': 121.442, 'WaveImageURI': 'https://scweb.cwa.gov.tw/webdata/drawTrace/outcome/2024/2024509/3-ESL.gif'}, {'pga': {'unit': 'gal', 'EWComponent': 2.86, 'NSComponent': 2.47, 'VComponent': 1.69, 'IntScaleValue': 3.56}, 'pgv': {'unit': 'kine', 'EWComponent': 0.12, 'NSComponent': 0.13, 'VComponent': 0.07, 'IntScaleValue': 0.16}, 'StationName': '水璉', 'StationID': 'SHUL', 'InfoStatus': 'observe', 'BackAzimuth': 23.0, 'EpicenterDistance': 11.33, 'SeismicIntensity': '2級', 'StationLatitude': 23.788, 'StationLongitude': 121.563, 'WaveImageURI': 'https://scweb.cwa.gov.tw/webdata/drawTrace/outcome/2024/2024509/2-SHUL.gif'}, {'pga': {'unit': 'gal', 'EWComponent': 11.73, 'NSComponent': 11.62, 'VComponent': 7.65, 'IntScaleValue': 6.37}, 'pgv': {'unit': 'kine', 'EWComponent': 0.28, 'NSComponent': 0.21, 'VComponent': 0.2, 'IntScaleValue': 0.32}, 'StationName': '銅門', 'StationID': 'ETM', 'InfoStatus': 'observe', 'BackAzimuth': 129.06, 'EpicenterDistance': 14.86, 'SeismicIntensity': '2級', 'StationLatitude': 23.966, 'StationLongitude': 121.493, 'WaveImageURI': 'https://scweb.cwa.gov.tw/webdata/drawTrace/outcome/2024/2024509/2-ETM.gif'}, {'pga': {'unit': 'gal', 'EWComponent': 4.33, 'NSComponent': 4.63, 'VComponent': 1.48, 'IntScaleValue': 4.5}, 'pgv': {'unit': 'kine', 'EWComponent': 0.15, 'NSComponent': 0.22, 'VComponent': 0.07, 'IntScaleValue': 0.22}, 'StationName': '磯崎', 'StationID': 'EGC', 'InfoStatus': 'observe', 'BackAzimuth': 17.21, 'EpicenterDistance': 20.17, 'SeismicIntensity': '2級', 'StationLatitude': 23.708, 'StationLongitude': 121.548, 'WaveImageURI': 'https://scweb.cwa.gov.tw/webdata/drawTrace/outcome/2024/2024509/2-EGC.gif'}, {'pga': {'unit': 'gal', 'EWComponent': 3.03, 'NSComponent': 2.85, 'VComponent': 2.17, 'IntScaleValue': 3.86}, 'pgv': {'unit': 'kine', 'EWComponent': 0.1, 'NSComponent': 0.12, 'VComponent': 0.06, 'IntScaleValue': 0.14}, 'StationName': '西寶', 'StationID': 'ETLH', 'InfoStatus': 'observe', 'BackAzimuth': 160.69, 'EpicenterDistance': 38.25, 'SeismicIntensity': '2級', 'StationLatitude': 24.207, 'StationLongitude': 121.482, 'WaveImageURI': 'https://scweb.cwa.gov.tw/webdata/drawTrace/outcome/2024/2024509/2-ETLH.gif'}, {'pga': {'unit': 'gal', 'EWComponent': 1.18, 'NSComponent': 1.06, 'VComponent': 0.96, 'IntScaleValue': 1.07}, 'pgv': {'unit': 'kine', 'EWComponent': 0.03, 'NSComponent': 0.03, 'VComponent': 0.02, 'IntScaleValue': 0.04}, 'StationName': '秀林', 'StationID': 'TWD', 'InfoStatus': 'observe', 'BackAzimuth': 179.56, 'EpicenterDistance': 22.16, 'SeismicIntensity': '1級', 'StationLatitude': 24.081, 'StationLongitude': 121.605, 'WaveImageURI': 'https://scweb.cwa.gov.tw/webdata/drawTrace/outcome/2024/2024509/1-TWD.gif'}, {'pga': {'unit': 'gal', 'EWComponent': 1.53, 'NSComponent': 1.29, 'VComponent': 1.32, 'IntScaleValue': 1.11}, 'pgv': {'unit': 'kine', 'EWComponent': 0.05, 'NSComponent': 0.05, 'VComponent': 0.02, 'IntScaleValue': 0.06}, 'StationName': '光復', 'StationID': 'EGFH', 'InfoStatus': 'observe', 'BackAzimuth': 37.67, 'EpicenterDistance': 29.8, 'SeismicIntensity': '1級', 'StationLatitude': 23.669, 'StationLongitude': 121.428, 'WaveImageURI': 'https://scweb.cwa.gov.tw/webdata/drawTrace/outcome/2024/2024509/1-EGFH.gif'}, {'pga': {'unit': 'gal', 'EWComponent': 3.12, 'NSComponent': 2.88, 'VComponent': 0.79, 'IntScaleValue': 2.12}, 'pgv': {'unit': 'kine', 'EWComponent': 0.06, 'NSComponent': 0.06, 'VComponent': 0.02, 'IntScaleValue': 0.07}, 'StationName': '太魯閣', 'StationID': 'ETL', 'InfoStatus': 'observe', 'BackAzimuth': 183.17, 'EpicenterDistance': 30.8, 'SeismicIntensity': '1級', 'StationLatitude': 24.159, 'StationLongitude': 121.623, 'WaveImageURI': 'https://scweb.cwa.gov.tw/webdata/drawTrace/outcome/2024/2024509/1-ETL.gif'}]}, {'AreaDesc': '最大震度2級地區', 'CountyName': '南投縣', 'AreaIntensity': '2級', 'EqStation': []}, {'AreaDesc': '最大震度1級地區', 'CountyName': '臺中市、宜蘭縣', 'AreaIntensity': '1級', 'EqStation': []}, {'AreaDesc': '最大震度4級地區', 'CountyName': '花蓮縣', 'AreaIntensity': '4級', 'EqStation': []}, {'AreaDesc': '宜蘭縣地區', 'CountyName': '宜蘭縣', 'InfoStatus': 'observe', 'AreaIntensity': '1級', 'EqStation': [{'pga': {'unit': 'gal', 'EWComponent': 1.22, 'NSComponent': 1.03, 'VComponent': 0.58, 'IntScaleValue': 0.89}, 'pgv': {'unit': 'kine', 'EWComponent': 0.02, 'NSComponent': 0.03, 'VComponent': 0.01, 'IntScaleValue': 0.03}, 'StationName': '南澳', 'StationID': 'ENA', 'InfoStatus': 'observe', 'BackAzimuth': 193.51, 'EpicenterDistance': 62.12, 'SeismicIntensity': '1級', 'StationLatitude': 24.426, 'StationLongitude': 121.749, 'WaveImageURI': 'https://scweb.cwa.gov.tw/webdata/drawTrace/outcome/2024/2024509/1-ENA.gif'}, {'StationName': '大同', 'StationID': 'NDT', 'BackAzimuth': 173.24, 'EpicenterDistance': 80.56, 'SeismicIntensity': '1級', 'StationLatitude': 24.603, 'StationLongitude': 121.513}]}]}}, {'EarthquakeNo': 113508, 'ReportType': '地震報告', 'ReportColor': '綠色', 'ReportContent': '12/06-06:04花蓮縣近海發生規模4.3有感地震，最大震度花蓮縣鹽寮3級。', 'ReportImageURI': 'https://scweb.cwa.gov.tw/webdata/OLDEQ/202412/2024120606045243508_H.png', 'ReportRemark': '本報告係中央氣象署地震觀測網即時地震資料地震速報之結果。', 'Web': 'https://scweb.cwa.gov.tw/zh-tw/earthquake/details/2024120606045243508', 'ShakemapImageURI': 'https://scweb.cwa.gov.tw/webdata/drawTrace/plotContour/2024/2024508i.png', 'EarthquakeInfo': {'OriginTime': '2024-12-06 06:04:52', 'Source': '中央氣象署', 'FocalDepth': 21.6, 'Epicenter': {'Location': '花蓮縣政府南方  21.9  公里 (位於花蓮縣近海)', 'EpicenterLatitude': 23.79, 'EpicenterLongitude': 121.64}, 'EarthquakeMagnitude': {'MagnitudeType': '芮氏規模', 'MagnitudeValue': 4.3}}, 'Intensity': {'ShakingArea': [{'AreaDesc': '南投縣地區', 'CountyName': '南投縣', 'InfoStatus': 'observe', 'AreaIntensity': '1級', 'EqStation': [{'pga': {'unit': 'gal', 'EWComponent': 1.71, 'NSComponent': 1.48, 'VComponent': 1.58, 'IntScaleValue': 1.6}, 'pgv': {'unit': 'kine', 'EWComponent': 0.03, 'NSComponent': 0.03, 'VComponent': 0.03, 'IntScaleValue': 0.04}, 'StationName': '奧萬大', 'StationID': 'OWD', 'InfoStatus': 'observe', 'BackAzimuth': 110.42, 'EpicenterDistance': 50.94, 'SeismicIntensity': '1級', 'StationLatitude': 23.955, 'StationLongitude': 121.176, 'WaveImageURI': 'https://scweb.cwa.gov.tw/webdata/drawTrace/outcome/2024/2024508/1-OWD.gif'}, {'pga': {'unit': 'gal', 'EWComponent': 2.8, 'NSComponent': 1.74, 'VComponent': 0.92, 'IntScaleValue': 2.29}, 'pgv': {'unit': 'kine', 'EWComponent': 0.09, 'NSComponent': 0.05, 'VComponent': 0.03, 'IntScaleValue': 0.09}, 'StationName': '合歡山', 'StationID': 'WHF', 'InfoStatus': 'observe', 'BackAzimuth': 135.64, 'EpicenterDistance': 54.17, 'SeismicIntensity': '1級', 'StationLatitude': 24.143, 'StationLongitude': 121.273, 'WaveImageURI': 'https://scweb.cwa.gov.tw/webdata/drawTrace/outcome/2024/2024508/1-WHF.gif'}, {'pga': {'unit': 'gal', 'EWComponent': 1.37, 'NSComponent': 1.51, 'VComponent': 0.32, 'IntScaleValue': 1.72}, 'pgv': {'unit': 'kine', 'EWComponent': 0.07, 'NSComponent': 0.08, 'VComponent': 0.02, 'IntScaleValue': 0.09}, 'StationName': '玉山', 'StationID': 'YUS', 'InfoStatus': 'observe', 'BackAzimuth': 64.02, 'EpicenterDistance': 77.77, 'SeismicIntensity': '1級', 'StationLatitude': 23.487, 'StationLongitude': 120.959, 'WaveImageURI': 'https://scweb.cwa.gov.tw/webdata/drawTrace/outcome/2024/2024508/1-YUS.gif'}]}, {'AreaDesc': '最大震度3級地區', 'CountyName': '花蓮縣', 'AreaIntensity': '3級', 'EqStation': []}, {'AreaDesc': '最大震度1級地區', 'CountyName': '南投縣、臺東縣、臺中市、宜蘭縣、桃園市、彰化縣', 'AreaIntensity': '1級', 'EqStation': []}, {'AreaDesc': '彰化縣地區', 'CountyName': '彰化縣', 'InfoStatus': 'observe', 'AreaIntensity': '1級', 'EqStation': [{'pga': {'unit': 'gal', 'EWComponent': 1.02, 'NSComponent': 0.89, 'VComponent': 0.43, 'IntScaleValue': 1.0}, 'pgv': {'unit': 'kine', 'EWComponent': 0.03, 'NSComponent': 0.02, 'VComponent': 0.01, 'IntScaleValue': 0.04}, 'StationName': '彰化市', 'StationID': 'WCHH', 'InfoStatus': 'observe', 'BackAzimuth': 105.96, 'EpicenterDistance': 115.02, 'SeismicIntensity': '1級', 'StationLatitude': 24.079, 'StationLongitude': 120.558, 'WaveImageURI': 'https://scweb.cwa.gov.tw/webdata/drawTrace/outcome/2024/2024508/1-WCHH.gif'}, {'pga': {'unit': 'gal', 'EWComponent': 0.67, 'NSComponent': 1.04, 'VComponent': 0.31, 'IntScaleValue': 1.1}, 'pgv': {'unit': 'kine', 'EWComponent': 0.02, 'NSComponent': 0.05, 'VComponent': 0.01, 'IntScaleValue': 0.05}, 'StationName': '大城', 'StationID': 'WTC', 'InfoStatus': 'observe', 'BackAzimuth': 93.1, 'EpicenterDistance': 138.29, 'SeismicIntensity': '1級', 'StationLatitude': 23.862, 'StationLongitude': 120.289, 'WaveImageURI': 'https://scweb.cwa.gov.tw/webdata/drawTrace/outcome/2024/2024508/1-WTC.gif'}]}, {'AreaDesc': '桃園市地區', 'CountyName': '桃園市', 'InfoStatus': 'observe', 'AreaIntensity': '1級', 'EqStation': [{'StationName': '三光', 'StationID': 'NSK', 'BackAzimuth': 163.86, 'EpicenterDistance': 101.58, 'SeismicIntensity': '1級', 'StationLatitude': 24.674, 'StationLongitude': 121.367}]}, {'AreaDesc': '臺中市地區', 'CountyName': '臺中市', 'InfoStatus': 'observe', 'AreaIntensity': '1級', 'EqStation': [{'pga': {'unit': 'gal', 'EWComponent': 0.72, 'NSComponent': 0.75, 'VComponent': 0.66, 'IntScaleValue': 0.81}, 'pgv': {'unit': 'kine', 'EWComponent': 0.02, 'NSComponent': 0.06, 'VComponent': 0.03, 'IntScaleValue': 0.06}, 'StationName': '梨山', 'StationID': 'FUSS', 'InfoStatus': 'observe', 'BackAzimuth': 140.95, 'EpicenterDistance': 64.74, 'SeismicIntensity': '1級', 'StationLatitude': 24.248, 'StationLongitude': 121.244, 'WaveImageURI': 'https://scweb.cwa.gov.tw/webdata/drawTrace/outcome/2024/2024508/1-FUSS.gif'}]}, {'AreaDesc': '花蓮縣地區', 'CountyName': '花蓮縣', 'InfoStatus': 'observe', 'AreaIntensity': '3級', 'EqStation': [{'pga': {'unit': 'gal', 'EWComponent': 9.18, 'NSComponent': 9.28, 'VComponent': 4.55, 'IntScaleValue': 10.44}, 'pgv': {'unit': 'kine', 'EWComponent': 0.27, 'NSComponent': 0.28, 'VComponent': 0.15, 'IntScaleValue': 0.37}, 'StationName': '鹽寮', 'StationID': 'EYL', 'InfoStatus': 'observe', 'BackAzimuth': 160.13, 'EpicenterDistance': 12.88, 'SeismicIntensity': '3級', 'StationLatitude': 23.904, 'StationLongitude': 121.602, 'WaveImageURI': 'https://scweb.cwa.gov.tw/webdata/drawTrace/outcome/2024/2024508/3-EYL.gif'}, {'pga': {'unit': 'gal', 'EWComponent': 7.3, 'NSComponent': 8.46, 'VComponent': 2.76, 'IntScaleValue': 8.71}, 'pgv': {'unit': 'kine', 'EWComponent': 0.22, 'NSComponent': 0.24, 'VComponent': 0.04, 'IntScaleValue': 0.25}, 'StationName': '磯崎', 'StationID': 'EGC', 'InfoStatus': 'observe', 'BackAzimuth': 45.86, 'EpicenterDistance': 13.79, 'SeismicIntensity': '3級', 'StationLatitude': 23.708, 'StationLongitude': 121.548, 'WaveImageURI': 'https://scweb.cwa.gov.tw/webdata/drawTrace/outcome/2024/2024508/3-EGC.gif'}, {'pga': {'unit': 'gal', 'EWComponent': 3.52, 'NSComponent': 4.9, 'VComponent': 1.38, 'IntScaleValue': 5.0}, 'pgv': {'unit': 'kine', 'EWComponent': 0.22, 'NSComponent': 0.18, 'VComponent': 0.05, 'IntScaleValue': 0.23}, 'StationName': '花蓮市', 'StationID': 'HWA', 'InfoStatus': 'observe', 'BackAzimuth': 171.09, 'EpicenterDistance': 20.3, 'SeismicIntensity': '2級', 'StationLatitude': 23.975, 'StationLongitude': 121.614, 'WaveImageURI': 'https://scweb.cwa.gov.tw/webdata/drawTrace/outcome/2024/2024508/2-HWA.gif'}, {'pga': {'unit': 'gal', 'EWComponent': 4.0, 'NSComponent': 4.5, 'VComponent': 3.07, 'IntScaleValue': 3.01}, 'pgv': {'unit': 'kine', 'EWComponent': 0.1, 'NSComponent': 0.14, 'VComponent': 0.06, 'IntScaleValue': 0.15}, 'StationName': '銅門', 'StationID': 'ETM', 'InfoStatus': 'observe', 'BackAzimuth': 140.91, 'EpicenterDistance': 24.53, 'SeismicIntensity': '2級', 'StationLatitude': 23.966, 'StationLongitude': 121.493, 'WaveImageURI': 'https://scweb.cwa.gov.tw/webdata/drawTrace/outcome/2024/2024508/2-ETM.gif'}, {'pga': {'unit': 'gal', 'EWComponent': 0.98, 'NSComponent': 0.81, 'VComponent': 0.56, 'IntScaleValue': 0.89}, 'pgv': {'unit': 'kine', 'EWComponent': 0.04, 'NSComponent': 0.02, 'VComponent': 0.01, 'IntScaleValue': 0.04}, 'StationName': '水璉', 'StationID': 'SHUL', 'InfoStatus': 'observe', 'BackAzimuth': 84.81, 'EpicenterDistance': 8.39, 'SeismicIntensity': '1級', 'StationLatitude': 23.788, 'StationLongitude': 121.563, 'WaveImageURI': 'https://scweb.cwa.gov.tw/webdata/drawTrace/outcome/2024/2024508/1-SHUL.gif'}, {'pga': {'unit': 'gal', 'EWComponent': 3.32, 'NSComponent': 3.09, 'VComponent': 2.51, 'IntScaleValue': 2.02}, 'pgv': {'unit': 'kine', 'EWComponent': 0.09, 'NSComponent': 0.07, 'VComponent': 0.04, 'IntScaleValue': 0.1}, 'StationName': '西林', 'StationID': 'ESL', 'InfoStatus': 'observe', 'BackAzimuth': 95.41, 'EpicenterDistance': 20.78, 'SeismicIntensity': '1級', 'StationLatitude': 23.812, 'StationLongitude': 121.442, 'WaveImageURI': 'https://scweb.cwa.gov.tw/webdata/drawTrace/outcome/2024/2024508/1-ESL.gif'}, {'pga': {'unit': 'gal', 'EWComponent': 1.9, 'NSComponent': 3.36, 'VComponent': 0.98, 'IntScaleValue': 1.92}, 'pgv': {'unit': 'kine', 'EWComponent': 0.04, 'NSComponent': 0.06, 'VComponent': 0.01, 'IntScaleValue': 0.07}, 'StationName': '太魯閣', 'StationID': 'ETL', 'InfoStatus': 'observe', 'BackAzimuth': 176.86, 'EpicenterDistance': 40.49, 'SeismicIntensity': '1級', 'StationLatitude': 24.159, 'StationLongitude': 121.623, 'WaveImageURI': 'https://scweb.cwa.gov.tw/webdata/drawTrace/outcome/2024/2024508/1-ETL.gif'}, {'pga': {'unit': 'gal', 'EWComponent': 1.16, 'NSComponent': 1.09, 'VComponent': 0.52, 'IntScaleValue': 0.84}, 'pgv': {'unit': 'kine', 'EWComponent': 0.02, 'NSComponent': 0.02, 'VComponent': 0.01, 'IntScaleValue': 0.02}, 'StationName': '紅葉', 'StationID': 'EHY', 'InfoStatus': 'observe', 'BackAzimuth': 44.89, 'EpicenterDistance': 45.5, 'SeismicIntensity': '1級', 'StationLatitude': 23.504, 'StationLongitude': 121.33, 'WaveImageURI': 'https://scweb.cwa.gov.tw/webdata/drawTrace/outcome/2024/2024508/1-EHY.gif'}, {'pga': {'unit': 'gal', 'EWComponent': 2.35, 'NSComponent': 1.82, 'VComponent': 1.79, 'IntScaleValue': 2.13}, 'pgv': {'unit': 'kine', 'EWComponent': 0.05, 'NSComponent': 0.06, 'VComponent': 0.05, 'IntScaleValue': 0.07}, 'StationName': '西寶', 'StationID': 'ETLH', 'InfoStatus': 'observe', 'BackAzimuth': 160.1, 'EpicenterDistance': 48.67, 'SeismicIntensity': '1級', 'StationLatitude': 24.207, 'StationLongitude': 121.482, 'WaveImageURI': 'https://scweb.cwa.gov.tw/webdata/drawTrace/outcome/2024/2024508/1-ETLH.gif'}, {'pga': {'unit': 'gal', 'EWComponent': 3.25, 'NSComponent': 1.78, 'VComponent': 1.87, 'IntScaleValue': 2.46}, 'pgv': {'unit': 'kine', 'EWComponent': 0.07, 'NSComponent': 0.05, 'VComponent': 0.04, 'IntScaleValue': 0.07}, 'StationName': '光復', 'StationID': 'EGFH', 'InfoStatus': 'observe', 'BackAzimuth': 57.85, 'EpicenterDistance': 26.15, 'SeismicIntensity': '1級', 'StationLatitude': 23.669, 'StationLongitude': 121.428, 'WaveImageURI': 'https://scweb.cwa.gov.tw/webdata/drawTrace/outcome/2024/2024508/1-EGFH.gif'}, {'StationName': '和平', 'StationID': 'EHP', 'BackAzimuth': 190.57, 'EpicenterDistance': 58.09, 'SeismicIntensity': '1級', 'StationLatitude': 24.309, 'StationLongitude': 121.749}, {'pga': {'unit': 'gal', 'EWComponent': 0.89, 'NSComponent': 0.7, 'VComponent': 0.29, 'IntScaleValue': 0.91}, 'pgv': {'unit': 'kine', 'EWComponent': 0.03, 'NSComponent': 0.03, 'VComponent': 0.01, 'IntScaleValue': 0.03}, 'StationName': '富里', 'StationID': 'FULB', 'InfoStatus': 'observe', 'BackAzimuth': 28.47, 'EpicenterDistance': 75.16, 'SeismicIntensity': '1級', 'StationLatitude': 23.199, 'StationLongitude': 121.294, 'WaveImageURI': 'https://scweb.cwa.gov.tw/webdata/drawTrace/outcome/2024/2024508/1-FULB.gif'}]}, {'AreaDesc': '宜蘭縣地區', 'CountyName': '宜蘭縣', 'InfoStatus': 'observe', 'AreaIntensity': '1級', 'EqStation': [{'pga': {'unit': 'gal', 'EWComponent': 0.92, 'NSComponent': 0.77, 'VComponent': 0.66, 'IntScaleValue': 0.89}, 'pgv': {'unit': 'kine', 'EWComponent': 0.04, 'NSComponent': 0.03, 'VComponent': 0.02, 'IntScaleValue': 0.04}, 'StationName': '武塔', 'StationID': 'EWT', 'InfoStatus': 'observe', 'BackAzimuth': 190.65, 'EpicenterDistance': 73.46, 'SeismicIntensity': '1級', 'StationLatitude': 24.445, 'StationLongitude': 121.778, 'WaveImageURI': 'https://scweb.cwa.gov.tw/webdata/drawTrace/outcome/2024/2024508/1-EWT.gif'}, {'StationName': '南山', 'StationID': 'NNS', 'BackAzimuth': 159.43, 'EpicenterDistance': 76.21, 'SeismicIntensity': '1級', 'StationLatitude': 24.437, 'StationLongitude': 121.381}, {'StationName': '大同', 'StationID': 'NDT', 'BackAzimuth': 171.5, 'EpicenterDistance': 90.67, 'SeismicIntensity': '1級', 'StationLatitude': 24.603, 'StationLongitude': 121.513}]}, {'AreaDesc': '臺東縣地區', 'CountyName': '臺東縣', 'InfoStatus': 'observe', 'AreaIntensity': '1級', 'EqStation': [{'pga': {'unit': 'gal', 'EWComponent': 1.87, 'NSComponent': 2.23, 'VComponent': 0.82, 'IntScaleValue': 2.11}, 'pgv': {'unit': 'kine', 'EWComponent': 0.2, 'NSComponent': 0.05, 'VComponent': 0.02, 'IntScaleValue': 0.21}, 'StationName': '長濱', 'StationID': 'ECB', 'InfoStatus': 'observe', 'BackAzimuth': 20.43, 'EpicenterDistance': 56.58, 'SeismicIntensity': '1級', 'StationLatitude': 23.316, 'StationLongitude': 121.451, 'WaveImageURI': 'https://scweb.cwa.gov.tw/webdata/drawTrace/outcome/2024/2024508/1-ECB.gif'}, {'pga': {'unit': 'gal', 'EWComponent': 2.25, 'NSComponent': 2.14, 'VComponent': 0.98, 'IntScaleValue': 2.14}, 'pgv': {'unit': 'kine', 'EWComponent': 0.08, 'NSComponent': 0.05, 'VComponent': 0.03, 'IntScaleValue': 0.08}, 'StationName': '成功', 'StationID': 'CHK', 'InfoStatus': 'observe', 'BackAzimuth': 19.75, 'EpicenterDistance': 82.1, 'SeismicIntensity': '1級', 'StationLatitude': 23.098, 'StationLongitude': 121.373, 'WaveImageURI': 'https://scweb.cwa.gov.tw/webdata/drawTrace/outcome/2024/2024508/1-CHK.gif'}, {'pga': {'unit': 'gal', 'EWComponent': 1.59, 'NSComponent': 1.43, 'VComponent': 0.81, 'IntScaleValue': 1.43}, 'pgv': {'unit': 'kine', 'EWComponent': 0.04, 'NSComponent': 0.05, 'VComponent': 0.02, 'IntScaleValue': 0.06}, 'StationName': '東河', 'StationID': 'EDH', 'InfoStatus': 'observe', 'BackAzimuth': 20.91, 'EpicenterDistance': 97.6, 'SeismicIntensity': '1級', 'StationLatitude': 22.973, 'StationLongitude': 121.304, 'WaveImageURI': 'https://scweb.cwa.gov.tw/webdata/drawTrace/outcome/2024/2024508/1-EDH.gif'}]}]}}]}}\n"
          ]
        }
      ]
    },
    {
      "cell_type": "markdown",
      "source": [
        "### 3. AI Agent\n",
        "\n",
        "Combine two tools and then we can search the information of weather or earthquake by Gemini.\n",
        "\n",
        "將兩個工具結合，然後我們可以透過 Gemini 搜尋天氣或地震資訊。\n"
      ],
      "metadata": {
        "id": "xkf_qiFQLwYA"
      }
    },
    {
      "cell_type": "code",
      "source": [
        "system_instruction = \"\"\"\n",
        "請使用繁體中文直接回覆使用者的問題，\n",
        "縣市清單：宜蘭縣, 花蓮縣, 臺東縣, 澎湖縣, 金門縣, 連江縣, 臺北市, 新北市, 桃園市, 臺中市, 臺南市, 高雄市, 基隆市, 新竹縣, 新竹市, 苗栗縣, 彰化縣, 南投縣, 雲林縣, 嘉義縣, 嘉義市, 屏東縣',\n",
        "能夠查詢的工具如下：最近天氣、近期地震。\n",
        "\"\"\""
      ],
      "metadata": {
        "id": "-aMRcHBrMRv1"
      },
      "execution_count": 36,
      "outputs": []
    },
    {
      "cell_type": "code",
      "source": [
        "response = client.models.generate_content(\n",
        "    model='gemini-1.5-flash-8b',\n",
        "    contents=\"臺北市今天會很冷嗎？\",\n",
        "    config=types.GenerateContentConfig(\n",
        "        tools=[get_current_weather, get_previous_earthquake],\n",
        "        system_instruction=system_instruction\n",
        "    )\n",
        ")\n",
        "\n",
        "print(response.text)"
      ],
      "metadata": {
        "colab": {
          "base_uri": "https://localhost:8080/"
        },
        "id": "v3gpP6OlLyC4",
        "outputId": "193fafe8-bdb8-4797-abdc-c648a83ce97f"
      },
      "execution_count": 37,
      "outputs": [
        {
          "output_type": "stream",
          "name": "stdout",
          "text": [
            "臺北市今天預報會有陰短暫雨，最低溫度 18 度，感覺稍有寒意。  不會很冷，但要注意保暖。\n",
            "\n"
          ]
        }
      ]
    },
    {
      "cell_type": "code",
      "source": [
        "response = client.models.generate_content(\n",
        "    model='gemini-1.5-flash-8b',\n",
        "    contents=\"請告訴我最近花蓮有發生過地震嗎？\",\n",
        "    config=types.GenerateContentConfig(\n",
        "        tools=[get_current_weather, get_previous_earthquake],\n",
        "        system_instruction=system_instruction\n",
        "    )\n",
        ")\n",
        "\n",
        "print(response.text)"
      ],
      "metadata": {
        "colab": {
          "base_uri": "https://localhost:8080/"
        },
        "id": "WhHq6iB5L9HT",
        "outputId": "f3e8af50-a24e-417b-f880-c4db0ec2ac71"
      },
      "execution_count": 38,
      "outputs": [
        {
          "output_type": "stream",
          "name": "stdout",
          "text": [
            "是的，12月12日花蓮發生了規模4.6的有感地震，最大震度達3級。12月8日也發生規模4.4地震，最大震度達4級。\n",
            "\n"
          ]
        }
      ]
    }
  ]
}